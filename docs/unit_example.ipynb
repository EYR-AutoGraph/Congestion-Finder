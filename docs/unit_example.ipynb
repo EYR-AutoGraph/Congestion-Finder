{
 "cells": [
  {
   "cell_type": "markdown",
   "metadata": {},
   "source": [
    "# Congestion Finder | Unit Example"
   ]
  },
  {
   "cell_type": "markdown",
   "metadata": {},
   "source": [
    "This _Jupyter Notebook_ goes through all the steps of the _congestion finder_ module, with exception of the database connections. Each step is run seperately from the previous steps. Therefore, this **Congestion Finder | Unit Example** documents all classes, objects and functions in the module as individual units. Together with the **Congestion Finder | Integration Example**, it serves as the documentation for the module and allows developers to get familiar with the code."
   ]
  },
  {
   "cell_type": "markdown",
   "metadata": {},
   "source": [
    "## Initialisation"
   ]
  },
  {
   "cell_type": "markdown",
   "metadata": {},
   "source": [
    "The _Jupyter Notebook_ is initialised by loading all required modules and turning on logging."
   ]
  },
  {
   "cell_type": "markdown",
   "metadata": {},
   "source": [
    "### Imports"
   ]
  },
  {
   "cell_type": "markdown",
   "metadata": {},
   "source": [
    "The following modules are required for this _Jupyter Notebook_. The _congestion finder_ module lives in the parent directory of this _documentation_ directory, so that directory needs to be appended to the _system path_ to be able to load the module."
   ]
  },
  {
   "cell_type": "code",
   "execution_count": 1,
   "metadata": {},
   "outputs": [],
   "source": [
    "import numpy\n",
    "import matplotlib.pyplot\n",
    "import logging\n",
    "import io\n",
    "import re\n",
    "import ast\n",
    "import sys\n",
    "sys.path.append(\"../\")\n",
    "import congestionfinder\n",
    "import congestionfinder.bpsdetector\n",
    "import congestionfinder.road\n",
    "import congestionfinder.detection\n",
    "import congestionfinder.speedflow\n",
    "import congestionfinder.congestion\n",
    "import patchfinder.patch"
   ]
  },
  {
   "cell_type": "markdown",
   "metadata": {},
   "source": [
    "### Logging"
   ]
  },
  {
   "cell_type": "markdown",
   "metadata": {},
   "source": [
    "To see what is going on while the functions are called, logging is turned on. It is set to _debug_ level."
   ]
  },
  {
   "cell_type": "code",
   "execution_count": 2,
   "metadata": {},
   "outputs": [],
   "source": [
    "logger = logging.getLogger()\n",
    "logger.setLevel(logging.DEBUG)\n",
    "formatter = logging.Formatter(\"%(asctime)s - %(levelname)s - %(message)s\")\n",
    "consoleHandler = logging.StreamHandler()\n",
    "consoleHandler.setFormatter(formatter)\n",
    "logger.addHandler(consoleHandler)"
   ]
  },
  {
   "cell_type": "markdown",
   "metadata": {},
   "source": [
    "When running the _patch finder_ functions, it is also useful to extract specific logging information to build plots. Therefore, a second logger is introduced with a filter for these _patch finder_ functions. This logger writes directly into a string variable."
   ]
  },
  {
   "cell_type": "code",
   "execution_count": 3,
   "metadata": {},
   "outputs": [],
   "source": [
    "class PlotFilter(logging.Filter):\n",
    "    def filter(self, record):\n",
    "        return \"Found patches:\" in record.getMessage()\n",
    "\n",
    "log_capture_string = io.StringIO()\n",
    "variableHandler = logging.StreamHandler(log_capture_string)\n",
    "variableHandler.addFilter(PlotFilter())\n",
    "logger.addHandler(variableHandler)"
   ]
  },
  {
   "cell_type": "markdown",
   "metadata": {},
   "source": [
    "## Classes as Units"
   ]
  },
  {
   "cell_type": "markdown",
   "metadata": {},
   "source": [
    "There are multiple classes, objects and functions involved in finding _congestion_. To find out more about how these classes relate, please look at the **Congestion Finder | Integration Example**."
   ]
  },
  {
   "cell_type": "markdown",
   "metadata": {},
   "source": [
    "### BPS Detectors"
   ]
  },
  {
   "cell_type": "markdown",
   "metadata": {},
   "source": [
    "A _BPS detector_ can be identified using a 20-digit hexadecimal number, the _BPS code_. This number encodes all relevant information, such as the road number and its location. The _constructor_ of the _BPSDetector object_ takes this code as a string and parses it to the relevant variables."
   ]
  },
  {
   "cell_type": "code",
   "execution_count": 4,
   "metadata": {},
   "outputs": [
    {
     "name": "stdout",
     "output_type": "stream",
     "text": [
      "bpsCode: 00D00C03405B18200005 | roadNumber: 12 | hectometer: 208 | additionalMeters: 91\n"
     ]
    }
   ],
   "source": [
    "bpsDetector = congestionfinder.bpsdetector.BPSDetector(\"00D00C03405B18200005\")\n",
    "print(bpsDetector)"
   ]
  },
  {
   "cell_type": "markdown",
   "metadata": {},
   "source": [
    "### Roads"
   ]
  },
  {
   "cell_type": "markdown",
   "metadata": {},
   "source": [
    "A _road_ can be identified by its number. Therefore, the _constructor_ of the _Road object_ takes as input a number."
   ]
  },
  {
   "cell_type": "code",
   "execution_count": 5,
   "metadata": {},
   "outputs": [
    {
     "name": "stdout",
     "output_type": "stream",
     "text": [
      "roadNumber: 12 | len(bpsDetectors): 0 | len(spaceToSpaceIndex): 0\n"
     ]
    }
   ],
   "source": [
    "road = congestionfinder.road.Road(12)\n",
    "print(road)"
   ]
  },
  {
   "cell_type": "markdown",
   "metadata": {},
   "source": [
    "Each _Road object_ contains a set of _BPSDetector objects_. Therefore, the _road class_ contains a function to add a _BPSDetector object_."
   ]
  },
  {
   "cell_type": "code",
   "execution_count": 6,
   "metadata": {},
   "outputs": [
    {
     "name": "stdout",
     "output_type": "stream",
     "text": [
      "roadNumber: 12 | len(bpsDetectors): 1 | len(spaceToSpaceIndex): 0\n"
     ]
    }
   ],
   "source": [
    "road.addBPSDetector(bpsDetector)\n",
    "print(road)"
   ]
  },
  {
   "cell_type": "markdown",
   "metadata": {},
   "source": [
    "The _BPS detectors_ can be ordered in space, along the _road_. Once all _BPSDetector objects_ have been added to the _Road object_, this set can be ordered into an index. This index will be needed later to know where a _detection_ was located. The _road class_ contains a function to build this index."
   ]
  },
  {
   "cell_type": "code",
   "execution_count": 7,
   "metadata": {},
   "outputs": [
    {
     "name": "stdout",
     "output_type": "stream",
     "text": [
      "roadNumber: 12 | len(bpsDetectors): 1 | len(spaceToSpaceIndex): 1\n",
      "{20891: 0}\n"
     ]
    }
   ],
   "source": [
    "road.indexDetectorSpaces()\n",
    "print(road)\n",
    "print(road.getSpaceToSpaceIndex())"
   ]
  },
  {
   "cell_type": "markdown",
   "metadata": {},
   "source": [
    "As _roads_ are essentially specific lists of _BPS detectors_, the _road class_ contains a function which can parse a set of _BPSDetector objects_ directly to a set of _Road objects_."
   ]
  },
  {
   "cell_type": "code",
   "execution_count": 8,
   "metadata": {},
   "outputs": [
    {
     "name": "stderr",
     "output_type": "stream",
     "text": [
      "2018-01-03 15:32:49,955 - DEBUG - Starting parseBPSDetectorsToRoads()\n",
      "2018-01-03 15:32:49,971 - DEBUG - Ending parseBPSDetectorsToRoads()\n"
     ]
    }
   ],
   "source": [
    "bpsDetectors = []\n",
    "bpsDetectors.append(congestionfinder.bpsdetector.BPSDetector(\"10D00204C00038200005\"))\n",
    "bpsDetectors.append(congestionfinder.bpsdetector.BPSDetector(\"10D00204D037D007000B\"))\n",
    "bpsDetectors.append(congestionfinder.bpsdetector.BPSDetector(\"10D002051800D0070013\"))\n",
    "bpsDetectors.append(congestionfinder.bpsdetector.BPSDetector(\"10D002057000D007000F\"))\n",
    "bpsDetectors.append(congestionfinder.bpsdetector.BPSDetector(\"10D01005381ED0070007\"))\n",
    "roads = congestionfinder.road.parseBPSDetectorsToRoads(bpsDetectors)\n",
    "for value in roads.values():\n",
    "    value.indexDetectorSpaces()"
   ]
  },
  {
   "cell_type": "markdown",
   "metadata": {},
   "source": [
    "The following prints the resulting set of _Road objects_, which in this example consists of 2 _Road objects_, one with 4 _BPSDetector objects_ and another with 1 _BPSDetector object_."
   ]
  },
  {
   "cell_type": "code",
   "execution_count": 9,
   "metadata": {},
   "outputs": [
    {
     "name": "stdout",
     "output_type": "stream",
     "text": [
      "roadNumber: 2 | len(bpsDetectors): 4 | len(spaceToSpaceIndex): 4\n",
      "roadNumber: 16 | len(bpsDetectors): 1 | len(spaceToSpaceIndex): 1\n"
     ]
    }
   ],
   "source": [
    "for road in roads.values():\n",
    "    print(road)"
   ]
  },
  {
   "cell_type": "markdown",
   "metadata": {},
   "source": [
    "### Detections"
   ]
  },
  {
   "cell_type": "markdown",
   "metadata": {},
   "source": [
    "A _detection_ consists of a measurement of average _speed_ and average _flow_ at a specific location and time. The _constructor_ of the _Detection object_ takes as input a _BPS code_, a _space_ and _time_ location and the _speed_ and _flow_ data."
   ]
  },
  {
   "cell_type": "code",
   "execution_count": 10,
   "metadata": {},
   "outputs": [
    {
     "name": "stdout",
     "output_type": "stream",
     "text": [
      "code: 00D00C03405B18200005 | space: 1234 | time: 1440 | speed: 120 | flow: 17\n"
     ]
    }
   ],
   "source": [
    "detection = congestionfinder.detection.Detection(\"00D00C03405B18200005\", 1234, 1440, 120, 17)\n",
    "print(detection)"
   ]
  },
  {
   "cell_type": "markdown",
   "metadata": {},
   "source": [
    "### Speed and Flows (part 1)"
   ]
  },
  {
   "cell_type": "markdown",
   "metadata": {},
   "source": [
    "A set of _detections_ along a single _road_ can be represented as two arrays of _speeds_ and _flows_. The _speedflow class_ contains a function which parses a set of _Detection objects_ into such arrays. It uses information about the structure of the _Road object_ to map the _Detection objects_ to the right location. It also gives the boundaries in _space_ and in _time_ of these arrays. As the input _road_, one of the _Road objects_ constructed above is used."
   ]
  },
  {
   "cell_type": "code",
   "execution_count": 11,
   "metadata": {},
   "outputs": [
    {
     "name": "stderr",
     "output_type": "stream",
     "text": [
      "2018-01-03 15:32:50,049 - DEBUG - Starting parseDetectionsToSpeedFlows()\n",
      "2018-01-03 15:32:50,049 - DEBUG - Ending parseDetectionsToSpeedFlows()\n"
     ]
    }
   ],
   "source": [
    "detections = []\n",
    "detections.append(congestionfinder.detection.Detection(\"10D00204C00038200005\", 30400, 1, 100, 1))\n",
    "detections.append(congestionfinder.detection.Detection(\"10D00204C00038200005\", 30400, 2, 85, 20))\n",
    "detections.append(congestionfinder.detection.Detection(\"10D00204C00038200005\", 30400, 3, 80, 17))\n",
    "detections.append(congestionfinder.detection.Detection(\"10D00204C00038200005\", 30400, 4, 70, 15))\n",
    "detections.append(congestionfinder.detection.Detection(\"10D002051800D0070013\", 32600, 1, 100, 1))\n",
    "detections.append(congestionfinder.detection.Detection(\"10D002051800D0070013\", 32600, 2, 55, 18))\n",
    "detections.append(congestionfinder.detection.Detection(\"10D002051800D0070013\", 32600, 4, 40, 14))\n",
    "detections.append(congestionfinder.detection.Detection(\"10D002057000D007000F\", 34800, 1, 95, 1))\n",
    "detections.append(congestionfinder.detection.Detection(\"10D002057000D007000F\", 34800, 2, 85, 14))\n",
    "detections.append(congestionfinder.detection.Detection(\"10D002057000D007000F\", 34800, 3, 100, 19))\n",
    "detections.append(congestionfinder.detection.Detection(\"10D002057000D007000F\", 34800, 4, 90, 16))\n",
    "road = roads[2]\n",
    "speeds, flows, minSpaceIndex, maxSpaceIndex, minTimeIndex, maxTimeIndex = congestionfinder.speedflow.parseDetectionsToSpeedsAndFlows(detections, road)"
   ]
  },
  {
   "cell_type": "markdown",
   "metadata": {},
   "source": [
    "The following shows some details about the _speeds_ and _flows_ arrays, which, in this case, are both 4 by 4 matrices."
   ]
  },
  {
   "cell_type": "code",
   "execution_count": 12,
   "metadata": {},
   "outputs": [
    {
     "name": "stdout",
     "output_type": "stream",
     "text": [
      "(4, 4)\n",
      "(4, 4)\n",
      "0\n",
      "3\n",
      "1\n",
      "4\n"
     ]
    },
    {
     "data": {
      "image/png": "[encoded data removed]",
      "text/plain": [
       "<matplotlib.figure.Figure at 0x26022c7f5c0>"
      ]
     },
     "metadata": {},
     "output_type": "display_data"
    },
    {
     "data": {
      "image/png": "[encoded data removed]",
      "text/plain": [
       "<matplotlib.figure.Figure at 0x26022cc5240>"
      ]
     },
     "metadata": {},
     "output_type": "display_data"
    }
   ],
   "source": [
    "print(speeds.shape)\n",
    "print(flows.shape)\n",
    "print(minSpaceIndex)\n",
    "print(maxSpaceIndex)\n",
    "print(minTimeIndex)\n",
    "print(maxTimeIndex)\n",
    "matplotlib.pyplot.imshow(speeds, aspect = \"auto\")\n",
    "matplotlib.pyplot.colorbar()\n",
    "matplotlib.pyplot.show()\n",
    "matplotlib.pyplot.imshow(flows, aspect = \"auto\")\n",
    "matplotlib.pyplot.colorbar()\n",
    "matplotlib.pyplot.show()"
   ]
  },
  {
   "cell_type": "markdown",
   "metadata": {},
   "source": [
    "In real life, it may occur that a _BPS detector_ is out of order. In this case, no information from that location is known. As such, the _speed_ and _flow_ data may contain gaps and its boundaries may not be the same as the start and finish of the _road_. Therefore, the _speedflow class_ contains a function which can remove such locations. It returns filtered arrays for _speed_ and _flow_ data, and a _mask_ which can be used to identify the space index with the original spatial location of the _Detection object_."
   ]
  },
  {
   "cell_type": "code",
   "execution_count": 13,
   "metadata": {
    "scrolled": true
   },
   "outputs": [
    {
     "name": "stderr",
     "output_type": "stream",
     "text": [
      "2018-01-03 15:32:50,439 - DEBUG - Starting removeMissingDetectors()\n",
      "2018-01-03 15:32:50,439 - DEBUG - Ending removeMissingDetectors()\n"
     ]
    }
   ],
   "source": [
    "speedsWorkingDetectors, flowsWorkingDetectors, maskWorkingDetectors = congestionfinder.speedflow.removeMissingDetectors(speeds, flows)"
   ]
  },
  {
   "cell_type": "markdown",
   "metadata": {},
   "source": [
    "In this example, there was a missing detector at space index 1 which was removed. The following shows some details about the _speeds_ and _flows_ arrays, which are now both 4 by 3 matrices."
   ]
  },
  {
   "cell_type": "code",
   "execution_count": 14,
   "metadata": {},
   "outputs": [
    {
     "name": "stdout",
     "output_type": "stream",
     "text": [
      "(3, 4)\n",
      "(3, 4)\n",
      "0.75\n"
     ]
    },
    {
     "data": {
      "image/png": "[encoded data removed]",
      "text/plain": [
       "<matplotlib.figure.Figure at 0x26024e45be0>"
      ]
     },
     "metadata": {},
     "output_type": "display_data"
    },
    {
     "data": {
      "image/png": "[encoded data removed]",
      "text/plain": [
       "<matplotlib.figure.Figure at 0x26024f01cc0>"
      ]
     },
     "metadata": {},
     "output_type": "display_data"
    }
   ],
   "source": [
    "print(speedsWorkingDetectors.shape)\n",
    "print(flowsWorkingDetectors.shape)\n",
    "print(sum(maskWorkingDetectors) / (sum(maskWorkingDetectors) + sum(~maskWorkingDetectors)))\n",
    "matplotlib.pyplot.imshow(speedsWorkingDetectors, aspect = \"auto\")\n",
    "matplotlib.pyplot.colorbar()\n",
    "matplotlib.pyplot.show()\n",
    "matplotlib.pyplot.imshow(flowsWorkingDetectors, aspect = \"auto\")\n",
    "matplotlib.pyplot.colorbar()\n",
    "matplotlib.pyplot.show()"
   ]
  },
  {
   "cell_type": "markdown",
   "metadata": {},
   "source": [
    "Not all _detection_ data is reliable or relevant. When the _flow_ is low, the measurements of average _speed_ are less accurate. Furthermore, with consistently low _flow_, there is no possibility for congestion. Low _flow_ occurs consistently at specific times, such as during the night. The _speedflow class_ contains a function which can remove such low _flow_ times. It returns filtered arrays for _speed_ and _flow_ data, and a _mask_ which can be used to identify the time index with the original temporal location of the _Detection object_."
   ]
  },
  {
   "cell_type": "code",
   "execution_count": 15,
   "metadata": {},
   "outputs": [
    {
     "name": "stderr",
     "output_type": "stream",
     "text": [
      "2018-01-03 15:32:50,783 - DEBUG - Starting removeLowFlowTimes()\n",
      "2018-01-03 15:32:50,783 - DEBUG - Ending removeLowFlowTimes()\n"
     ]
    }
   ],
   "source": [
    "speedsHighFlow, flowsHighFlow, maskHighFlow = congestionfinder.speedflow.removeLowFlowTimes(speedsWorkingDetectors, flowsWorkingDetectors)"
   ]
  },
  {
   "cell_type": "markdown",
   "metadata": {},
   "source": [
    "In this example, there is low _flow_ at time index 0. The following shows some details about the _speeds_ and _flows_ arrays, which are now both 3 by 3 matrices."
   ]
  },
  {
   "cell_type": "code",
   "execution_count": 16,
   "metadata": {},
   "outputs": [
    {
     "name": "stdout",
     "output_type": "stream",
     "text": [
      "(3, 3)\n",
      "(3, 3)\n",
      "0.75\n"
     ]
    },
    {
     "data": {
      "image/png": "[encoded data removed]",
      "text/plain": [
       "<matplotlib.figure.Figure at 0x26025f68588>"
      ]
     },
     "metadata": {},
     "output_type": "display_data"
    },
    {
     "data": {
      "image/png": "[encoded data removed]",
      "text/plain": [
       "<matplotlib.figure.Figure at 0x26026022d30>"
      ]
     },
     "metadata": {},
     "output_type": "display_data"
    }
   ],
   "source": [
    "print(speedsHighFlow.shape)\n",
    "print(flowsHighFlow.shape)\n",
    "print(sum(maskHighFlow) / (sum(maskHighFlow) + sum(~maskHighFlow)))\n",
    "matplotlib.pyplot.imshow(speedsHighFlow, aspect = \"auto\")\n",
    "matplotlib.pyplot.colorbar()\n",
    "matplotlib.pyplot.show()\n",
    "matplotlib.pyplot.imshow(flowsHighFlow, aspect = \"auto\")\n",
    "matplotlib.pyplot.colorbar()\n",
    "matplotlib.pyplot.show()"
   ]
  },
  {
   "cell_type": "markdown",
   "metadata": {},
   "source": [
    "### Congestion"
   ]
  },
  {
   "cell_type": "markdown",
   "metadata": {},
   "source": [
    "_Speed_ and _flow_ data can be combined to devise a measure of _congestion_. The _congestion class_ contains a function which takes the _speed_ and _flow_ arrays and, based on two thresholds, returns an array where any value below 1 indicates _congestion_. As the input arrays, the _speeds_ and _flows_ constructed above are used."
   ]
  },
  {
   "cell_type": "code",
   "execution_count": 17,
   "metadata": {},
   "outputs": [
    {
     "name": "stderr",
     "output_type": "stream",
     "text": [
      "2018-01-03 15:32:51,127 - DEBUG - Starting parseSpeedFlowsToCongestions()\n",
      "2018-01-03 15:32:51,127 - DEBUG - Ending parseSpeedFlowsToCongestions()\n"
     ]
    }
   ],
   "source": [
    "speedThreshold = 65\n",
    "flowThreshold = 40\n",
    "congestions = congestionfinder.congestion.parseSpeedFlowsToCongestions(speedsHighFlow, flowsHighFlow, speedThreshold, flowThreshold)"
   ]
  },
  {
   "cell_type": "markdown",
   "metadata": {},
   "source": [
    "The following shows some details about the _congestions_ array, which, in this case, is a 3 by 3 matrix."
   ]
  },
  {
   "cell_type": "code",
   "execution_count": 18,
   "metadata": {},
   "outputs": [
    {
     "name": "stdout",
     "output_type": "stream",
     "text": [
      "(3, 3)\n"
     ]
    },
    {
     "data": {
      "image/png": "[encoded data removed]",
      "text/plain": [
       "<matplotlib.figure.Figure at 0x26022c6f630>"
      ]
     },
     "metadata": {},
     "output_type": "display_data"
    }
   ],
   "source": [
    "print(congestions.shape)\n",
    "matplotlib.pyplot.imshow(congestions, aspect = \"auto\")\n",
    "matplotlib.pyplot.colorbar()\n",
    "matplotlib.pyplot.show()"
   ]
  },
  {
   "cell_type": "markdown",
   "metadata": {},
   "source": [
    "In real life, this array may contain missing values. This can occur when a _BPS detector_ is temporarily out of order. The _congestion class_ contains a function which can impute the missing values using an interpolation of neighbouring values."
   ]
  },
  {
   "cell_type": "code",
   "execution_count": 19,
   "metadata": {},
   "outputs": [
    {
     "name": "stderr",
     "output_type": "stream",
     "text": [
      "2018-01-03 15:32:51,299 - DEBUG - Starting interpolateMissingValues()\n",
      "2018-01-03 15:32:51,299 - DEBUG - Ending interpolateMissingValues()\n"
     ]
    }
   ],
   "source": [
    "congestionsWithoutMissingValues = congestionfinder.congestion.interpolateMissingValues(congestions)"
   ]
  },
  {
   "cell_type": "markdown",
   "metadata": {},
   "source": [
    "The following shows some details about the imputed _congestions_ array, which is still a 3 by 3 matrix."
   ]
  },
  {
   "cell_type": "code",
   "execution_count": 20,
   "metadata": {},
   "outputs": [
    {
     "name": "stdout",
     "output_type": "stream",
     "text": [
      "(3, 3)\n"
     ]
    },
    {
     "data": {
      "image/png": "[encoded data removed]",
      "text/plain": [
       "<matplotlib.figure.Figure at 0x2602611c438>"
      ]
     },
     "metadata": {},
     "output_type": "display_data"
    }
   ],
   "source": [
    "print(congestionsWithoutMissingValues.shape)\n",
    "matplotlib.pyplot.imshow(congestionsWithoutMissingValues, aspect = \"auto\")\n",
    "matplotlib.pyplot.colorbar()\n",
    "matplotlib.pyplot.show()"
   ]
  },
  {
   "cell_type": "markdown",
   "metadata": {},
   "source": [
    "The original _speed_ and _flow_ data were at a fine-grained level. _Congestion_ naturally occurs at a coarser level. Furthermore, while searching for _congestion_, is it important not to get thrown off by a single outlying value in the _speed_ or _flow_ data. Therefore, it is useful to smooth the _congestion_ array to a coarse-grained level. The _congestion class_ contains a smoothing function which takes the _congestion_ array and two parameters indicating the level of smoothing in the spatial and in the temporal dimension."
   ]
  },
  {
   "cell_type": "code",
   "execution_count": 21,
   "metadata": {},
   "outputs": [
    {
     "name": "stderr",
     "output_type": "stream",
     "text": [
      "2018-01-03 15:32:51,502 - DEBUG - Starting applySmoothingFilter()\n",
      "2018-01-03 15:32:51,502 - DEBUG - Ending applySmoothingFilter()\n"
     ]
    }
   ],
   "source": [
    "spaceSmoothing = 2\n",
    "timeSmoothing = 3\n",
    "congestionsSmoothed = congestionfinder.congestion.applySmoothingFilter(congestionsWithoutMissingValues, spaceSmoothing, timeSmoothing)"
   ]
  },
  {
   "cell_type": "markdown",
   "metadata": {},
   "source": [
    "The following shows some details about the smoothed _congestions_ array, which is still a 3 by 3 matrix."
   ]
  },
  {
   "cell_type": "code",
   "execution_count": 22,
   "metadata": {},
   "outputs": [
    {
     "name": "stdout",
     "output_type": "stream",
     "text": [
      "(3, 3)\n"
     ]
    },
    {
     "data": {
      "image/png": "[encoded data removed]",
      "text/plain": [
       "<matplotlib.figure.Figure at 0x26026110278>"
      ]
     },
     "metadata": {},
     "output_type": "display_data"
    }
   ],
   "source": [
    "print(congestionsSmoothed.shape)\n",
    "matplotlib.pyplot.imshow(congestionsSmoothed, aspect = \"auto\")\n",
    "matplotlib.pyplot.colorbar()\n",
    "matplotlib.pyplot.show()"
   ]
  },
  {
   "cell_type": "markdown",
   "metadata": {},
   "source": [
    "### Patch Finder"
   ]
  },
  {
   "cell_type": "markdown",
   "metadata": {},
   "source": [
    "The _patch finder_ module is an integral part of the _congestion finder_ module, but is more general. It is a module with a function which can find _patches_ of _True_ in a boolean array. As such, any type of array can be entered, with some condition which turns it boolean. The function will return a set of _Patch objects_. The _Patch object_ includes the start and the end index in both dimensions. In principle, the concept of the _patch finder_ module can be extended to more dimensions, but that is not necessary here."
   ]
  },
  {
   "cell_type": "code",
   "execution_count": 23,
   "metadata": {},
   "outputs": [
    {
     "name": "stdout",
     "output_type": "stream",
     "text": [
      "[[False False False False False False False False False]\n",
      " [False False False False False False False False False]\n",
      " [False False False False False False  True False  True]\n",
      " [False False  True False False  True False False False]\n",
      " [False False False False False False False False False]\n",
      " [False False False False False False False False False]\n",
      " [False False False False False False False False False]\n",
      " [False  True False False False  True False False False]\n",
      " [ True False False False False  True False False False]\n",
      " [False False False False False False False False False]\n",
      " [False False False  True False False  True False False]\n",
      " [False False False False False False False False False]\n",
      " [False  True False False False  True False False False]\n",
      " [False False False False False False False False False]\n",
      " [False False False False False False False False False]\n",
      " [False False False False False False False False False]]\n"
     ]
    }
   ],
   "source": [
    "testDataArray = numpy.random.rand(16,9)\n",
    "testBooleanArray = testDataArray >= 0.9\n",
    "print(testBooleanArray)"
   ]
  },
  {
   "cell_type": "markdown",
   "metadata": {},
   "source": [
    "The _patch class_ contains a function which takes the example boolean array constructed above. It recursively searches for smaller _patches_ within each _patch_ and finally returns a list of _Patch objects_."
   ]
  },
  {
   "cell_type": "code",
   "execution_count": 24,
   "metadata": {},
   "outputs": [
    {
     "name": "stderr",
     "output_type": "stream",
     "text": [
      "2018-01-03 15:32:51,689 - DEBUG - Starting findPatches()\n",
      "2018-01-03 15:32:51,689 - DEBUG - Direction: 0\n",
      "2018-01-03 15:32:51,689 - DEBUG - Starting scanForBoundaries()\n",
      "2018-01-03 15:32:51,689 - DEBUG - Found start: 0\n",
      "2018-01-03 15:32:51,689 - DEBUG - Found stop: 3\n",
      "2018-01-03 15:32:51,689 - DEBUG - Found start: 5\n",
      "2018-01-03 15:32:51,705 - DEBUG - Found stop: 6\n",
      "2018-01-03 15:32:51,705 - DEBUG - Found start: 8\n",
      "2018-01-03 15:32:51,705 - DEBUG - Found stop at end.\n",
      "2018-01-03 15:32:51,705 - DEBUG - Ending scanForBoundaries()\n",
      "2018-01-03 15:32:51,705 - DEBUG - Found patches: [[0, 15, 0, 3], [0, 15, 5, 6], [0, 15, 8, 8]]\n",
      "2018-01-03 15:32:51,705 - DEBUG - length: 3| parentLength: 0\n",
      "2018-01-03 15:32:51,705 - DEBUG - Scanning children...\n",
      "2018-01-03 15:32:51,705 - DEBUG - Child: 0\n",
      "2018-01-03 15:32:51,705 - DEBUG -   Starting findPatches()\n",
      "2018-01-03 15:32:51,705 - DEBUG -   Direction: 1\n",
      "2018-01-03 15:32:51,721 - DEBUG -   Starting scanForBoundaries()\n",
      "2018-01-03 15:32:51,721 - DEBUG -   Found start: 3\n",
      "2018-01-03 15:32:51,721 - DEBUG -   Found stop: 3\n",
      "2018-01-03 15:32:51,721 - DEBUG -   Found start: 7\n",
      "2018-01-03 15:32:51,721 - DEBUG -   Found stop: 8\n",
      "2018-01-03 15:32:51,721 - DEBUG -   Found start: 10\n",
      "2018-01-03 15:32:51,721 - DEBUG -   Found stop: 10\n",
      "2018-01-03 15:32:51,721 - DEBUG -   Found start: 12\n",
      "2018-01-03 15:32:51,721 - DEBUG -   Found stop: 12\n",
      "2018-01-03 15:32:51,736 - DEBUG -   Ending scanForBoundaries()\n",
      "2018-01-03 15:32:51,736 - DEBUG -   Found patches: [[3, 3, 0, 3], [7, 8, 0, 3], [10, 10, 0, 3], [12, 12, 0, 3]]\n",
      "2018-01-03 15:32:51,736 - DEBUG -   length: 4| parentLength: 3\n",
      "2018-01-03 15:32:51,736 - DEBUG -   Scanning children...\n",
      "2018-01-03 15:32:51,736 - DEBUG -   Child: 0\n",
      "2018-01-03 15:32:51,736 - DEBUG -     Starting findPatches()\n",
      "2018-01-03 15:32:51,736 - DEBUG -     Direction: 0\n",
      "2018-01-03 15:32:51,736 - DEBUG -     Starting scanForBoundaries()\n",
      "2018-01-03 15:32:51,736 - DEBUG -     Found start: 2\n",
      "2018-01-03 15:32:51,736 - DEBUG -     Found stop: 2\n",
      "2018-01-03 15:32:51,736 - DEBUG -     Ending scanForBoundaries()\n",
      "2018-01-03 15:32:51,736 - DEBUG -     Found patches: [[3, 3, 2, 2]]\n",
      "2018-01-03 15:32:51,736 - DEBUG -     length: 1| parentLength: 4\n",
      "2018-01-03 15:32:51,752 - DEBUG -     Scanning children...\n",
      "2018-01-03 15:32:51,752 - DEBUG -     Child: 0\n",
      "2018-01-03 15:32:51,752 - DEBUG -       Starting findPatches()\n",
      "2018-01-03 15:32:51,752 - DEBUG -       Direction: 1\n",
      "2018-01-03 15:32:51,752 - DEBUG -       Starting scanForBoundaries()\n",
      "2018-01-03 15:32:51,752 - DEBUG -       Length is one\n",
      "2018-01-03 15:32:51,752 - DEBUG -       Ending scanForBoundaries()\n",
      "2018-01-03 15:32:51,752 - DEBUG -       Found patches: [[3, 3, 2, 2]]\n",
      "2018-01-03 15:32:51,752 - DEBUG -       length: 1| parentLength: 1\n",
      "2018-01-03 15:32:51,752 - DEBUG -       Done: xStart: 3 | xEnd: 3 | yStart: 2 | yEnd: 2\n",
      "2018-01-03 15:32:51,752 - DEBUG -       Ending findPatches()\n",
      "2018-01-03 15:32:51,752 - DEBUG -     Ending findPatches()\n",
      "2018-01-03 15:32:51,752 - DEBUG -   Child: 1\n",
      "2018-01-03 15:32:51,752 - DEBUG -     Starting findPatches()\n",
      "2018-01-03 15:32:51,768 - DEBUG -     Direction: 0\n",
      "2018-01-03 15:32:51,768 - DEBUG -     Starting scanForBoundaries()\n",
      "2018-01-03 15:32:51,768 - DEBUG -     Found start: 0\n",
      "2018-01-03 15:32:51,768 - DEBUG -     Found stop: 1\n",
      "2018-01-03 15:32:51,768 - DEBUG -     Ending scanForBoundaries()\n",
      "2018-01-03 15:32:51,768 - DEBUG -     Found patches: [[7, 8, 0, 1]]\n",
      "2018-01-03 15:32:51,768 - DEBUG -     length: 1| parentLength: 4\n",
      "2018-01-03 15:32:51,768 - DEBUG -     Scanning children...\n",
      "2018-01-03 15:32:51,768 - DEBUG -     Child: 0\n",
      "2018-01-03 15:32:51,768 - DEBUG -       Starting findPatches()\n",
      "2018-01-03 15:32:51,768 - DEBUG -       Direction: 1\n",
      "2018-01-03 15:32:51,768 - DEBUG -       Starting scanForBoundaries()\n",
      "2018-01-03 15:32:51,768 - DEBUG -       Found start: 0\n",
      "2018-01-03 15:32:51,783 - DEBUG -       Found stop at end.\n",
      "2018-01-03 15:32:51,783 - DEBUG -       Ending scanForBoundaries()\n",
      "2018-01-03 15:32:51,783 - DEBUG -       Found patches: [[7, 8, 0, 1]]\n",
      "2018-01-03 15:32:51,783 - DEBUG -       length: 1| parentLength: 1\n",
      "2018-01-03 15:32:51,783 - DEBUG -       Done: xStart: 7 | xEnd: 8 | yStart: 0 | yEnd: 1\n",
      "2018-01-03 15:32:51,783 - DEBUG -       Ending findPatches()\n",
      "2018-01-03 15:32:51,783 - DEBUG -     Ending findPatches()\n",
      "2018-01-03 15:32:51,783 - DEBUG -   Child: 2\n",
      "2018-01-03 15:32:51,783 - DEBUG -     Starting findPatches()\n",
      "2018-01-03 15:32:51,783 - DEBUG -     Direction: 0\n",
      "2018-01-03 15:32:51,783 - DEBUG -     Starting scanForBoundaries()\n",
      "2018-01-03 15:32:51,783 - DEBUG -     Found start: 3\n",
      "2018-01-03 15:32:51,783 - DEBUG -     Found stop at end.\n",
      "2018-01-03 15:32:51,783 - DEBUG -     Ending scanForBoundaries()\n",
      "2018-01-03 15:32:51,783 - DEBUG -     Found patches: [[10, 10, 3, 3]]\n",
      "2018-01-03 15:32:51,799 - DEBUG -     length: 1| parentLength: 4\n",
      "2018-01-03 15:32:51,799 - DEBUG -     Scanning children...\n",
      "2018-01-03 15:32:51,799 - DEBUG -     Child: 0\n",
      "2018-01-03 15:32:51,799 - DEBUG -       Starting findPatches()\n",
      "2018-01-03 15:32:51,799 - DEBUG -       Direction: 1\n",
      "2018-01-03 15:32:51,799 - DEBUG -       Starting scanForBoundaries()\n",
      "2018-01-03 15:32:51,799 - DEBUG -       Length is one\n",
      "2018-01-03 15:32:51,799 - DEBUG -       Ending scanForBoundaries()\n",
      "2018-01-03 15:32:51,799 - DEBUG -       Found patches: [[10, 10, 3, 3]]\n",
      "2018-01-03 15:32:51,799 - DEBUG -       length: 1| parentLength: 1\n",
      "2018-01-03 15:32:51,799 - DEBUG -       Done: xStart: 10 | xEnd: 10 | yStart: 3 | yEnd: 3\n",
      "2018-01-03 15:32:51,799 - DEBUG -       Ending findPatches()\n",
      "2018-01-03 15:32:51,799 - DEBUG -     Ending findPatches()\n",
      "2018-01-03 15:32:51,799 - DEBUG -   Child: 3\n",
      "2018-01-03 15:32:51,799 - DEBUG -     Starting findPatches()\n",
      "2018-01-03 15:32:51,799 - DEBUG -     Direction: 0\n",
      "2018-01-03 15:32:51,799 - DEBUG -     Starting scanForBoundaries()\n",
      "2018-01-03 15:32:51,815 - DEBUG -     Found start: 1\n",
      "2018-01-03 15:32:51,815 - DEBUG -     Found stop: 1\n",
      "2018-01-03 15:32:51,815 - DEBUG -     Ending scanForBoundaries()\n",
      "2018-01-03 15:32:51,815 - DEBUG -     Found patches: [[12, 12, 1, 1]]\n",
      "2018-01-03 15:32:51,815 - DEBUG -     length: 1| parentLength: 4\n",
      "2018-01-03 15:32:51,815 - DEBUG -     Scanning children...\n",
      "2018-01-03 15:32:51,815 - DEBUG -     Child: 0\n",
      "2018-01-03 15:32:51,815 - DEBUG -       Starting findPatches()\n",
      "2018-01-03 15:32:51,815 - DEBUG -       Direction: 1\n",
      "2018-01-03 15:32:51,815 - DEBUG -       Starting scanForBoundaries()\n",
      "2018-01-03 15:32:51,815 - DEBUG -       Length is one\n",
      "2018-01-03 15:32:51,815 - DEBUG -       Ending scanForBoundaries()\n",
      "2018-01-03 15:32:51,815 - DEBUG -       Found patches: [[12, 12, 1, 1]]\n",
      "2018-01-03 15:32:51,815 - DEBUG -       length: 1| parentLength: 1\n",
      "2018-01-03 15:32:51,815 - DEBUG -       Done: xStart: 12 | xEnd: 12 | yStart: 1 | yEnd: 1\n",
      "2018-01-03 15:32:51,815 - DEBUG -       Ending findPatches()\n",
      "2018-01-03 15:32:51,815 - DEBUG -     Ending findPatches()\n",
      "2018-01-03 15:32:51,830 - DEBUG -   Ending findPatches()\n",
      "2018-01-03 15:32:51,830 - DEBUG - Child: 1\n",
      "2018-01-03 15:32:51,830 - DEBUG -   Starting findPatches()\n",
      "2018-01-03 15:32:51,830 - DEBUG -   Direction: 1\n",
      "2018-01-03 15:32:51,830 - DEBUG -   Starting scanForBoundaries()\n",
      "2018-01-03 15:32:51,830 - DEBUG -   Found start: 2\n",
      "2018-01-03 15:32:51,830 - DEBUG -   Found stop: 3\n",
      "2018-01-03 15:32:51,830 - DEBUG -   Found start: 7\n",
      "2018-01-03 15:32:51,830 - DEBUG -   Found stop: 8\n",
      "2018-01-03 15:32:51,830 - DEBUG -   Found start: 10\n",
      "2018-01-03 15:32:51,830 - DEBUG -   Found stop: 10\n",
      "2018-01-03 15:32:51,830 - DEBUG -   Found start: 12\n",
      "2018-01-03 15:32:51,830 - DEBUG -   Found stop: 12\n",
      "2018-01-03 15:32:51,830 - DEBUG -   Ending scanForBoundaries()\n",
      "2018-01-03 15:32:51,830 - DEBUG -   Found patches: [[2, 3, 5, 6], [7, 8, 5, 6], [10, 10, 5, 6], [12, 12, 5, 6]]\n",
      "2018-01-03 15:32:51,830 - DEBUG -   length: 4| parentLength: 3\n",
      "2018-01-03 15:32:51,846 - DEBUG -   Scanning children...\n",
      "2018-01-03 15:32:51,846 - DEBUG -   Child: 0\n",
      "2018-01-03 15:32:51,846 - DEBUG -     Starting findPatches()\n",
      "2018-01-03 15:32:51,846 - DEBUG -     Direction: 0\n",
      "2018-01-03 15:32:51,846 - DEBUG -     Starting scanForBoundaries()\n",
      "2018-01-03 15:32:51,846 - DEBUG -     Found start: 0\n",
      "2018-01-03 15:32:51,846 - DEBUG -     Found stop at end.\n",
      "2018-01-03 15:32:51,846 - DEBUG -     Ending scanForBoundaries()\n"
     ]
    },
    {
     "name": "stderr",
     "output_type": "stream",
     "text": [
      "2018-01-03 15:32:51,846 - DEBUG -     Found patches: [[2, 3, 5, 6]]\n",
      "2018-01-03 15:32:51,846 - DEBUG -     length: 1| parentLength: 4\n",
      "2018-01-03 15:32:51,846 - DEBUG -     Scanning children...\n",
      "2018-01-03 15:32:51,846 - DEBUG -     Child: 0\n",
      "2018-01-03 15:32:51,846 - DEBUG -       Starting findPatches()\n",
      "2018-01-03 15:32:51,846 - DEBUG -       Direction: 1\n",
      "2018-01-03 15:32:51,861 - DEBUG -       Starting scanForBoundaries()\n",
      "2018-01-03 15:32:51,861 - DEBUG -       Found start: 0\n",
      "2018-01-03 15:32:51,861 - DEBUG -       Found stop at end.\n",
      "2018-01-03 15:32:51,861 - DEBUG -       Ending scanForBoundaries()\n",
      "2018-01-03 15:32:51,861 - DEBUG -       Found patches: [[2, 3, 5, 6]]\n",
      "2018-01-03 15:32:51,861 - DEBUG -       length: 1| parentLength: 1\n",
      "2018-01-03 15:32:51,861 - DEBUG -       Done: xStart: 2 | xEnd: 3 | yStart: 5 | yEnd: 6\n",
      "2018-01-03 15:32:51,861 - DEBUG -       Ending findPatches()\n",
      "2018-01-03 15:32:51,861 - DEBUG -     Ending findPatches()\n",
      "2018-01-03 15:32:51,861 - DEBUG -   Child: 1\n",
      "2018-01-03 15:32:51,861 - DEBUG -     Starting findPatches()\n",
      "2018-01-03 15:32:51,861 - DEBUG -     Direction: 0\n",
      "2018-01-03 15:32:51,861 - DEBUG -     Starting scanForBoundaries()\n",
      "2018-01-03 15:32:51,861 - DEBUG -     Found start: 0\n",
      "2018-01-03 15:32:51,877 - DEBUG -     Found stop: 0\n",
      "2018-01-03 15:32:51,877 - DEBUG -     Ending scanForBoundaries()\n",
      "2018-01-03 15:32:51,877 - DEBUG -     Found patches: [[7, 8, 5, 5]]\n",
      "2018-01-03 15:32:51,877 - DEBUG -     length: 1| parentLength: 4\n",
      "2018-01-03 15:32:51,877 - DEBUG -     Scanning children...\n",
      "2018-01-03 15:32:51,877 - DEBUG -     Child: 0\n",
      "2018-01-03 15:32:51,877 - DEBUG -       Starting findPatches()\n",
      "2018-01-03 15:32:51,877 - DEBUG -       Direction: 1\n",
      "2018-01-03 15:32:51,877 - DEBUG -       Starting scanForBoundaries()\n",
      "2018-01-03 15:32:51,877 - DEBUG -       Found start: 0\n",
      "2018-01-03 15:32:51,877 - DEBUG -       Found stop at end.\n",
      "2018-01-03 15:32:51,877 - DEBUG -       Ending scanForBoundaries()\n",
      "2018-01-03 15:32:51,877 - DEBUG -       Found patches: [[7, 8, 5, 5]]\n",
      "2018-01-03 15:32:51,893 - DEBUG -       length: 1| parentLength: 1\n",
      "2018-01-03 15:32:51,893 - DEBUG -       Done: xStart: 7 | xEnd: 8 | yStart: 5 | yEnd: 5\n",
      "2018-01-03 15:32:51,893 - DEBUG -       Ending findPatches()\n",
      "2018-01-03 15:32:51,893 - DEBUG -     Ending findPatches()\n",
      "2018-01-03 15:32:51,893 - DEBUG -   Child: 2\n",
      "2018-01-03 15:32:51,893 - DEBUG -     Starting findPatches()\n",
      "2018-01-03 15:32:51,893 - DEBUG -     Direction: 0\n",
      "2018-01-03 15:32:51,893 - DEBUG -     Starting scanForBoundaries()\n",
      "2018-01-03 15:32:51,893 - DEBUG -     Found start: 1\n",
      "2018-01-03 15:32:51,893 - DEBUG -     Found stop at end.\n",
      "2018-01-03 15:32:51,893 - DEBUG -     Ending scanForBoundaries()\n",
      "2018-01-03 15:32:51,893 - DEBUG -     Found patches: [[10, 10, 6, 6]]\n",
      "2018-01-03 15:32:51,893 - DEBUG -     length: 1| parentLength: 4\n",
      "2018-01-03 15:32:51,908 - DEBUG -     Scanning children...\n",
      "2018-01-03 15:32:51,908 - DEBUG -     Child: 0\n",
      "2018-01-03 15:32:51,908 - DEBUG -       Starting findPatches()\n",
      "2018-01-03 15:32:51,908 - DEBUG -       Direction: 1\n",
      "2018-01-03 15:32:51,908 - DEBUG -       Starting scanForBoundaries()\n",
      "2018-01-03 15:32:51,908 - DEBUG -       Length is one\n",
      "2018-01-03 15:32:51,908 - DEBUG -       Ending scanForBoundaries()\n",
      "2018-01-03 15:32:51,908 - DEBUG -       Found patches: [[10, 10, 6, 6]]\n",
      "2018-01-03 15:32:51,908 - DEBUG -       length: 1| parentLength: 1\n",
      "2018-01-03 15:32:51,908 - DEBUG -       Done: xStart: 10 | xEnd: 10 | yStart: 6 | yEnd: 6\n",
      "2018-01-03 15:32:51,908 - DEBUG -       Ending findPatches()\n",
      "2018-01-03 15:32:51,908 - DEBUG -     Ending findPatches()\n",
      "2018-01-03 15:32:51,908 - DEBUG -   Child: 3\n",
      "2018-01-03 15:32:51,924 - DEBUG -     Starting findPatches()\n",
      "2018-01-03 15:32:51,924 - DEBUG -     Direction: 0\n",
      "2018-01-03 15:32:51,924 - DEBUG -     Starting scanForBoundaries()\n",
      "2018-01-03 15:32:51,924 - DEBUG -     Found start: 0\n",
      "2018-01-03 15:32:51,924 - DEBUG -     Found stop: 0\n",
      "2018-01-03 15:32:51,924 - DEBUG -     Ending scanForBoundaries()\n",
      "2018-01-03 15:32:51,924 - DEBUG -     Found patches: [[12, 12, 5, 5]]\n",
      "2018-01-03 15:32:51,924 - DEBUG -     length: 1| parentLength: 4\n",
      "2018-01-03 15:32:51,924 - DEBUG -     Scanning children...\n",
      "2018-01-03 15:32:51,924 - DEBUG -     Child: 0\n",
      "2018-01-03 15:32:51,924 - DEBUG -       Starting findPatches()\n",
      "2018-01-03 15:32:51,924 - DEBUG -       Direction: 1\n",
      "2018-01-03 15:32:51,924 - DEBUG -       Starting scanForBoundaries()\n",
      "2018-01-03 15:32:51,924 - DEBUG -       Length is one\n",
      "2018-01-03 15:32:51,940 - DEBUG -       Ending scanForBoundaries()\n",
      "2018-01-03 15:32:51,940 - DEBUG -       Found patches: [[12, 12, 5, 5]]\n",
      "2018-01-03 15:32:51,940 - DEBUG -       length: 1| parentLength: 1\n",
      "2018-01-03 15:32:51,940 - DEBUG -       Done: xStart: 12 | xEnd: 12 | yStart: 5 | yEnd: 5\n",
      "2018-01-03 15:32:51,940 - DEBUG -       Ending findPatches()\n",
      "2018-01-03 15:32:51,940 - DEBUG -     Ending findPatches()\n",
      "2018-01-03 15:32:51,940 - DEBUG -   Ending findPatches()\n",
      "2018-01-03 15:32:51,940 - DEBUG - Child: 2\n",
      "2018-01-03 15:32:51,940 - DEBUG -   Starting findPatches()\n",
      "2018-01-03 15:32:51,940 - DEBUG -   Direction: 1\n",
      "2018-01-03 15:32:51,940 - DEBUG -   Starting scanForBoundaries()\n",
      "2018-01-03 15:32:51,940 - DEBUG -   Found start: 2\n",
      "2018-01-03 15:32:51,940 - DEBUG -   Found stop: 2\n",
      "2018-01-03 15:32:51,940 - DEBUG -   Ending scanForBoundaries()\n",
      "2018-01-03 15:32:51,940 - DEBUG -   Found patches: [[2, 2, 8, 8]]\n",
      "2018-01-03 15:32:51,955 - DEBUG -   length: 1| parentLength: 3\n",
      "2018-01-03 15:32:51,955 - DEBUG -   Scanning children...\n",
      "2018-01-03 15:32:51,955 - DEBUG -   Child: 0\n",
      "2018-01-03 15:32:51,955 - DEBUG -     Starting findPatches()\n",
      "2018-01-03 15:32:51,955 - DEBUG -     Direction: 0\n",
      "2018-01-03 15:32:51,955 - DEBUG -     Starting scanForBoundaries()\n",
      "2018-01-03 15:32:51,955 - DEBUG -     Length is one\n",
      "2018-01-03 15:32:51,955 - DEBUG -     Ending scanForBoundaries()\n",
      "2018-01-03 15:32:51,955 - DEBUG -     Found patches: [[2, 2, 8, 8]]\n",
      "2018-01-03 15:32:51,955 - DEBUG -     length: 1| parentLength: 1\n",
      "2018-01-03 15:32:51,955 - DEBUG -     Done: xStart: 2 | xEnd: 2 | yStart: 8 | yEnd: 8\n",
      "2018-01-03 15:32:51,971 - DEBUG -     Ending findPatches()\n",
      "2018-01-03 15:32:51,971 - DEBUG -   Ending findPatches()\n",
      "2018-01-03 15:32:51,971 - DEBUG - Ending findPatches()\n"
     ]
    }
   ],
   "source": [
    "patches = patchfinder.patch.findPatches(testBooleanArray)"
   ]
  },
  {
   "cell_type": "markdown",
   "metadata": {},
   "source": [
    "To visualise what the algorithm does, the second logger can be used. This logger writes all messages to a variable, which can be parsed using a regular expression. For each step of the recursive process, the information is plotted together with the original boolean array."
   ]
  },
  {
   "cell_type": "code",
   "execution_count": 25,
   "metadata": {},
   "outputs": [
    {
     "data": {
      "image/png": "[encoded data removed]",
      "text/plain": [
       "<matplotlib.figure.Figure at 0x26022cccb00>"
      ]
     },
     "metadata": {},
     "output_type": "display_data"
    },
    {
     "data": {
      "image/png": "[encoded data removed]",
      "text/plain": [
       "<matplotlib.figure.Figure at 0x26024f06860>"
      ]
     },
     "metadata": {},
     "output_type": "display_data"
    },
    {
     "data": {
      "image/png": "[encoded data removed]",
      "text/plain": [
       "<matplotlib.figure.Figure at 0x26024f068d0>"
      ]
     },
     "metadata": {},
     "output_type": "display_data"
    },
    {
     "data": {
      "image/png": "[encoded data removed]",
      "text/plain": [
       "<matplotlib.figure.Figure at 0x260260fe320>"
      ]
     },
     "metadata": {},
     "output_type": "display_data"
    },
    {
     "data": {
      "image/png": "[encoded data removed]",
      "text/plain": [
       "<matplotlib.figure.Figure at 0x26024d25208>"
      ]
     },
     "metadata": {},
     "output_type": "display_data"
    },
    {
     "data": {
      "image/png": "[encoded data removed]",
      "text/plain": [
       "<matplotlib.figure.Figure at 0x26025f7a7b8>"
      ]
     },
     "metadata": {},
     "output_type": "display_data"
    },
    {
     "data": {
      "image/png": "[encoded data removed]",
      "text/plain": [
       "<matplotlib.figure.Figure at 0x26025f794e0>"
      ]
     },
     "metadata": {},
     "output_type": "display_data"
    },
    {
     "data": {
      "image/png": "[encoded data removed]",
      "text/plain": [
       "<matplotlib.figure.Figure at 0x2602608c828>"
      ]
     },
     "metadata": {},
     "output_type": "display_data"
    },
    {
     "data": {
      "image/png": "[encoded data removed]",
      "text/plain": [
       "<matplotlib.figure.Figure at 0x26024e3ee10>"
      ]
     },
     "metadata": {},
     "output_type": "display_data"
    },
    {
     "data": {
      "image/png": "[encoded data removed]",
      "text/plain": [
       "<matplotlib.figure.Figure at 0x26024e6a780>"
      ]
     },
     "metadata": {},
     "output_type": "display_data"
    },
    {
     "data": {
      "image/png": "[encoded data removed]",
      "text/plain": [
       "<matplotlib.figure.Figure at 0x26024eac6d8>"
      ]
     },
     "metadata": {},
     "output_type": "display_data"
    },
    {
     "data": {
      "image/png": "[encoded data removed]",
      "text/plain": [
       "<matplotlib.figure.Figure at 0x26024f47e48>"
      ]
     },
     "metadata": {},
     "output_type": "display_data"
    },
    {
     "data": {
      "image/png": "[encoded data removed]",
      "text/plain": [
       "<matplotlib.figure.Figure at 0x26024f47828>"
      ]
     },
     "metadata": {},
     "output_type": "display_data"
    },
    {
     "data": {
      "image/png": "[encoded data removed]",
      "text/plain": [
       "<matplotlib.figure.Figure at 0x26024e6af98>"
      ]
     },
     "metadata": {},
     "output_type": "display_data"
    },
    {
     "data": {
      "image/png": "[encoded data removed]",
      "text/plain": [
       "<matplotlib.figure.Figure at 0x260260a26d8>"
      ]
     },
     "metadata": {},
     "output_type": "display_data"
    },
    {
     "data": {
      "image/png": "[encoded data removed]",
      "text/plain": [
       "<matplotlib.figure.Figure at 0x26022c8df28>"
      ]
     },
     "metadata": {},
     "output_type": "display_data"
    },
    {
     "data": {
      "image/png": "[encoded data removed]",
      "text/plain": [
       "<matplotlib.figure.Figure at 0x26024eb1b00>"
      ]
     },
     "metadata": {},
     "output_type": "display_data"
    },
    {
     "data": {
      "image/png": "[encoded data removed]",
      "text/plain": [
       "<matplotlib.figure.Figure at 0x260260a4518>"
      ]
     },
     "metadata": {},
     "output_type": "display_data"
    },
    {
     "data": {
      "image/png": "[encoded data removed]",
      "text/plain": [
       "<matplotlib.figure.Figure at 0x26024f28630>"
      ]
     },
     "metadata": {},
     "output_type": "display_data"
    },
    {
     "data": {
      "image/png": "[encoded data removed]",
      "text/plain": [
       "<matplotlib.figure.Figure at 0x26026161550>"
      ]
     },
     "metadata": {},
     "output_type": "display_data"
    },
    {
     "data": {
      "image/png": "[encoded data removed]",
      "text/plain": [
       "<matplotlib.figure.Figure at 0x26024eef8d0>"
      ]
     },
     "metadata": {},
     "output_type": "display_data"
    },
    {
     "data": {
      "image/png": "[encoded data removed]",
      "text/plain": [
       "<matplotlib.figure.Figure at 0x26026150240>"
      ]
     },
     "metadata": {},
     "output_type": "display_data"
    },
    {
     "data": {
      "image/png": "[encoded data removed]",
      "text/plain": [
       "<matplotlib.figure.Figure at 0x260261504e0>"
      ]
     },
     "metadata": {},
     "output_type": "display_data"
    },
    {
     "data": {
      "image/png": "[encoded data removed]",
      "text/plain": [
       "<matplotlib.figure.Figure at 0x26026150c18>"
      ]
     },
     "metadata": {},
     "output_type": "display_data"
    },
    {
     "data": {
      "image/png": "[encoded data removed]",
      "text/plain": [
       "<matplotlib.figure.Figure at 0x26026062630>"
      ]
     },
     "metadata": {},
     "output_type": "display_data"
    },
    {
     "data": {
      "image/png": "[encoded data removed]",
      "text/plain": [
       "<matplotlib.figure.Figure at 0x26022c8dbe0>"
      ]
     },
     "metadata": {},
     "output_type": "display_data"
    },
    {
     "data": {
      "image/png": "[encoded data removed]",
      "text/plain": [
       "<matplotlib.figure.Figure at 0x26022cb1828>"
      ]
     },
     "metadata": {},
     "output_type": "display_data"
    },
    {
     "data": {
      "image/png": "[encoded data removed]",
      "text/plain": [
       "<matplotlib.figure.Figure at 0x26024d24278>"
      ]
     },
     "metadata": {},
     "output_type": "display_data"
    },
    {
     "data": {
      "image/png": "[encoded data removed]",
      "text/plain": [
       "<matplotlib.figure.Figure at 0x26024cdd518>"
      ]
     },
     "metadata": {},
     "output_type": "display_data"
    }
   ],
   "source": [
    "matches = re.findall(\"\\[\\d*, \\d*, \\d*, \\d*\\]\", log_capture_string.getvalue())\n",
    "for match in matches:\n",
    "    array = ast.literal_eval(match)\n",
    "    patch = patchfinder.patch.Patch(array[0], array[1], array[2], array[3])\n",
    "    congestionfinder.congestion.plotCongestionsWithPatches(testBooleanArray, [patch])"
   ]
  },
  {
   "cell_type": "markdown",
   "metadata": {},
   "source": [
    "The function has returned the following _Patch objects_."
   ]
  },
  {
   "cell_type": "code",
   "execution_count": 26,
   "metadata": {},
   "outputs": [
    {
     "name": "stdout",
     "output_type": "stream",
     "text": [
      "xStart: 3 | xEnd: 3 | yStart: 2 | yEnd: 2\n",
      "xStart: 7 | xEnd: 8 | yStart: 0 | yEnd: 1\n",
      "xStart: 10 | xEnd: 10 | yStart: 3 | yEnd: 3\n",
      "xStart: 12 | xEnd: 12 | yStart: 1 | yEnd: 1\n",
      "xStart: 2 | xEnd: 3 | yStart: 5 | yEnd: 6\n",
      "xStart: 7 | xEnd: 8 | yStart: 5 | yEnd: 5\n",
      "xStart: 10 | xEnd: 10 | yStart: 6 | yEnd: 6\n",
      "xStart: 12 | xEnd: 12 | yStart: 5 | yEnd: 5\n",
      "xStart: 2 | xEnd: 2 | yStart: 8 | yEnd: 8\n"
     ]
    }
   ],
   "source": [
    "for patch in patches:\n",
    "    print(patch)"
   ]
  },
  {
   "cell_type": "markdown",
   "metadata": {},
   "source": [
    "To visualise the result, the _Patch objects_ can be plotted together with the original array and its boolean representation."
   ]
  },
  {
   "cell_type": "code",
   "execution_count": 27,
   "metadata": {},
   "outputs": [
    {
     "data": {
      "image/png": "[encoded data removed]",
      "text/plain": [
       "<matplotlib.figure.Figure at 0x260260d70b8>"
      ]
     },
     "metadata": {},
     "output_type": "display_data"
    },
    {
     "data": {
      "image/png": "[encoded data removed]",
      "text/plain": [
       "<matplotlib.figure.Figure at 0x260260d7c18>"
      ]
     },
     "metadata": {},
     "output_type": "display_data"
    }
   ],
   "source": [
    "congestionfinder.congestion.plotCongestionsWithPatches(testDataArray, patches)\n",
    "congestionfinder.congestion.plotCongestionsWithPatches(testBooleanArray, patches)"
   ]
  },
  {
   "cell_type": "markdown",
   "metadata": {},
   "source": [
    "Some _Patch objects_ may be deamed too small to be of interest. The _patch class_ contains a function which can filter these out based on a threshold size value."
   ]
  },
  {
   "cell_type": "code",
   "execution_count": 28,
   "metadata": {},
   "outputs": [
    {
     "name": "stderr",
     "output_type": "stream",
     "text": [
      "2018-01-03 15:32:55,362 - DEBUG - Starting filterLargePatches()\n",
      "2018-01-03 15:32:55,362 - DEBUG - Ending filterLargePatches()\n"
     ]
    }
   ],
   "source": [
    "threshold = 1\n",
    "patchesFiltered = patchfinder.patch.filterLargePatches(patches, threshold)"
   ]
  },
  {
   "cell_type": "markdown",
   "metadata": {},
   "source": [
    "The result is a shorter list of _Patch objects_."
   ]
  },
  {
   "cell_type": "code",
   "execution_count": 29,
   "metadata": {},
   "outputs": [
    {
     "name": "stdout",
     "output_type": "stream",
     "text": [
      "xStart: 7 | xEnd: 8 | yStart: 0 | yEnd: 1\n",
      "xStart: 2 | xEnd: 3 | yStart: 5 | yEnd: 6\n",
      "xStart: 7 | xEnd: 8 | yStart: 5 | yEnd: 5\n"
     ]
    }
   ],
   "source": [
    "for patch in patchesFiltered:\n",
    "    print(patch)"
   ]
  },
  {
   "cell_type": "markdown",
   "metadata": {},
   "source": [
    "To visualise the result, the _Patch objects_ can, again, be plotted together with the original array and its boolean representation."
   ]
  },
  {
   "cell_type": "code",
   "execution_count": 30,
   "metadata": {},
   "outputs": [
    {
     "data": {
      "image/png": "[encoded data removed]",
      "text/plain": [
       "<matplotlib.figure.Figure at 0x26024ec7e48>"
      ]
     },
     "metadata": {},
     "output_type": "display_data"
    },
    {
     "data": {
      "image/png": "[encoded data removed]",
      "text/plain": [
       "<matplotlib.figure.Figure at 0x260282129b0>"
      ]
     },
     "metadata": {},
     "output_type": "display_data"
    }
   ],
   "source": [
    "congestionfinder.congestion.plotCongestionsWithPatches(testDataArray, patchesFiltered)\n",
    "congestionfinder.congestion.plotCongestionsWithPatches(testBooleanArray, patchesFiltered)"
   ]
  },
  {
   "cell_type": "markdown",
   "metadata": {},
   "source": [
    "### Speed and Flows (part 2)"
   ]
  },
  {
   "cell_type": "markdown",
   "metadata": {},
   "source": [
    "The _speedflow class_ has additional functions to deal with _Patch objects_. In particular, it can use the _masks_ from the missing detectors and the low _flow_ times to reconstruct the _patches_ as they would have been before the filtering."
   ]
  },
  {
   "cell_type": "code",
   "execution_count": 31,
   "metadata": {},
   "outputs": [
    {
     "name": "stderr",
     "output_type": "stream",
     "text": [
      "2018-01-03 15:32:55,656 - DEBUG - Starting unmaskPatches()\n",
      "2018-01-03 15:32:55,656 - DEBUG - Ending unmaskPatches()\n"
     ]
    }
   ],
   "source": [
    "patches = []\n",
    "patches.append(patchfinder.patch.Patch(2, 3, 4, 5))\n",
    "patches.append(patchfinder.patch.Patch(0, 2, 1, 3))\n",
    "patches.append(patchfinder.patch.Patch(3, 3, 0, 1))\n",
    "maskSpace = [True, True, False, True, True]\n",
    "maskTime = [True, True, True, True, False, True, True]\n",
    "speedFlowPatches = congestionfinder.speedflow.unmaskPatches(patches, maskSpace, maskTime)"
   ]
  },
  {
   "cell_type": "markdown",
   "metadata": {},
   "source": [
    "As can be seen in the list below, the starts and ends shift depending on whether an additional space or time index was added."
   ]
  },
  {
   "cell_type": "code",
   "execution_count": 32,
   "metadata": {},
   "outputs": [
    {
     "name": "stdout",
     "output_type": "stream",
     "text": [
      "xStart: 3 | xEnd: 4 | yStart: 5 | yEnd: 6\n",
      "xStart: 0 | xEnd: 3 | yStart: 1 | yEnd: 3\n",
      "xStart: 4 | xEnd: 4 | yStart: 0 | yEnd: 1\n"
     ]
    }
   ],
   "source": [
    "for patch in speedFlowPatches:\n",
    "    print(patch)"
   ]
  },
  {
   "cell_type": "markdown",
   "metadata": {},
   "source": [
    "The _speedflow class_ can also add margins to the _Patch objects_. This is important to undo some of the effect of the coarse-graining which occured when the _congestion_ array was smoothed. To ensure that the function does not create unrealistic margins, the original boundaries of the _speed_ and _flow_ arrays need to be used."
   ]
  },
  {
   "cell_type": "code",
   "execution_count": 33,
   "metadata": {},
   "outputs": [
    {
     "name": "stderr",
     "output_type": "stream",
     "text": [
      "2018-01-03 15:32:55,687 - DEBUG - Starting addMargins()\n",
      "2018-01-03 15:32:55,703 - DEBUG - Ending addMargins()\n"
     ]
    }
   ],
   "source": [
    "patches = []\n",
    "patches.append(patchfinder.patch.Patch(2, 3, 4, 5))\n",
    "patches.append(patchfinder.patch.Patch(0, 2, 1, 3))\n",
    "patches.append(patchfinder.patch.Patch(3, 3, 0, 1))\n",
    "marginSpace = 2\n",
    "marginTime = 1\n",
    "minSpaceIndex = 0\n",
    "maxSpaceIndex = 15\n",
    "minTimeIndex = 0\n",
    "maxTimeIndex = 8\n",
    "patchesWithMargins = congestionfinder.speedflow.addMargins(patches, marginSpace, marginTime, minSpaceIndex, maxSpaceIndex, minTimeIndex, maxTimeIndex)"
   ]
  },
  {
   "cell_type": "markdown",
   "metadata": {},
   "source": [
    "As can be seen in the list below, the starts shift downward and the ends shift upward, unless the boundary of the array is hit."
   ]
  },
  {
   "cell_type": "code",
   "execution_count": 34,
   "metadata": {},
   "outputs": [
    {
     "name": "stdout",
     "output_type": "stream",
     "text": [
      "xStart: 0 | xEnd: 5 | yStart: 3 | yEnd: 6\n",
      "xStart: 0 | xEnd: 4 | yStart: 0 | yEnd: 4\n",
      "xStart: 1 | xEnd: 5 | yStart: 0 | yEnd: 2\n"
     ]
    }
   ],
   "source": [
    "for patch in patchesWithMargins:\n",
    "    print(patch)"
   ]
  },
  {
   "cell_type": "markdown",
   "metadata": {},
   "source": [
    "End of _Jupyter Notebook_."
   ]
  }
 ],
 "metadata": {
  "kernelspec": {
   "display_name": "Python 3",
   "language": "python",
   "name": "python3"
  },
  "language_info": {
   "codemirror_mode": {
    "name": "ipython",
    "version": 3
   },
   "file_extension": ".py",
   "mimetype": "text/x-python",
   "name": "python",
   "nbconvert_exporter": "python",
   "pygments_lexer": "ipython3",
   "version": "3.6.3"
  }
 },
 "nbformat": 4,
 "nbformat_minor": 2
}
