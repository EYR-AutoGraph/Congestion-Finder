{
 "cells": [
  {
   "cell_type": "markdown",
   "metadata": {},
   "source": [
    "# Examples of each Unit of the Congestion Finder"
   ]
  },
  {
   "cell_type": "markdown",
   "metadata": {},
   "source": [
    "This _Jupyter Notebook_ documents all the classes, objects and functions of the _congestion finder_ module. It shows how each work by giving a short example."
   ]
  },
  {
   "cell_type": "markdown",
   "metadata": {},
   "source": [
    "## Initialisation"
   ]
  },
  {
   "cell_type": "markdown",
   "metadata": {},
   "source": [
    "The _Jupyter Notebook_ is initialised by loading all required modules and turning on logging."
   ]
  },
  {
   "cell_type": "markdown",
   "metadata": {},
   "source": [
    "### Imports"
   ]
  },
  {
   "cell_type": "markdown",
   "metadata": {},
   "source": [
    "The following modules are required for this _Jupyter Notebook_. The _congestion finder_ module lives in the parent directory of this _documentation_ directory, so we need to append that directory to the _system path_ to be able to load the module."
   ]
  },
  {
   "cell_type": "code",
   "execution_count": 23,
   "metadata": {},
   "outputs": [],
   "source": [
    "import numpy\n",
    "import matplotlib.pyplot\n",
    "import logging\n",
    "import io\n",
    "import re\n",
    "import ast\n",
    "import sys\n",
    "sys.path.append(\"../\")\n",
    "import congestionfinder\n",
    "import congestionfinder.bpsdetector\n",
    "import congestionfinder.road\n",
    "import congestionfinder.detection\n",
    "import congestionfinder.speedflow\n",
    "import congestionfinder.congestion\n",
    "import patchfinder.patch"
   ]
  },
  {
   "cell_type": "markdown",
   "metadata": {},
   "source": [
    "### Logging"
   ]
  },
  {
   "cell_type": "markdown",
   "metadata": {},
   "source": [
    "To see what is going on while the functions are called, logging is turned on. It is set to _debug_ level."
   ]
  },
  {
   "cell_type": "code",
   "execution_count": 24,
   "metadata": {},
   "outputs": [],
   "source": [
    "logger = logging.getLogger()\n",
    "logger.setLevel(logging.DEBUG)\n",
    "formatter = logging.Formatter('%(asctime)s - %(levelname)s - %(message)s')\n",
    "consoleHandler = logging.StreamHandler()\n",
    "consoleHandler.setFormatter(formatter)\n",
    "logger.addHandler(consoleHandler)"
   ]
  },
  {
   "cell_type": "markdown",
   "metadata": {},
   "source": [
    "When running the _patch finder_ functions, it is also useful to extract specific logging information to build plots. Therefore, a second logger is introduced with a filter for these patches. This logger writes directly into a string variable."
   ]
  },
  {
   "cell_type": "code",
   "execution_count": 25,
   "metadata": {},
   "outputs": [],
   "source": [
    "class PlotFilter(logging.Filter):\n",
    "    def filter(self, record):\n",
    "        return \"Found patches:\" in record.getMessage()\n",
    "\n",
    "log_capture_string = io.StringIO()\n",
    "variableHandler = logging.StreamHandler(log_capture_string)\n",
    "variableHandler.addFilter(PlotFilter())\n",
    "logger.addHandler(variableHandler)"
   ]
  },
  {
   "cell_type": "markdown",
   "metadata": {},
   "source": [
    "## Classes"
   ]
  },
  {
   "cell_type": "markdown",
   "metadata": {},
   "source": [
    "The following classes contain objects and functions."
   ]
  },
  {
   "cell_type": "markdown",
   "metadata": {},
   "source": [
    "### BPS Detectors"
   ]
  },
  {
   "cell_type": "markdown",
   "metadata": {},
   "source": [
    "A _BPS detector_ can be identified using a 20-digit hexadecimal number, the _BPS code_. This number encodes all relevant information. The _constructor_ of the _BPSDetector object_ takes this number as a string and parses it to the relevant variables."
   ]
  },
  {
   "cell_type": "code",
   "execution_count": 26,
   "metadata": {},
   "outputs": [
    {
     "name": "stdout",
     "output_type": "stream",
     "text": [
      "bpsCode: 00D00C03405B18200005 | roadNumber: 12 | hectometer: 208 | additionalMeters: 91\n"
     ]
    }
   ],
   "source": [
    "bpsDetector = congestionfinder.bpsdetector.BPSDetector(\"00D00C03405B18200005\")\n",
    "print(bpsDetector)"
   ]
  },
  {
   "cell_type": "markdown",
   "metadata": {},
   "source": [
    "### Roads"
   ]
  },
  {
   "cell_type": "markdown",
   "metadata": {},
   "source": [
    "A _road_ can be identified by its number. Therefore, the _constructor_ of the _Road object_ takes as input a number."
   ]
  },
  {
   "cell_type": "code",
   "execution_count": 27,
   "metadata": {},
   "outputs": [
    {
     "name": "stdout",
     "output_type": "stream",
     "text": [
      "roadNumber: 12 | len(bpsDetectors): 0 | len(spaceToSpaceIndex): 0\n"
     ]
    }
   ],
   "source": [
    "road = congestionfinder.road.Road(12)\n",
    "print(road)"
   ]
  },
  {
   "cell_type": "markdown",
   "metadata": {},
   "source": [
    "Each _Road object_ contains a set of _BPSDetector objects_. Therefore, the _road class_ contains a function to add a _BPSDetector object_."
   ]
  },
  {
   "cell_type": "code",
   "execution_count": 28,
   "metadata": {},
   "outputs": [
    {
     "name": "stdout",
     "output_type": "stream",
     "text": [
      "roadNumber: 12 | len(bpsDetectors): 1 | len(spaceToSpaceIndex): 0\n"
     ]
    }
   ],
   "source": [
    "road.addBPSDetector(bpsDetector)\n",
    "print(road)"
   ]
  },
  {
   "cell_type": "markdown",
   "metadata": {},
   "source": [
    "The _BPS detectors_ can be ordered in space, along the _road_. Once all _BPSDetector objects_ have been added to the _Road object_, this set can be ordered into an index. The _road class_ contains a function to do this."
   ]
  },
  {
   "cell_type": "code",
   "execution_count": 29,
   "metadata": {},
   "outputs": [
    {
     "name": "stdout",
     "output_type": "stream",
     "text": [
      "roadNumber: 12 | len(bpsDetectors): 1 | len(spaceToSpaceIndex): 1\n",
      "{20891: 0}\n"
     ]
    }
   ],
   "source": [
    "road.indexDetectorSpaces()\n",
    "print(road)\n",
    "print(road.getSpaceToSpaceIndex())"
   ]
  },
  {
   "cell_type": "markdown",
   "metadata": {},
   "source": [
    "As _roads_ are essentially a specific lists of _BPS detectors_, the _road class_ contains a function which can parse a set of _BPSDetector object_ directly to a set of _Road objects_."
   ]
  },
  {
   "cell_type": "code",
   "execution_count": 30,
   "metadata": {},
   "outputs": [
    {
     "name": "stderr",
     "output_type": "stream",
     "text": [
      "2018-01-03 14:49:12,515 - DEBUG - Starting parseBPSDetectorsToRoads()\n",
      "2018-01-03 14:49:12,515 - DEBUG - Starting parseBPSDetectorsToRoads()\n",
      "2018-01-03 14:49:12,530 - DEBUG - Ending parseBPSDetectorsToRoads()\n",
      "2018-01-03 14:49:12,530 - DEBUG - Ending parseBPSDetectorsToRoads()\n"
     ]
    }
   ],
   "source": [
    "bpsDetectors = []\n",
    "bpsDetectors.append(congestionfinder.bpsdetector.BPSDetector(\"10D00204C00038200005\"))\n",
    "bpsDetectors.append(congestionfinder.bpsdetector.BPSDetector(\"10D00204D037D007000B\"))\n",
    "bpsDetectors.append(congestionfinder.bpsdetector.BPSDetector(\"10D002051800D0070013\"))\n",
    "bpsDetectors.append(congestionfinder.bpsdetector.BPSDetector(\"10D002057000D007000F\"))\n",
    "bpsDetectors.append(congestionfinder.bpsdetector.BPSDetector(\"10D01005381ED0070007\"))\n",
    "roads = congestionfinder.road.parseBPSDetectorsToRoads(bpsDetectors)\n",
    "for value in roads.values():\n",
    "    value.indexDetectorSpaces()"
   ]
  },
  {
   "cell_type": "markdown",
   "metadata": {},
   "source": [
    "The following prints the resulting set of _Road objects_, which in this example consists of 1 _Road object_ with 4 _BPSDetector objects_ and 1 _Road object_ with 1 _BPSDetector object_. "
   ]
  },
  {
   "cell_type": "code",
   "execution_count": 31,
   "metadata": {},
   "outputs": [
    {
     "name": "stdout",
     "output_type": "stream",
     "text": [
      "roadNumber: 2 | len(bpsDetectors): 4 | len(spaceToSpaceIndex): 4\n",
      "roadNumber: 16 | len(bpsDetectors): 1 | len(spaceToSpaceIndex): 1\n"
     ]
    }
   ],
   "source": [
    "for road in roads.values():\n",
    "    print(road)"
   ]
  },
  {
   "cell_type": "markdown",
   "metadata": {},
   "source": [
    "### Detections"
   ]
  },
  {
   "cell_type": "markdown",
   "metadata": {},
   "source": [
    "A _detection_ consists of a measurement of average _speed_ and average _flow_ at a specific location and time. The _constructor_ of the _Detection object_ takes as input a _BPS code_, a _space_ and _time_ location and the _speed_ and _flow_ data."
   ]
  },
  {
   "cell_type": "code",
   "execution_count": 32,
   "metadata": {},
   "outputs": [
    {
     "name": "stdout",
     "output_type": "stream",
     "text": [
      "code: 00D00C03405B18200005 | space: 1234 | time: 1440 | speed: 120 | flow: 17\n"
     ]
    }
   ],
   "source": [
    "detection = congestionfinder.detection.Detection(\"00D00C03405B18200005\", 1234, 1440, 120, 17)\n",
    "print(detection)"
   ]
  },
  {
   "cell_type": "markdown",
   "metadata": {},
   "source": [
    "### Speed and Flows (part 1)"
   ]
  },
  {
   "cell_type": "markdown",
   "metadata": {},
   "source": [
    "A set of _detections_ along a single _road_ can be represented as two arrays of _speeds_ and _flows_. The _speedflow class_ contains a function which parses a set of _Detection objects_ into such arrays. It uses information about the structure of the _Road object_ to map the _Detection objects_ to the right location. It also gives the boundaries in _space_ and in _time_ of these arrays. As the input _road_, one of the _Road objects_ constructed above is used."
   ]
  },
  {
   "cell_type": "code",
   "execution_count": 33,
   "metadata": {},
   "outputs": [
    {
     "name": "stderr",
     "output_type": "stream",
     "text": [
      "2018-01-03 14:49:12,593 - DEBUG - Starting parseDetectionsToSpeedFlows()\n",
      "2018-01-03 14:49:12,593 - DEBUG - Starting parseDetectionsToSpeedFlows()\n",
      "2018-01-03 14:49:12,608 - DEBUG - Ending parseDetectionsToSpeedFlows()\n",
      "2018-01-03 14:49:12,608 - DEBUG - Ending parseDetectionsToSpeedFlows()\n"
     ]
    }
   ],
   "source": [
    "detections = []\n",
    "detections.append(congestionfinder.detection.Detection(\"10D00204C00038200005\", 30400, 1, 100, 1))\n",
    "detections.append(congestionfinder.detection.Detection(\"10D00204C00038200005\", 30400, 2, 85, 20))\n",
    "detections.append(congestionfinder.detection.Detection(\"10D00204C00038200005\", 30400, 3, 80, 17))\n",
    "detections.append(congestionfinder.detection.Detection(\"10D00204C00038200005\", 30400, 4, 70, 15))\n",
    "detections.append(congestionfinder.detection.Detection(\"10D002051800D0070013\", 32600, 1, 100, 1))\n",
    "detections.append(congestionfinder.detection.Detection(\"10D002051800D0070013\", 32600, 2, 55, 18))\n",
    "detections.append(congestionfinder.detection.Detection(\"10D002051800D0070013\", 32600, 3, 35, 12))\n",
    "detections.append(congestionfinder.detection.Detection(\"10D002051800D0070013\", 32600, 4, 40, 14))\n",
    "detections.append(congestionfinder.detection.Detection(\"10D002057000D007000F\", 34800, 1, 95, 1))\n",
    "detections.append(congestionfinder.detection.Detection(\"10D002057000D007000F\", 34800, 2, 85, 14))\n",
    "detections.append(congestionfinder.detection.Detection(\"10D002057000D007000F\", 34800, 3, 100, 19))\n",
    "detections.append(congestionfinder.detection.Detection(\"10D002057000D007000F\", 34800, 4, 90, 16))\n",
    "road = roads[2]\n",
    "speeds, flows, minSpaceIndex, maxSpaceIndex, minTimeIndex, maxTimeIndex = congestionfinder.speedflow.parseDetectionsToSpeedsAndFlows(detections, road)"
   ]
  },
  {
   "cell_type": "markdown",
   "metadata": {},
   "source": [
    "These _speeds_ and _flows_ arrays are both 4 by 4 matrices. A plot shows the matrices."
   ]
  },
  {
   "cell_type": "code",
   "execution_count": 34,
   "metadata": {},
   "outputs": [
    {
     "name": "stdout",
     "output_type": "stream",
     "text": [
      "(4, 4)\n",
      "(4, 4)\n",
      "0\n",
      "3\n",
      "1\n",
      "4\n"
     ]
    },
    {
     "data": {
      "image/png": "[encoded data removed]",
      "text/plain": [
       "<matplotlib.figure.Figure at 0x17a79a2e588>"
      ]
     },
     "metadata": {},
     "output_type": "display_data"
    },
    {
     "data": {
      "image/png": "[encoded data removed]",
      "text/plain": [
       "<matplotlib.figure.Figure at 0x17a7bb61c88>"
      ]
     },
     "metadata": {},
     "output_type": "display_data"
    }
   ],
   "source": [
    "print(speeds.shape)\n",
    "print(flows.shape)\n",
    "print(minSpaceIndex)\n",
    "print(maxSpaceIndex)\n",
    "print(minTimeIndex)\n",
    "print(maxTimeIndex)\n",
    "matplotlib.pyplot.imshow(speeds, aspect = \"auto\")\n",
    "matplotlib.pyplot.colorbar()\n",
    "matplotlib.pyplot.show()\n",
    "matplotlib.pyplot.imshow(flows, aspect = \"auto\")\n",
    "matplotlib.pyplot.colorbar()\n",
    "matplotlib.pyplot.show()"
   ]
  },
  {
   "cell_type": "markdown",
   "metadata": {},
   "source": [
    "In real life, it may occur that a _BPS detector_ is out of order. In this case, no information from that location is known. As such, the _speed_ and _flow_ data may contain gaps and its boundaries may not be the same as the start and finish of the _road_. Therefore, the _speedflow class_ contains a function which can remove such locations. It returns trimmed arrays for _speed_ and _flow_ data, and a _mask_ which can be used to identify the space index with the original spatial location of the _Detection object_."
   ]
  },
  {
   "cell_type": "code",
   "execution_count": 35,
   "metadata": {
    "scrolled": true
   },
   "outputs": [
    {
     "name": "stderr",
     "output_type": "stream",
     "text": [
      "2018-01-03 14:49:12,999 - DEBUG - Starting removeMissingDetectors()\n",
      "2018-01-03 14:49:12,999 - DEBUG - Starting removeMissingDetectors()\n",
      "2018-01-03 14:49:12,999 - DEBUG - Ending removeMissingDetectors()\n",
      "2018-01-03 14:49:12,999 - DEBUG - Ending removeMissingDetectors()\n"
     ]
    }
   ],
   "source": [
    "speedsWorkingDetectors, flowsWorkingDetectors, maskWorkingDetectors = congestionfinder.speedflow.removeMissingDetectors(speeds, flows)"
   ]
  },
  {
   "cell_type": "markdown",
   "metadata": {},
   "source": [
    "In this example, there is a missing detector at space index 1 which can be removed. The resulting arrays are both 4 by 3 matrices. A plot shows the matrices."
   ]
  },
  {
   "cell_type": "code",
   "execution_count": 36,
   "metadata": {},
   "outputs": [
    {
     "name": "stdout",
     "output_type": "stream",
     "text": [
      "(3, 4)\n",
      "(3, 4)\n",
      "0.75\n"
     ]
    },
    {
     "data": {
      "image/png": "[encoded data removed]",
      "text/plain": [
       "<matplotlib.figure.Figure at 0x17a7bc5d0f0>"
      ]
     },
     "metadata": {},
     "output_type": "display_data"
    },
    {
     "data": {
      "image/png": "[encoded data removed]",
      "text/plain": [
       "<matplotlib.figure.Figure at 0x17a7bd05cc0>"
      ]
     },
     "metadata": {},
     "output_type": "display_data"
    }
   ],
   "source": [
    "print(speedsWorkingDetectors.shape)\n",
    "print(flowsWorkingDetectors.shape)\n",
    "print(sum(maskWorkingDetectors) / (sum(maskWorkingDetectors) + sum(~maskWorkingDetectors)))\n",
    "matplotlib.pyplot.imshow(speedsWorkingDetectors, aspect = \"auto\")\n",
    "matplotlib.pyplot.colorbar()\n",
    "matplotlib.pyplot.show()\n",
    "matplotlib.pyplot.imshow(flowsWorkingDetectors, aspect = \"auto\")\n",
    "matplotlib.pyplot.colorbar()\n",
    "matplotlib.pyplot.show()"
   ]
  },
  {
   "cell_type": "markdown",
   "metadata": {},
   "source": [
    "Not all _detection_ data is reliable or relevant. When the _flow_ is low, the measurements of average _speed_ are less accurate. Furthermore, there is no possibility for congestion. Low _flow_ occurs consistently at specific times, such as during the night. The _speedflow class_ contains a function which can remove such low _flow_ times. It returns trimmed arrays for _speed_ and _flow_ data, and a _mask_ which can be used to identify the time index with the original temporal location of the _Detection object_."
   ]
  },
  {
   "cell_type": "code",
   "execution_count": 37,
   "metadata": {},
   "outputs": [
    {
     "name": "stderr",
     "output_type": "stream",
     "text": [
      "2018-01-03 14:49:13,327 - DEBUG - Starting removeLowFlowTimes()\n",
      "2018-01-03 14:49:13,327 - DEBUG - Starting removeLowFlowTimes()\n",
      "2018-01-03 14:49:13,327 - DEBUG - Ending removeLowFlowTimes()\n",
      "2018-01-03 14:49:13,327 - DEBUG - Ending removeLowFlowTimes()\n"
     ]
    }
   ],
   "source": [
    "speedsHighFlow, flowsHighFlow, maskHighFlow = congestionfinder.speedflow.removeLowFlowTimes(speedsWorkingDetectors, flowsWorkingDetectors)"
   ]
  },
  {
   "cell_type": "markdown",
   "metadata": {},
   "source": [
    "In this example, there is low _flow_ at time index 0. The resulting arrays are both 3 by 3 matrices. A plot shows the matrices."
   ]
  },
  {
   "cell_type": "code",
   "execution_count": 38,
   "metadata": {},
   "outputs": [
    {
     "name": "stdout",
     "output_type": "stream",
     "text": [
      "(3, 3)\n",
      "(3, 3)\n",
      "0.75\n"
     ]
    },
    {
     "data": {
      "image/png": "[encoded data removed]",
      "text/plain": [
       "<matplotlib.figure.Figure at 0x17a7bdb7c88>"
      ]
     },
     "metadata": {},
     "output_type": "display_data"
    },
    {
     "data": {
      "image/png": "[encoded data removed]",
      "text/plain": [
       "<matplotlib.figure.Figure at 0x17a7cde3da0>"
      ]
     },
     "metadata": {},
     "output_type": "display_data"
    }
   ],
   "source": [
    "print(speedsHighFlow.shape)\n",
    "print(flowsHighFlow.shape)\n",
    "print(sum(maskHighFlow) / (sum(maskHighFlow) + sum(~maskHighFlow)))\n",
    "matplotlib.pyplot.imshow(speedsHighFlow, aspect = \"auto\")\n",
    "matplotlib.pyplot.colorbar()\n",
    "matplotlib.pyplot.show()\n",
    "matplotlib.pyplot.imshow(flowsHighFlow, aspect = \"auto\")\n",
    "matplotlib.pyplot.colorbar()\n",
    "matplotlib.pyplot.show()"
   ]
  },
  {
   "cell_type": "markdown",
   "metadata": {},
   "source": [
    "### Congestion"
   ]
  },
  {
   "cell_type": "markdown",
   "metadata": {},
   "source": [
    "_Speed_ and _flow_ data can be combined to devise a measure of _congestion_. The _Congestion class_ contains a function which takes the _speed_ and _flow_ arrays and, based on two thresholds, returns an array where any value below 1 indicates _congestion_. As the input arrays, the _speeds_ and _flows_ constructed above are used."
   ]
  },
  {
   "cell_type": "code",
   "execution_count": 39,
   "metadata": {},
   "outputs": [
    {
     "name": "stderr",
     "output_type": "stream",
     "text": [
      "2018-01-03 14:49:13,640 - DEBUG - Starting parseSpeedFlowsToCongestions()\n",
      "2018-01-03 14:49:13,640 - DEBUG - Starting parseSpeedFlowsToCongestions()\n",
      "2018-01-03 14:49:13,640 - DEBUG - Ending parseSpeedFlowsToCongestions()\n",
      "2018-01-03 14:49:13,640 - DEBUG - Ending parseSpeedFlowsToCongestions()\n"
     ]
    }
   ],
   "source": [
    "speedThreshold = 65\n",
    "flowThreshold = 40\n",
    "congestions = congestionfinder.congestion.parseSpeedFlowsToCongestions(speedsHighFlow, flowsHighFlow, speedThreshold, flowThreshold)"
   ]
  },
  {
   "cell_type": "markdown",
   "metadata": {},
   "source": [
    "In this example, the resulting array is a 3 by 3 matrix. A plot shows the matrix."
   ]
  },
  {
   "cell_type": "code",
   "execution_count": 40,
   "metadata": {},
   "outputs": [
    {
     "name": "stdout",
     "output_type": "stream",
     "text": [
      "(3, 3)\n"
     ]
    },
    {
     "data": {
      "image/png": "[encoded data removed]",
      "text/plain": [
       "<matplotlib.figure.Figure at 0x17a79a4a3c8>"
      ]
     },
     "metadata": {},
     "output_type": "display_data"
    }
   ],
   "source": [
    "print(congestions.shape)\n",
    "matplotlib.pyplot.imshow(congestions, aspect = \"auto\")\n",
    "matplotlib.pyplot.colorbar()\n",
    "matplotlib.pyplot.show()"
   ]
  },
  {
   "cell_type": "markdown",
   "metadata": {},
   "source": [
    "In real life, this array may contain missing values. This can occur when a _BPS detector_ is temporarily out of order. The _congestion class_ contains a function which can impute the missing values."
   ]
  },
  {
   "cell_type": "code",
   "execution_count": 41,
   "metadata": {},
   "outputs": [
    {
     "name": "stderr",
     "output_type": "stream",
     "text": [
      "2018-01-03 14:49:13,812 - DEBUG - Starting interpolateMissingValues()\n",
      "2018-01-03 14:49:13,812 - DEBUG - Starting interpolateMissingValues()\n",
      "2018-01-03 14:49:13,827 - DEBUG - Ending interpolateMissingValues()\n",
      "2018-01-03 14:49:13,827 - DEBUG - Ending interpolateMissingValues()\n"
     ]
    }
   ],
   "source": [
    "congestions[1, 1] = numpy.nan\n",
    "congestionsWithoutMissingValues = congestionfinder.congestion.interpolateMissingValues(congestions)"
   ]
  },
  {
   "cell_type": "markdown",
   "metadata": {},
   "source": [
    "The resulting array is, again, a 3 by 3 matrix. A plot shows the matrix."
   ]
  },
  {
   "cell_type": "code",
   "execution_count": 42,
   "metadata": {},
   "outputs": [
    {
     "name": "stdout",
     "output_type": "stream",
     "text": [
      "(3, 3)\n"
     ]
    },
    {
     "data": {
      "image/png": "[encoded data removed]",
      "text/plain": [
       "<matplotlib.figure.Figure at 0x17a7cf3ab70>"
      ]
     },
     "metadata": {},
     "output_type": "display_data"
    }
   ],
   "source": [
    "print(congestionsWithoutMissingValues.shape)\n",
    "matplotlib.pyplot.imshow(congestionsWithoutMissingValues, aspect = \"auto\")\n",
    "matplotlib.pyplot.colorbar()\n",
    "matplotlib.pyplot.show()"
   ]
  },
  {
   "cell_type": "markdown",
   "metadata": {},
   "source": [
    "The original _speed_ and _flow_ data were at a fine-grained level. _Congestion_ naturally occurs at a coarser level. Furthermore, while searching for _congestion_, is it important not to get thrown off by a single outlying value in the _speed_ or _flow_ data. Therefore, it is useful to smooth the _congestion_ array to a coarse-grained level. The _congestion class_ contains a smoothing function which takes the _congestion_ array and two parameters indicating the level of smoothing in the spatial and in the temporal dimension."
   ]
  },
  {
   "cell_type": "code",
   "execution_count": 43,
   "metadata": {},
   "outputs": [
    {
     "name": "stderr",
     "output_type": "stream",
     "text": [
      "2018-01-03 14:49:14,046 - DEBUG - Starting applySmoothingFilter()\n",
      "2018-01-03 14:49:14,046 - DEBUG - Starting applySmoothingFilter()\n",
      "2018-01-03 14:49:14,046 - DEBUG - Ending applySmoothingFilter()\n",
      "2018-01-03 14:49:14,046 - DEBUG - Ending applySmoothingFilter()\n"
     ]
    }
   ],
   "source": [
    "spaceSmoothing = 2\n",
    "timeSmoothing = 3\n",
    "congestionsSmoothed = congestionfinder.congestion.applySmoothingFilter(congestionsWithoutMissingValues, spaceSmoothing, timeSmoothing)"
   ]
  },
  {
   "cell_type": "markdown",
   "metadata": {},
   "source": [
    "The resulting array is, again, a 3 by 3 matrix. The values, however, are averaged out more. A plot shows the matrix."
   ]
  },
  {
   "cell_type": "code",
   "execution_count": 44,
   "metadata": {},
   "outputs": [
    {
     "name": "stdout",
     "output_type": "stream",
     "text": [
      "(3, 3)\n"
     ]
    },
    {
     "data": {
      "image/png": "[encoded data removed]",
      "text/plain": [
       "<matplotlib.figure.Figure at 0x17a7cf34438>"
      ]
     },
     "metadata": {},
     "output_type": "display_data"
    }
   ],
   "source": [
    "print(congestionsSmoothed.shape)\n",
    "matplotlib.pyplot.imshow(congestionsSmoothed, aspect = \"auto\")\n",
    "matplotlib.pyplot.colorbar()\n",
    "matplotlib.pyplot.show()"
   ]
  },
  {
   "cell_type": "markdown",
   "metadata": {},
   "source": [
    "## Patch Finder"
   ]
  },
  {
   "cell_type": "markdown",
   "metadata": {},
   "source": [
    "The _patch finder_ module is an integral part of the _congestion finder_ module, but is more general. It is a module with a function which can find patches of _True_ in a boolean array. As such, any type of array can be entered, with some condition which turns it boolean. The function will return a set of _Patch objects_. The _Patch object_ includes the start and the end index in both dimensions. In principle, the concept of the _patch finder_ module can be extended to more dimensions, but that is not necessary here."
   ]
  },
  {
   "cell_type": "code",
   "execution_count": 45,
   "metadata": {},
   "outputs": [
    {
     "name": "stdout",
     "output_type": "stream",
     "text": [
      "[[False False False  True False False False False False]\n",
      " [False  True False False False False False False False]\n",
      " [False False False False False False False False  True]\n",
      " [False False  True False False  True False False False]\n",
      " [False False False  True False False  True False False]\n",
      " [False False False False False False False False False]\n",
      " [False False False False False  True False  True False]\n",
      " [False False False False False False False False False]\n",
      " [False False False False False  True False False False]\n",
      " [ True False False False  True False False  True False]\n",
      " [False False False False False  True False False False]\n",
      " [False False False False False False False False  True]\n",
      " [False  True False False False False False False False]\n",
      " [False False False False False False False False False]\n",
      " [ True False False False False False False False False]\n",
      " [False False False False False  True False False False]]\n"
     ]
    }
   ],
   "source": [
    "testDataArray = numpy.random.rand(16,9)\n",
    "testBooleanArray = testDataArray >= 0.9\n",
    "print(testBooleanArray)"
   ]
  },
  {
   "cell_type": "markdown",
   "metadata": {},
   "source": [
    "The _patch class_ contains a function which takes the example boolean array constructed above. It recursively searches for smaller patches within each patch and finally returns a list of _Patch objects_."
   ]
  },
  {
   "cell_type": "code",
   "execution_count": 46,
   "metadata": {},
   "outputs": [
    {
     "name": "stderr",
     "output_type": "stream",
     "text": [
      "2018-01-03 14:49:14,234 - DEBUG - Starting findPatches()\n",
      "2018-01-03 14:49:14,234 - DEBUG - Starting findPatches()\n",
      "2018-01-03 14:49:14,234 - DEBUG - Direction: 0\n",
      "2018-01-03 14:49:14,234 - DEBUG - Direction: 0\n",
      "2018-01-03 14:49:14,249 - DEBUG - Starting scanForBoundaries()\n",
      "2018-01-03 14:49:14,249 - DEBUG - Starting scanForBoundaries()\n",
      "2018-01-03 14:49:14,249 - DEBUG - Found start: 0\n",
      "2018-01-03 14:49:14,249 - DEBUG - Found start: 0\n",
      "2018-01-03 14:49:14,249 - DEBUG - Found stop at end.\n",
      "2018-01-03 14:49:14,249 - DEBUG - Found stop at end.\n",
      "2018-01-03 14:49:14,249 - DEBUG - Ending scanForBoundaries()\n",
      "2018-01-03 14:49:14,249 - DEBUG - Ending scanForBoundaries()\n",
      "2018-01-03 14:49:14,265 - DEBUG - Found patches: [[0, 15, 0, 8]]\n",
      "2018-01-03 14:49:14,265 - DEBUG - Found patches: [[0, 15, 0, 8]]\n",
      "2018-01-03 14:49:14,265 - DEBUG - length: 1| parentLength: 0\n",
      "2018-01-03 14:49:14,265 - DEBUG - length: 1| parentLength: 0\n",
      "2018-01-03 14:49:14,265 - DEBUG - Scanning children...\n",
      "2018-01-03 14:49:14,265 - DEBUG - Scanning children...\n",
      "2018-01-03 14:49:14,265 - DEBUG - Child: 0\n",
      "2018-01-03 14:49:14,265 - DEBUG - Child: 0\n",
      "2018-01-03 14:49:14,265 - DEBUG -   Starting findPatches()\n",
      "2018-01-03 14:49:14,265 - DEBUG -   Starting findPatches()\n",
      "2018-01-03 14:49:14,265 - DEBUG -   Direction: 1\n",
      "2018-01-03 14:49:14,265 - DEBUG -   Direction: 1\n",
      "2018-01-03 14:49:14,265 - DEBUG -   Starting scanForBoundaries()\n",
      "2018-01-03 14:49:14,265 - DEBUG -   Starting scanForBoundaries()\n",
      "2018-01-03 14:49:14,280 - DEBUG -   Found start: 0\n",
      "2018-01-03 14:49:14,280 - DEBUG -   Found start: 0\n",
      "2018-01-03 14:49:14,280 - DEBUG -   Found stop: 4\n",
      "2018-01-03 14:49:14,280 - DEBUG -   Found stop: 4\n",
      "2018-01-03 14:49:14,280 - DEBUG -   Found start: 6\n",
      "2018-01-03 14:49:14,280 - DEBUG -   Found start: 6\n",
      "2018-01-03 14:49:14,280 - DEBUG -   Found stop: 6\n",
      "2018-01-03 14:49:14,280 - DEBUG -   Found stop: 6\n",
      "2018-01-03 14:49:14,280 - DEBUG -   Found start: 8\n",
      "2018-01-03 14:49:14,280 - DEBUG -   Found start: 8\n",
      "2018-01-03 14:49:14,280 - DEBUG -   Found stop: 12\n",
      "2018-01-03 14:49:14,280 - DEBUG -   Found stop: 12\n",
      "2018-01-03 14:49:14,280 - DEBUG -   Found start: 14\n",
      "2018-01-03 14:49:14,280 - DEBUG -   Found start: 14\n",
      "2018-01-03 14:49:14,280 - DEBUG -   Found stop at end.\n",
      "2018-01-03 14:49:14,280 - DEBUG -   Found stop at end.\n",
      "2018-01-03 14:49:14,296 - DEBUG -   Ending scanForBoundaries()\n",
      "2018-01-03 14:49:14,296 - DEBUG -   Ending scanForBoundaries()\n",
      "2018-01-03 14:49:14,296 - DEBUG -   Found patches: [[0, 4, 0, 8], [6, 6, 0, 8], [8, 12, 0, 8], [14, 15, 0, 8]]\n",
      "2018-01-03 14:49:14,296 - DEBUG -   Found patches: [[0, 4, 0, 8], [6, 6, 0, 8], [8, 12, 0, 8], [14, 15, 0, 8]]\n",
      "2018-01-03 14:49:14,296 - DEBUG -   length: 4| parentLength: 1\n",
      "2018-01-03 14:49:14,296 - DEBUG -   length: 4| parentLength: 1\n",
      "2018-01-03 14:49:14,296 - DEBUG -   Scanning children...\n",
      "2018-01-03 14:49:14,296 - DEBUG -   Scanning children...\n",
      "2018-01-03 14:49:14,296 - DEBUG -   Child: 0\n",
      "2018-01-03 14:49:14,296 - DEBUG -   Child: 0\n",
      "2018-01-03 14:49:14,296 - DEBUG -     Starting findPatches()\n",
      "2018-01-03 14:49:14,296 - DEBUG -     Starting findPatches()\n",
      "2018-01-03 14:49:14,296 - DEBUG -     Direction: 0\n",
      "2018-01-03 14:49:14,296 - DEBUG -     Direction: 0\n",
      "2018-01-03 14:49:14,296 - DEBUG -     Starting scanForBoundaries()\n",
      "2018-01-03 14:49:14,296 - DEBUG -     Starting scanForBoundaries()\n",
      "2018-01-03 14:49:14,312 - DEBUG -     Found start: 1\n",
      "2018-01-03 14:49:14,312 - DEBUG -     Found start: 1\n",
      "2018-01-03 14:49:14,312 - DEBUG -     Found stop: 3\n",
      "2018-01-03 14:49:14,312 - DEBUG -     Found stop: 3\n",
      "2018-01-03 14:49:14,312 - DEBUG -     Found start: 5\n",
      "2018-01-03 14:49:14,312 - DEBUG -     Found start: 5\n",
      "2018-01-03 14:49:14,312 - DEBUG -     Found stop: 6\n",
      "2018-01-03 14:49:14,312 - DEBUG -     Found stop: 6\n",
      "2018-01-03 14:49:14,312 - DEBUG -     Found start: 8\n",
      "2018-01-03 14:49:14,312 - DEBUG -     Found start: 8\n",
      "2018-01-03 14:49:14,312 - DEBUG -     Found stop at end.\n",
      "2018-01-03 14:49:14,312 - DEBUG -     Found stop at end.\n",
      "2018-01-03 14:49:14,312 - DEBUG -     Ending scanForBoundaries()\n",
      "2018-01-03 14:49:14,312 - DEBUG -     Ending scanForBoundaries()\n",
      "2018-01-03 14:49:14,312 - DEBUG -     Found patches: [[0, 4, 1, 3], [0, 4, 5, 6], [0, 4, 8, 8]]\n",
      "2018-01-03 14:49:14,312 - DEBUG -     Found patches: [[0, 4, 1, 3], [0, 4, 5, 6], [0, 4, 8, 8]]\n",
      "2018-01-03 14:49:14,312 - DEBUG -     length: 3| parentLength: 4\n",
      "2018-01-03 14:49:14,312 - DEBUG -     length: 3| parentLength: 4\n",
      "2018-01-03 14:49:14,327 - DEBUG -     Scanning children...\n",
      "2018-01-03 14:49:14,327 - DEBUG -     Scanning children...\n",
      "2018-01-03 14:49:14,327 - DEBUG -     Child: 0\n",
      "2018-01-03 14:49:14,327 - DEBUG -     Child: 0\n",
      "2018-01-03 14:49:14,327 - DEBUG -       Starting findPatches()\n",
      "2018-01-03 14:49:14,327 - DEBUG -       Starting findPatches()\n",
      "2018-01-03 14:49:14,327 - DEBUG -       Direction: 1\n",
      "2018-01-03 14:49:14,327 - DEBUG -       Direction: 1\n",
      "2018-01-03 14:49:14,327 - DEBUG -       Starting scanForBoundaries()\n",
      "2018-01-03 14:49:14,327 - DEBUG -       Starting scanForBoundaries()\n",
      "2018-01-03 14:49:14,327 - DEBUG -       Found start: 0\n",
      "2018-01-03 14:49:14,327 - DEBUG -       Found start: 0\n",
      "2018-01-03 14:49:14,327 - DEBUG -       Found stop: 1\n",
      "2018-01-03 14:49:14,327 - DEBUG -       Found stop: 1\n",
      "2018-01-03 14:49:14,327 - DEBUG -       Found start: 3\n",
      "2018-01-03 14:49:14,327 - DEBUG -       Found start: 3\n",
      "2018-01-03 14:49:14,327 - DEBUG -       Found stop at end.\n",
      "2018-01-03 14:49:14,327 - DEBUG -       Found stop at end.\n",
      "2018-01-03 14:49:14,343 - DEBUG -       Ending scanForBoundaries()\n",
      "2018-01-03 14:49:14,343 - DEBUG -       Ending scanForBoundaries()\n",
      "2018-01-03 14:49:14,343 - DEBUG -       Found patches: [[0, 1, 1, 3], [3, 4, 1, 3]]\n",
      "2018-01-03 14:49:14,343 - DEBUG -       Found patches: [[0, 1, 1, 3], [3, 4, 1, 3]]\n",
      "2018-01-03 14:49:14,343 - DEBUG -       length: 2| parentLength: 3\n",
      "2018-01-03 14:49:14,343 - DEBUG -       length: 2| parentLength: 3\n",
      "2018-01-03 14:49:14,343 - DEBUG -       Scanning children...\n",
      "2018-01-03 14:49:14,343 - DEBUG -       Scanning children...\n",
      "2018-01-03 14:49:14,343 - DEBUG -       Child: 0\n",
      "2018-01-03 14:49:14,343 - DEBUG -       Child: 0\n",
      "2018-01-03 14:49:14,343 - DEBUG -         Starting findPatches()\n",
      "2018-01-03 14:49:14,343 - DEBUG -         Starting findPatches()\n",
      "2018-01-03 14:49:14,343 - DEBUG -         Direction: 0\n",
      "2018-01-03 14:49:14,343 - DEBUG -         Direction: 0\n",
      "2018-01-03 14:49:14,343 - DEBUG -         Starting scanForBoundaries()\n",
      "2018-01-03 14:49:14,343 - DEBUG -         Starting scanForBoundaries()\n",
      "2018-01-03 14:49:14,343 - DEBUG -         Found start: 0\n",
      "2018-01-03 14:49:14,343 - DEBUG -         Found start: 0\n",
      "2018-01-03 14:49:14,343 - DEBUG -         Found stop: 0\n",
      "2018-01-03 14:49:14,343 - DEBUG -         Found stop: 0\n",
      "2018-01-03 14:49:14,359 - DEBUG -         Found start: 2\n",
      "2018-01-03 14:49:14,359 - DEBUG -         Found start: 2\n",
      "2018-01-03 14:49:14,359 - DEBUG -         Found stop at end.\n",
      "2018-01-03 14:49:14,359 - DEBUG -         Found stop at end.\n",
      "2018-01-03 14:49:14,359 - DEBUG -         Ending scanForBoundaries()\n",
      "2018-01-03 14:49:14,359 - DEBUG -         Ending scanForBoundaries()\n",
      "2018-01-03 14:49:14,359 - DEBUG -         Found patches: [[0, 1, 1, 1], [0, 1, 3, 3]]\n",
      "2018-01-03 14:49:14,359 - DEBUG -         Found patches: [[0, 1, 1, 1], [0, 1, 3, 3]]\n",
      "2018-01-03 14:49:14,359 - DEBUG -         length: 2| parentLength: 2\n",
      "2018-01-03 14:49:14,359 - DEBUG -         length: 2| parentLength: 2\n",
      "2018-01-03 14:49:14,359 - DEBUG -         Scanning children...\n",
      "2018-01-03 14:49:14,359 - DEBUG -         Scanning children...\n",
      "2018-01-03 14:49:14,359 - DEBUG -         Child: 0\n",
      "2018-01-03 14:49:14,359 - DEBUG -         Child: 0\n",
      "2018-01-03 14:49:14,359 - DEBUG -           Starting findPatches()\n",
      "2018-01-03 14:49:14,359 - DEBUG -           Starting findPatches()\n",
      "2018-01-03 14:49:14,359 - DEBUG -           Direction: 1\n",
      "2018-01-03 14:49:14,359 - DEBUG -           Direction: 1\n",
      "2018-01-03 14:49:14,374 - DEBUG -           Starting scanForBoundaries()\n",
      "2018-01-03 14:49:14,374 - DEBUG -           Starting scanForBoundaries()\n",
      "2018-01-03 14:49:14,374 - DEBUG -           Found start: 1\n",
      "2018-01-03 14:49:14,374 - DEBUG -           Found start: 1\n",
      "2018-01-03 14:49:14,374 - DEBUG -           Found stop at end.\n",
      "2018-01-03 14:49:14,374 - DEBUG -           Found stop at end.\n"
     ]
    },
    {
     "name": "stderr",
     "output_type": "stream",
     "text": [
      "2018-01-03 14:49:14,374 - DEBUG -           Ending scanForBoundaries()\n",
      "2018-01-03 14:49:14,374 - DEBUG -           Ending scanForBoundaries()\n",
      "2018-01-03 14:49:14,374 - DEBUG -           Found patches: [[1, 1, 1, 1]]\n",
      "2018-01-03 14:49:14,374 - DEBUG -           Found patches: [[1, 1, 1, 1]]\n",
      "2018-01-03 14:49:14,374 - DEBUG -           length: 1| parentLength: 2\n",
      "2018-01-03 14:49:14,374 - DEBUG -           length: 1| parentLength: 2\n",
      "2018-01-03 14:49:14,374 - DEBUG -           Scanning children...\n",
      "2018-01-03 14:49:14,374 - DEBUG -           Scanning children...\n",
      "2018-01-03 14:49:14,374 - DEBUG -           Child: 0\n",
      "2018-01-03 14:49:14,374 - DEBUG -           Child: 0\n",
      "2018-01-03 14:49:14,374 - DEBUG -             Starting findPatches()\n",
      "2018-01-03 14:49:14,374 - DEBUG -             Starting findPatches()\n",
      "2018-01-03 14:49:14,390 - DEBUG -             Direction: 0\n",
      "2018-01-03 14:49:14,390 - DEBUG -             Direction: 0\n",
      "2018-01-03 14:49:14,390 - DEBUG -             Starting scanForBoundaries()\n",
      "2018-01-03 14:49:14,390 - DEBUG -             Starting scanForBoundaries()\n",
      "2018-01-03 14:49:14,390 - DEBUG -             Length is one\n",
      "2018-01-03 14:49:14,390 - DEBUG -             Length is one\n",
      "2018-01-03 14:49:14,390 - DEBUG -             Ending scanForBoundaries()\n",
      "2018-01-03 14:49:14,390 - DEBUG -             Ending scanForBoundaries()\n",
      "2018-01-03 14:49:14,390 - DEBUG -             Found patches: [[1, 1, 1, 1]]\n",
      "2018-01-03 14:49:14,390 - DEBUG -             Found patches: [[1, 1, 1, 1]]\n",
      "2018-01-03 14:49:14,390 - DEBUG -             length: 1| parentLength: 1\n",
      "2018-01-03 14:49:14,390 - DEBUG -             length: 1| parentLength: 1\n",
      "2018-01-03 14:49:14,390 - DEBUG -             Done: xStart: 1 | xEnd: 1 | yStart: 1 | yEnd: 1\n",
      "2018-01-03 14:49:14,390 - DEBUG -             Done: xStart: 1 | xEnd: 1 | yStart: 1 | yEnd: 1\n",
      "2018-01-03 14:49:14,405 - DEBUG -             Ending findPatches()\n",
      "2018-01-03 14:49:14,405 - DEBUG -             Ending findPatches()\n",
      "2018-01-03 14:49:14,405 - DEBUG -           Ending findPatches()\n",
      "2018-01-03 14:49:14,405 - DEBUG -           Ending findPatches()\n",
      "2018-01-03 14:49:14,405 - DEBUG -         Child: 1\n",
      "2018-01-03 14:49:14,405 - DEBUG -         Child: 1\n",
      "2018-01-03 14:49:14,405 - DEBUG -           Starting findPatches()\n",
      "2018-01-03 14:49:14,405 - DEBUG -           Starting findPatches()\n",
      "2018-01-03 14:49:14,405 - DEBUG -           Direction: 1\n",
      "2018-01-03 14:49:14,405 - DEBUG -           Direction: 1\n",
      "2018-01-03 14:49:14,405 - DEBUG -           Starting scanForBoundaries()\n",
      "2018-01-03 14:49:14,405 - DEBUG -           Starting scanForBoundaries()\n",
      "2018-01-03 14:49:14,421 - DEBUG -           Found start: 0\n",
      "2018-01-03 14:49:14,421 - DEBUG -           Found start: 0\n",
      "2018-01-03 14:49:14,421 - DEBUG -           Found stop: 0\n",
      "2018-01-03 14:49:14,421 - DEBUG -           Found stop: 0\n",
      "2018-01-03 14:49:14,421 - DEBUG -           Ending scanForBoundaries()\n",
      "2018-01-03 14:49:14,421 - DEBUG -           Ending scanForBoundaries()\n",
      "2018-01-03 14:49:14,421 - DEBUG -           Found patches: [[0, 0, 3, 3]]\n",
      "2018-01-03 14:49:14,421 - DEBUG -           Found patches: [[0, 0, 3, 3]]\n",
      "2018-01-03 14:49:14,421 - DEBUG -           length: 1| parentLength: 2\n",
      "2018-01-03 14:49:14,421 - DEBUG -           length: 1| parentLength: 2\n",
      "2018-01-03 14:49:14,421 - DEBUG -           Scanning children...\n",
      "2018-01-03 14:49:14,421 - DEBUG -           Scanning children...\n",
      "2018-01-03 14:49:14,421 - DEBUG -           Child: 0\n",
      "2018-01-03 14:49:14,421 - DEBUG -           Child: 0\n",
      "2018-01-03 14:49:14,437 - DEBUG -             Starting findPatches()\n",
      "2018-01-03 14:49:14,437 - DEBUG -             Starting findPatches()\n",
      "2018-01-03 14:49:14,437 - DEBUG -             Direction: 0\n",
      "2018-01-03 14:49:14,437 - DEBUG -             Direction: 0\n",
      "2018-01-03 14:49:14,437 - DEBUG -             Starting scanForBoundaries()\n",
      "2018-01-03 14:49:14,437 - DEBUG -             Starting scanForBoundaries()\n",
      "2018-01-03 14:49:14,437 - DEBUG -             Length is one\n",
      "2018-01-03 14:49:14,437 - DEBUG -             Length is one\n",
      "2018-01-03 14:49:14,437 - DEBUG -             Ending scanForBoundaries()\n",
      "2018-01-03 14:49:14,437 - DEBUG -             Ending scanForBoundaries()\n",
      "2018-01-03 14:49:14,437 - DEBUG -             Found patches: [[0, 0, 3, 3]]\n",
      "2018-01-03 14:49:14,437 - DEBUG -             Found patches: [[0, 0, 3, 3]]\n",
      "2018-01-03 14:49:14,437 - DEBUG -             length: 1| parentLength: 1\n",
      "2018-01-03 14:49:14,437 - DEBUG -             length: 1| parentLength: 1\n",
      "2018-01-03 14:49:14,437 - DEBUG -             Done: xStart: 0 | xEnd: 0 | yStart: 3 | yEnd: 3\n",
      "2018-01-03 14:49:14,437 - DEBUG -             Done: xStart: 0 | xEnd: 0 | yStart: 3 | yEnd: 3\n",
      "2018-01-03 14:49:14,437 - DEBUG -             Ending findPatches()\n",
      "2018-01-03 14:49:14,437 - DEBUG -             Ending findPatches()\n",
      "2018-01-03 14:49:14,437 - DEBUG -           Ending findPatches()\n",
      "2018-01-03 14:49:14,437 - DEBUG -           Ending findPatches()\n",
      "2018-01-03 14:49:14,437 - DEBUG -         Ending findPatches()\n",
      "2018-01-03 14:49:14,437 - DEBUG -         Ending findPatches()\n",
      "2018-01-03 14:49:14,452 - DEBUG -       Child: 1\n",
      "2018-01-03 14:49:14,452 - DEBUG -       Child: 1\n",
      "2018-01-03 14:49:14,452 - DEBUG -         Starting findPatches()\n",
      "2018-01-03 14:49:14,452 - DEBUG -         Starting findPatches()\n",
      "2018-01-03 14:49:14,452 - DEBUG -         Direction: 0\n",
      "2018-01-03 14:49:14,452 - DEBUG -         Direction: 0\n",
      "2018-01-03 14:49:14,452 - DEBUG -         Starting scanForBoundaries()\n",
      "2018-01-03 14:49:14,452 - DEBUG -         Starting scanForBoundaries()\n",
      "2018-01-03 14:49:14,468 - DEBUG -         Found start: 1\n",
      "2018-01-03 14:49:14,468 - DEBUG -         Found start: 1\n",
      "2018-01-03 14:49:14,468 - DEBUG -         Found stop at end.\n",
      "2018-01-03 14:49:14,468 - DEBUG -         Found stop at end.\n",
      "2018-01-03 14:49:14,468 - DEBUG -         Ending scanForBoundaries()\n",
      "2018-01-03 14:49:14,468 - DEBUG -         Ending scanForBoundaries()\n",
      "2018-01-03 14:49:14,468 - DEBUG -         Found patches: [[3, 4, 2, 3]]\n",
      "2018-01-03 14:49:14,468 - DEBUG -         Found patches: [[3, 4, 2, 3]]\n",
      "2018-01-03 14:49:14,468 - DEBUG -         length: 1| parentLength: 2\n",
      "2018-01-03 14:49:14,468 - DEBUG -         length: 1| parentLength: 2\n",
      "2018-01-03 14:49:14,468 - DEBUG -         Scanning children...\n",
      "2018-01-03 14:49:14,468 - DEBUG -         Scanning children...\n",
      "2018-01-03 14:49:14,468 - DEBUG -         Child: 0\n",
      "2018-01-03 14:49:14,468 - DEBUG -         Child: 0\n",
      "2018-01-03 14:49:14,484 - DEBUG -           Starting findPatches()\n",
      "2018-01-03 14:49:14,484 - DEBUG -           Starting findPatches()\n",
      "2018-01-03 14:49:14,484 - DEBUG -           Direction: 1\n",
      "2018-01-03 14:49:14,484 - DEBUG -           Direction: 1\n",
      "2018-01-03 14:49:14,484 - DEBUG -           Starting scanForBoundaries()\n",
      "2018-01-03 14:49:14,484 - DEBUG -           Starting scanForBoundaries()\n",
      "2018-01-03 14:49:14,484 - DEBUG -           Found start: 0\n",
      "2018-01-03 14:49:14,484 - DEBUG -           Found start: 0\n",
      "2018-01-03 14:49:14,484 - DEBUG -           Found stop at end.\n",
      "2018-01-03 14:49:14,484 - DEBUG -           Found stop at end.\n",
      "2018-01-03 14:49:14,484 - DEBUG -           Ending scanForBoundaries()\n",
      "2018-01-03 14:49:14,484 - DEBUG -           Ending scanForBoundaries()\n",
      "2018-01-03 14:49:14,484 - DEBUG -           Found patches: [[3, 4, 2, 3]]\n",
      "2018-01-03 14:49:14,484 - DEBUG -           Found patches: [[3, 4, 2, 3]]\n",
      "2018-01-03 14:49:14,499 - DEBUG -           length: 1| parentLength: 1\n",
      "2018-01-03 14:49:14,499 - DEBUG -           length: 1| parentLength: 1\n",
      "2018-01-03 14:49:14,499 - DEBUG -           Done: xStart: 3 | xEnd: 4 | yStart: 2 | yEnd: 3\n",
      "2018-01-03 14:49:14,499 - DEBUG -           Done: xStart: 3 | xEnd: 4 | yStart: 2 | yEnd: 3\n",
      "2018-01-03 14:49:14,499 - DEBUG -           Ending findPatches()\n",
      "2018-01-03 14:49:14,499 - DEBUG -           Ending findPatches()\n",
      "2018-01-03 14:49:14,499 - DEBUG -         Ending findPatches()\n",
      "2018-01-03 14:49:14,499 - DEBUG -         Ending findPatches()\n",
      "2018-01-03 14:49:14,499 - DEBUG -       Ending findPatches()\n",
      "2018-01-03 14:49:14,499 - DEBUG -       Ending findPatches()\n",
      "2018-01-03 14:49:14,499 - DEBUG -     Child: 1\n",
      "2018-01-03 14:49:14,499 - DEBUG -     Child: 1\n",
      "2018-01-03 14:49:14,499 - DEBUG -       Starting findPatches()\n",
      "2018-01-03 14:49:14,499 - DEBUG -       Starting findPatches()\n"
     ]
    },
    {
     "name": "stderr",
     "output_type": "stream",
     "text": [
      "2018-01-03 14:49:14,515 - DEBUG -       Direction: 1\n",
      "2018-01-03 14:49:14,515 - DEBUG -       Direction: 1\n",
      "2018-01-03 14:49:14,515 - DEBUG -       Starting scanForBoundaries()\n",
      "2018-01-03 14:49:14,515 - DEBUG -       Starting scanForBoundaries()\n",
      "2018-01-03 14:49:14,515 - DEBUG -       Found start: 3\n",
      "2018-01-03 14:49:14,515 - DEBUG -       Found start: 3\n",
      "2018-01-03 14:49:14,515 - DEBUG -       Found stop at end.\n",
      "2018-01-03 14:49:14,515 - DEBUG -       Found stop at end.\n",
      "2018-01-03 14:49:14,515 - DEBUG -       Ending scanForBoundaries()\n",
      "2018-01-03 14:49:14,515 - DEBUG -       Ending scanForBoundaries()\n",
      "2018-01-03 14:49:14,515 - DEBUG -       Found patches: [[3, 4, 5, 6]]\n",
      "2018-01-03 14:49:14,515 - DEBUG -       Found patches: [[3, 4, 5, 6]]\n",
      "2018-01-03 14:49:14,515 - DEBUG -       length: 1| parentLength: 3\n",
      "2018-01-03 14:49:14,515 - DEBUG -       length: 1| parentLength: 3\n",
      "2018-01-03 14:49:14,515 - DEBUG -       Scanning children...\n",
      "2018-01-03 14:49:14,515 - DEBUG -       Scanning children...\n",
      "2018-01-03 14:49:14,530 - DEBUG -       Child: 0\n",
      "2018-01-03 14:49:14,530 - DEBUG -       Child: 0\n",
      "2018-01-03 14:49:14,530 - DEBUG -         Starting findPatches()\n",
      "2018-01-03 14:49:14,530 - DEBUG -         Starting findPatches()\n",
      "2018-01-03 14:49:14,530 - DEBUG -         Direction: 0\n",
      "2018-01-03 14:49:14,530 - DEBUG -         Direction: 0\n",
      "2018-01-03 14:49:14,530 - DEBUG -         Starting scanForBoundaries()\n",
      "2018-01-03 14:49:14,530 - DEBUG -         Starting scanForBoundaries()\n",
      "2018-01-03 14:49:14,530 - DEBUG -         Found start: 0\n",
      "2018-01-03 14:49:14,530 - DEBUG -         Found start: 0\n",
      "2018-01-03 14:49:14,530 - DEBUG -         Found stop at end.\n",
      "2018-01-03 14:49:14,530 - DEBUG -         Found stop at end.\n",
      "2018-01-03 14:49:14,530 - DEBUG -         Ending scanForBoundaries()\n",
      "2018-01-03 14:49:14,530 - DEBUG -         Ending scanForBoundaries()\n",
      "2018-01-03 14:49:14,546 - DEBUG -         Found patches: [[3, 4, 5, 6]]\n",
      "2018-01-03 14:49:14,546 - DEBUG -         Found patches: [[3, 4, 5, 6]]\n",
      "2018-01-03 14:49:14,546 - DEBUG -         length: 1| parentLength: 1\n",
      "2018-01-03 14:49:14,546 - DEBUG -         length: 1| parentLength: 1\n",
      "2018-01-03 14:49:14,546 - DEBUG -         Done: xStart: 3 | xEnd: 4 | yStart: 5 | yEnd: 6\n",
      "2018-01-03 14:49:14,546 - DEBUG -         Done: xStart: 3 | xEnd: 4 | yStart: 5 | yEnd: 6\n",
      "2018-01-03 14:49:14,546 - DEBUG -         Ending findPatches()\n",
      "2018-01-03 14:49:14,546 - DEBUG -         Ending findPatches()\n",
      "2018-01-03 14:49:14,546 - DEBUG -       Ending findPatches()\n",
      "2018-01-03 14:49:14,546 - DEBUG -       Ending findPatches()\n",
      "2018-01-03 14:49:14,546 - DEBUG -     Child: 2\n",
      "2018-01-03 14:49:14,546 - DEBUG -     Child: 2\n",
      "2018-01-03 14:49:14,546 - DEBUG -       Starting findPatches()\n",
      "2018-01-03 14:49:14,546 - DEBUG -       Starting findPatches()\n",
      "2018-01-03 14:49:14,546 - DEBUG -       Direction: 1\n",
      "2018-01-03 14:49:14,546 - DEBUG -       Direction: 1\n",
      "2018-01-03 14:49:14,562 - DEBUG -       Starting scanForBoundaries()\n",
      "2018-01-03 14:49:14,562 - DEBUG -       Starting scanForBoundaries()\n",
      "2018-01-03 14:49:14,562 - DEBUG -       Found start: 2\n",
      "2018-01-03 14:49:14,562 - DEBUG -       Found start: 2\n",
      "2018-01-03 14:49:14,562 - DEBUG -       Found stop: 2\n",
      "2018-01-03 14:49:14,562 - DEBUG -       Found stop: 2\n",
      "2018-01-03 14:49:14,562 - DEBUG -       Ending scanForBoundaries()\n",
      "2018-01-03 14:49:14,562 - DEBUG -       Ending scanForBoundaries()\n",
      "2018-01-03 14:49:14,562 - DEBUG -       Found patches: [[2, 2, 8, 8]]\n",
      "2018-01-03 14:49:14,562 - DEBUG -       Found patches: [[2, 2, 8, 8]]\n",
      "2018-01-03 14:49:14,562 - DEBUG -       length: 1| parentLength: 3\n",
      "2018-01-03 14:49:14,562 - DEBUG -       length: 1| parentLength: 3\n",
      "2018-01-03 14:49:14,562 - DEBUG -       Scanning children...\n",
      "2018-01-03 14:49:14,562 - DEBUG -       Scanning children...\n",
      "2018-01-03 14:49:14,562 - DEBUG -       Child: 0\n",
      "2018-01-03 14:49:14,562 - DEBUG -       Child: 0\n",
      "2018-01-03 14:49:14,562 - DEBUG -         Starting findPatches()\n",
      "2018-01-03 14:49:14,562 - DEBUG -         Starting findPatches()\n",
      "2018-01-03 14:49:14,562 - DEBUG -         Direction: 0\n",
      "2018-01-03 14:49:14,562 - DEBUG -         Direction: 0\n",
      "2018-01-03 14:49:14,562 - DEBUG -         Starting scanForBoundaries()\n",
      "2018-01-03 14:49:14,562 - DEBUG -         Starting scanForBoundaries()\n",
      "2018-01-03 14:49:14,577 - DEBUG -         Length is one\n",
      "2018-01-03 14:49:14,577 - DEBUG -         Length is one\n",
      "2018-01-03 14:49:14,577 - DEBUG -         Ending scanForBoundaries()\n",
      "2018-01-03 14:49:14,577 - DEBUG -         Ending scanForBoundaries()\n",
      "2018-01-03 14:49:14,577 - DEBUG -         Found patches: [[2, 2, 8, 8]]\n",
      "2018-01-03 14:49:14,577 - DEBUG -         Found patches: [[2, 2, 8, 8]]\n",
      "2018-01-03 14:49:14,577 - DEBUG -         length: 1| parentLength: 1\n",
      "2018-01-03 14:49:14,577 - DEBUG -         length: 1| parentLength: 1\n",
      "2018-01-03 14:49:14,577 - DEBUG -         Done: xStart: 2 | xEnd: 2 | yStart: 8 | yEnd: 8\n",
      "2018-01-03 14:49:14,577 - DEBUG -         Done: xStart: 2 | xEnd: 2 | yStart: 8 | yEnd: 8\n",
      "2018-01-03 14:49:14,577 - DEBUG -         Ending findPatches()\n",
      "2018-01-03 14:49:14,577 - DEBUG -         Ending findPatches()\n",
      "2018-01-03 14:49:14,593 - DEBUG -       Ending findPatches()\n",
      "2018-01-03 14:49:14,593 - DEBUG -       Ending findPatches()\n",
      "2018-01-03 14:49:14,593 - DEBUG -     Ending findPatches()\n",
      "2018-01-03 14:49:14,593 - DEBUG -     Ending findPatches()\n",
      "2018-01-03 14:49:14,593 - DEBUG -   Child: 1\n",
      "2018-01-03 14:49:14,593 - DEBUG -   Child: 1\n",
      "2018-01-03 14:49:14,593 - DEBUG -     Starting findPatches()\n",
      "2018-01-03 14:49:14,593 - DEBUG -     Starting findPatches()\n",
      "2018-01-03 14:49:14,593 - DEBUG -     Direction: 0\n",
      "2018-01-03 14:49:14,593 - DEBUG -     Direction: 0\n",
      "2018-01-03 14:49:14,593 - DEBUG -     Starting scanForBoundaries()\n",
      "2018-01-03 14:49:14,593 - DEBUG -     Starting scanForBoundaries()\n",
      "2018-01-03 14:49:14,609 - DEBUG -     Found start: 5\n",
      "2018-01-03 14:49:14,609 - DEBUG -     Found start: 5\n",
      "2018-01-03 14:49:14,609 - DEBUG -     Found stop: 5\n",
      "2018-01-03 14:49:14,609 - DEBUG -     Found stop: 5\n",
      "2018-01-03 14:49:14,609 - DEBUG -     Found start: 7\n",
      "2018-01-03 14:49:14,609 - DEBUG -     Found start: 7\n",
      "2018-01-03 14:49:14,609 - DEBUG -     Found stop: 7\n",
      "2018-01-03 14:49:14,609 - DEBUG -     Found stop: 7\n",
      "2018-01-03 14:49:14,609 - DEBUG -     Ending scanForBoundaries()\n",
      "2018-01-03 14:49:14,609 - DEBUG -     Ending scanForBoundaries()\n",
      "2018-01-03 14:49:14,609 - DEBUG -     Found patches: [[6, 6, 5, 5], [6, 6, 7, 7]]\n",
      "2018-01-03 14:49:14,609 - DEBUG -     Found patches: [[6, 6, 5, 5], [6, 6, 7, 7]]\n",
      "2018-01-03 14:49:14,609 - DEBUG -     length: 2| parentLength: 4\n",
      "2018-01-03 14:49:14,609 - DEBUG -     length: 2| parentLength: 4\n",
      "2018-01-03 14:49:14,624 - DEBUG -     Scanning children...\n",
      "2018-01-03 14:49:14,624 - DEBUG -     Scanning children...\n",
      "2018-01-03 14:49:14,624 - DEBUG -     Child: 0\n",
      "2018-01-03 14:49:14,624 - DEBUG -     Child: 0\n",
      "2018-01-03 14:49:14,624 - DEBUG -       Starting findPatches()\n",
      "2018-01-03 14:49:14,624 - DEBUG -       Starting findPatches()\n",
      "2018-01-03 14:49:14,624 - DEBUG -       Direction: 1\n",
      "2018-01-03 14:49:14,624 - DEBUG -       Direction: 1\n",
      "2018-01-03 14:49:14,624 - DEBUG -       Starting scanForBoundaries()\n",
      "2018-01-03 14:49:14,624 - DEBUG -       Starting scanForBoundaries()\n",
      "2018-01-03 14:49:14,624 - DEBUG -       Length is one\n",
      "2018-01-03 14:49:14,624 - DEBUG -       Length is one\n",
      "2018-01-03 14:49:14,624 - DEBUG -       Ending scanForBoundaries()\n",
      "2018-01-03 14:49:14,624 - DEBUG -       Ending scanForBoundaries()\n",
      "2018-01-03 14:49:14,640 - DEBUG -       Found patches: [[6, 6, 5, 5]]\n",
      "2018-01-03 14:49:14,640 - DEBUG -       Found patches: [[6, 6, 5, 5]]\n",
      "2018-01-03 14:49:14,640 - DEBUG -       length: 1| parentLength: 2\n",
      "2018-01-03 14:49:14,640 - DEBUG -       length: 1| parentLength: 2\n",
      "2018-01-03 14:49:14,640 - DEBUG -       Scanning children...\n",
      "2018-01-03 14:49:14,640 - DEBUG -       Scanning children...\n",
      "2018-01-03 14:49:14,640 - DEBUG -       Child: 0\n",
      "2018-01-03 14:49:14,640 - DEBUG -       Child: 0\n",
      "2018-01-03 14:49:14,640 - DEBUG -         Starting findPatches()\n",
      "2018-01-03 14:49:14,640 - DEBUG -         Starting findPatches()\n",
      "2018-01-03 14:49:14,640 - DEBUG -         Direction: 0\n",
      "2018-01-03 14:49:14,640 - DEBUG -         Direction: 0\n",
      "2018-01-03 14:49:14,640 - DEBUG -         Starting scanForBoundaries()\n"
     ]
    },
    {
     "name": "stderr",
     "output_type": "stream",
     "text": [
      "2018-01-03 14:49:14,640 - DEBUG -         Starting scanForBoundaries()\n",
      "2018-01-03 14:49:14,640 - DEBUG -         Length is one\n",
      "2018-01-03 14:49:14,640 - DEBUG -         Length is one\n",
      "2018-01-03 14:49:14,655 - DEBUG -         Ending scanForBoundaries()\n",
      "2018-01-03 14:49:14,655 - DEBUG -         Ending scanForBoundaries()\n",
      "2018-01-03 14:49:14,655 - DEBUG -         Found patches: [[6, 6, 5, 5]]\n",
      "2018-01-03 14:49:14,655 - DEBUG -         Found patches: [[6, 6, 5, 5]]\n",
      "2018-01-03 14:49:14,655 - DEBUG -         length: 1| parentLength: 1\n",
      "2018-01-03 14:49:14,655 - DEBUG -         length: 1| parentLength: 1\n",
      "2018-01-03 14:49:14,655 - DEBUG -         Done: xStart: 6 | xEnd: 6 | yStart: 5 | yEnd: 5\n",
      "2018-01-03 14:49:14,655 - DEBUG -         Done: xStart: 6 | xEnd: 6 | yStart: 5 | yEnd: 5\n",
      "2018-01-03 14:49:14,655 - DEBUG -         Ending findPatches()\n",
      "2018-01-03 14:49:14,655 - DEBUG -         Ending findPatches()\n",
      "2018-01-03 14:49:14,655 - DEBUG -       Ending findPatches()\n",
      "2018-01-03 14:49:14,655 - DEBUG -       Ending findPatches()\n",
      "2018-01-03 14:49:14,655 - DEBUG -     Child: 1\n",
      "2018-01-03 14:49:14,655 - DEBUG -     Child: 1\n",
      "2018-01-03 14:49:14,671 - DEBUG -       Starting findPatches()\n",
      "2018-01-03 14:49:14,671 - DEBUG -       Starting findPatches()\n",
      "2018-01-03 14:49:14,671 - DEBUG -       Direction: 1\n",
      "2018-01-03 14:49:14,671 - DEBUG -       Direction: 1\n",
      "2018-01-03 14:49:14,671 - DEBUG -       Starting scanForBoundaries()\n",
      "2018-01-03 14:49:14,671 - DEBUG -       Starting scanForBoundaries()\n",
      "2018-01-03 14:49:14,671 - DEBUG -       Length is one\n",
      "2018-01-03 14:49:14,671 - DEBUG -       Length is one\n",
      "2018-01-03 14:49:14,671 - DEBUG -       Ending scanForBoundaries()\n",
      "2018-01-03 14:49:14,671 - DEBUG -       Ending scanForBoundaries()\n",
      "2018-01-03 14:49:14,671 - DEBUG -       Found patches: [[6, 6, 7, 7]]\n",
      "2018-01-03 14:49:14,671 - DEBUG -       Found patches: [[6, 6, 7, 7]]\n",
      "2018-01-03 14:49:14,671 - DEBUG -       length: 1| parentLength: 2\n",
      "2018-01-03 14:49:14,671 - DEBUG -       length: 1| parentLength: 2\n",
      "2018-01-03 14:49:14,671 - DEBUG -       Scanning children...\n",
      "2018-01-03 14:49:14,671 - DEBUG -       Scanning children...\n",
      "2018-01-03 14:49:14,671 - DEBUG -       Child: 0\n",
      "2018-01-03 14:49:14,671 - DEBUG -       Child: 0\n",
      "2018-01-03 14:49:14,734 - DEBUG -         Starting findPatches()\n",
      "2018-01-03 14:49:14,734 - DEBUG -         Starting findPatches()\n",
      "2018-01-03 14:49:14,734 - DEBUG -         Direction: 0\n",
      "2018-01-03 14:49:14,734 - DEBUG -         Direction: 0\n",
      "2018-01-03 14:49:14,734 - DEBUG -         Starting scanForBoundaries()\n",
      "2018-01-03 14:49:14,734 - DEBUG -         Starting scanForBoundaries()\n",
      "2018-01-03 14:49:14,734 - DEBUG -         Length is one\n",
      "2018-01-03 14:49:14,734 - DEBUG -         Length is one\n",
      "2018-01-03 14:49:14,734 - DEBUG -         Ending scanForBoundaries()\n",
      "2018-01-03 14:49:14,734 - DEBUG -         Ending scanForBoundaries()\n",
      "2018-01-03 14:49:14,734 - DEBUG -         Found patches: [[6, 6, 7, 7]]\n",
      "2018-01-03 14:49:14,734 - DEBUG -         Found patches: [[6, 6, 7, 7]]\n",
      "2018-01-03 14:49:14,734 - DEBUG -         length: 1| parentLength: 1\n",
      "2018-01-03 14:49:14,734 - DEBUG -         length: 1| parentLength: 1\n",
      "2018-01-03 14:49:14,734 - DEBUG -         Done: xStart: 6 | xEnd: 6 | yStart: 7 | yEnd: 7\n",
      "2018-01-03 14:49:14,734 - DEBUG -         Done: xStart: 6 | xEnd: 6 | yStart: 7 | yEnd: 7\n",
      "2018-01-03 14:49:14,749 - DEBUG -         Ending findPatches()\n",
      "2018-01-03 14:49:14,749 - DEBUG -         Ending findPatches()\n",
      "2018-01-03 14:49:14,749 - DEBUG -       Ending findPatches()\n",
      "2018-01-03 14:49:14,749 - DEBUG -       Ending findPatches()\n",
      "2018-01-03 14:49:14,749 - DEBUG -     Ending findPatches()\n",
      "2018-01-03 14:49:14,749 - DEBUG -     Ending findPatches()\n",
      "2018-01-03 14:49:14,749 - DEBUG -   Child: 2\n",
      "2018-01-03 14:49:14,749 - DEBUG -   Child: 2\n",
      "2018-01-03 14:49:14,749 - DEBUG -     Starting findPatches()\n",
      "2018-01-03 14:49:14,749 - DEBUG -     Starting findPatches()\n",
      "2018-01-03 14:49:14,749 - DEBUG -     Direction: 0\n",
      "2018-01-03 14:49:14,749 - DEBUG -     Direction: 0\n",
      "2018-01-03 14:49:14,749 - DEBUG -     Starting scanForBoundaries()\n",
      "2018-01-03 14:49:14,749 - DEBUG -     Starting scanForBoundaries()\n",
      "2018-01-03 14:49:14,749 - DEBUG -     Found start: 0\n",
      "2018-01-03 14:49:14,749 - DEBUG -     Found start: 0\n",
      "2018-01-03 14:49:14,749 - DEBUG -     Found stop: 1\n",
      "2018-01-03 14:49:14,749 - DEBUG -     Found stop: 1\n",
      "2018-01-03 14:49:14,749 - DEBUG -     Found start: 4\n",
      "2018-01-03 14:49:14,749 - DEBUG -     Found start: 4\n",
      "2018-01-03 14:49:14,765 - DEBUG -     Found stop: 5\n",
      "2018-01-03 14:49:14,765 - DEBUG -     Found stop: 5\n",
      "2018-01-03 14:49:14,765 - DEBUG -     Found start: 7\n",
      "2018-01-03 14:49:14,765 - DEBUG -     Found start: 7\n",
      "2018-01-03 14:49:14,765 - DEBUG -     Found stop at end.\n",
      "2018-01-03 14:49:14,765 - DEBUG -     Found stop at end.\n",
      "2018-01-03 14:49:14,765 - DEBUG -     Ending scanForBoundaries()\n",
      "2018-01-03 14:49:14,765 - DEBUG -     Ending scanForBoundaries()\n",
      "2018-01-03 14:49:14,765 - DEBUG -     Found patches: [[8, 12, 0, 1], [8, 12, 4, 5], [8, 12, 7, 8]]\n",
      "2018-01-03 14:49:14,765 - DEBUG -     Found patches: [[8, 12, 0, 1], [8, 12, 4, 5], [8, 12, 7, 8]]\n",
      "2018-01-03 14:49:14,765 - DEBUG -     length: 3| parentLength: 4\n",
      "2018-01-03 14:49:14,765 - DEBUG -     length: 3| parentLength: 4\n",
      "2018-01-03 14:49:14,765 - DEBUG -     Scanning children...\n",
      "2018-01-03 14:49:14,765 - DEBUG -     Scanning children...\n",
      "2018-01-03 14:49:14,765 - DEBUG -     Child: 0\n",
      "2018-01-03 14:49:14,765 - DEBUG -     Child: 0\n",
      "2018-01-03 14:49:14,765 - DEBUG -       Starting findPatches()\n",
      "2018-01-03 14:49:14,765 - DEBUG -       Starting findPatches()\n",
      "2018-01-03 14:49:14,765 - DEBUG -       Direction: 1\n",
      "2018-01-03 14:49:14,765 - DEBUG -       Direction: 1\n",
      "2018-01-03 14:49:14,780 - DEBUG -       Starting scanForBoundaries()\n",
      "2018-01-03 14:49:14,780 - DEBUG -       Starting scanForBoundaries()\n",
      "2018-01-03 14:49:14,780 - DEBUG -       Found start: 1\n",
      "2018-01-03 14:49:14,780 - DEBUG -       Found start: 1\n",
      "2018-01-03 14:49:14,780 - DEBUG -       Found stop: 1\n",
      "2018-01-03 14:49:14,780 - DEBUG -       Found stop: 1\n",
      "2018-01-03 14:49:14,780 - DEBUG -       Found start: 4\n",
      "2018-01-03 14:49:14,780 - DEBUG -       Found start: 4\n",
      "2018-01-03 14:49:14,780 - DEBUG -       Found stop at end.\n",
      "2018-01-03 14:49:14,780 - DEBUG -       Found stop at end.\n",
      "2018-01-03 14:49:14,780 - DEBUG -       Ending scanForBoundaries()\n",
      "2018-01-03 14:49:14,780 - DEBUG -       Ending scanForBoundaries()\n",
      "2018-01-03 14:49:14,780 - DEBUG -       Found patches: [[9, 9, 0, 1], [12, 12, 0, 1]]\n",
      "2018-01-03 14:49:14,780 - DEBUG -       Found patches: [[9, 9, 0, 1], [12, 12, 0, 1]]\n",
      "2018-01-03 14:49:14,796 - DEBUG -       length: 2| parentLength: 3\n",
      "2018-01-03 14:49:14,796 - DEBUG -       length: 2| parentLength: 3\n",
      "2018-01-03 14:49:14,796 - DEBUG -       Scanning children...\n",
      "2018-01-03 14:49:14,796 - DEBUG -       Scanning children...\n",
      "2018-01-03 14:49:14,796 - DEBUG -       Child: 0\n",
      "2018-01-03 14:49:14,796 - DEBUG -       Child: 0\n",
      "2018-01-03 14:49:14,796 - DEBUG -         Starting findPatches()\n",
      "2018-01-03 14:49:14,796 - DEBUG -         Starting findPatches()\n",
      "2018-01-03 14:49:14,796 - DEBUG -         Direction: 0\n",
      "2018-01-03 14:49:14,796 - DEBUG -         Direction: 0\n",
      "2018-01-03 14:49:14,796 - DEBUG -         Starting scanForBoundaries()\n",
      "2018-01-03 14:49:14,796 - DEBUG -         Starting scanForBoundaries()\n",
      "2018-01-03 14:49:14,796 - DEBUG -         Found start: 0\n",
      "2018-01-03 14:49:14,796 - DEBUG -         Found start: 0\n",
      "2018-01-03 14:49:14,812 - DEBUG -         Found stop: 0\n",
      "2018-01-03 14:49:14,812 - DEBUG -         Found stop: 0\n",
      "2018-01-03 14:49:14,812 - DEBUG -         Ending scanForBoundaries()\n",
      "2018-01-03 14:49:14,812 - DEBUG -         Ending scanForBoundaries()\n",
      "2018-01-03 14:49:14,812 - DEBUG -         Found patches: [[9, 9, 0, 0]]\n",
      "2018-01-03 14:49:14,812 - DEBUG -         Found patches: [[9, 9, 0, 0]]\n",
      "2018-01-03 14:49:14,812 - DEBUG -         length: 1| parentLength: 2\n",
      "2018-01-03 14:49:14,812 - DEBUG -         length: 1| parentLength: 2\n",
      "2018-01-03 14:49:14,812 - DEBUG -         Scanning children...\n",
      "2018-01-03 14:49:14,812 - DEBUG -         Scanning children...\n",
      "2018-01-03 14:49:14,812 - DEBUG -         Child: 0\n",
      "2018-01-03 14:49:14,812 - DEBUG -         Child: 0\n",
      "2018-01-03 14:49:14,812 - DEBUG -           Starting findPatches()\n"
     ]
    },
    {
     "name": "stderr",
     "output_type": "stream",
     "text": [
      "2018-01-03 14:49:14,812 - DEBUG -           Starting findPatches()\n",
      "2018-01-03 14:49:14,827 - DEBUG -           Direction: 1\n",
      "2018-01-03 14:49:14,827 - DEBUG -           Direction: 1\n",
      "2018-01-03 14:49:14,827 - DEBUG -           Starting scanForBoundaries()\n",
      "2018-01-03 14:49:14,827 - DEBUG -           Starting scanForBoundaries()\n",
      "2018-01-03 14:49:14,827 - DEBUG -           Length is one\n",
      "2018-01-03 14:49:14,827 - DEBUG -           Length is one\n",
      "2018-01-03 14:49:14,827 - DEBUG -           Ending scanForBoundaries()\n",
      "2018-01-03 14:49:14,827 - DEBUG -           Ending scanForBoundaries()\n",
      "2018-01-03 14:49:14,827 - DEBUG -           Found patches: [[9, 9, 0, 0]]\n",
      "2018-01-03 14:49:14,827 - DEBUG -           Found patches: [[9, 9, 0, 0]]\n",
      "2018-01-03 14:49:14,827 - DEBUG -           length: 1| parentLength: 1\n",
      "2018-01-03 14:49:14,827 - DEBUG -           length: 1| parentLength: 1\n",
      "2018-01-03 14:49:14,827 - DEBUG -           Done: xStart: 9 | xEnd: 9 | yStart: 0 | yEnd: 0\n",
      "2018-01-03 14:49:14,827 - DEBUG -           Done: xStart: 9 | xEnd: 9 | yStart: 0 | yEnd: 0\n",
      "2018-01-03 14:49:14,827 - DEBUG -           Ending findPatches()\n",
      "2018-01-03 14:49:14,827 - DEBUG -           Ending findPatches()\n",
      "2018-01-03 14:49:14,827 - DEBUG -         Ending findPatches()\n",
      "2018-01-03 14:49:14,827 - DEBUG -         Ending findPatches()\n",
      "2018-01-03 14:49:14,843 - DEBUG -       Child: 1\n",
      "2018-01-03 14:49:14,843 - DEBUG -       Child: 1\n",
      "2018-01-03 14:49:14,843 - DEBUG -         Starting findPatches()\n",
      "2018-01-03 14:49:14,843 - DEBUG -         Starting findPatches()\n",
      "2018-01-03 14:49:14,843 - DEBUG -         Direction: 0\n",
      "2018-01-03 14:49:14,843 - DEBUG -         Direction: 0\n",
      "2018-01-03 14:49:14,843 - DEBUG -         Starting scanForBoundaries()\n",
      "2018-01-03 14:49:14,843 - DEBUG -         Starting scanForBoundaries()\n",
      "2018-01-03 14:49:14,843 - DEBUG -         Found start: 1\n",
      "2018-01-03 14:49:14,843 - DEBUG -         Found start: 1\n",
      "2018-01-03 14:49:14,843 - DEBUG -         Found stop at end.\n",
      "2018-01-03 14:49:14,843 - DEBUG -         Found stop at end.\n",
      "2018-01-03 14:49:14,843 - DEBUG -         Ending scanForBoundaries()\n",
      "2018-01-03 14:49:14,843 - DEBUG -         Ending scanForBoundaries()\n",
      "2018-01-03 14:49:14,859 - DEBUG -         Found patches: [[12, 12, 1, 1]]\n",
      "2018-01-03 14:49:14,859 - DEBUG -         Found patches: [[12, 12, 1, 1]]\n",
      "2018-01-03 14:49:14,859 - DEBUG -         length: 1| parentLength: 2\n",
      "2018-01-03 14:49:14,859 - DEBUG -         length: 1| parentLength: 2\n",
      "2018-01-03 14:49:14,859 - DEBUG -         Scanning children...\n",
      "2018-01-03 14:49:14,859 - DEBUG -         Scanning children...\n",
      "2018-01-03 14:49:14,859 - DEBUG -         Child: 0\n",
      "2018-01-03 14:49:14,859 - DEBUG -         Child: 0\n",
      "2018-01-03 14:49:14,859 - DEBUG -           Starting findPatches()\n",
      "2018-01-03 14:49:14,859 - DEBUG -           Starting findPatches()\n",
      "2018-01-03 14:49:14,859 - DEBUG -           Direction: 1\n",
      "2018-01-03 14:49:14,859 - DEBUG -           Direction: 1\n",
      "2018-01-03 14:49:14,859 - DEBUG -           Starting scanForBoundaries()\n",
      "2018-01-03 14:49:14,859 - DEBUG -           Starting scanForBoundaries()\n",
      "2018-01-03 14:49:14,874 - DEBUG -           Length is one\n",
      "2018-01-03 14:49:14,874 - DEBUG -           Length is one\n",
      "2018-01-03 14:49:14,874 - DEBUG -           Ending scanForBoundaries()\n",
      "2018-01-03 14:49:14,874 - DEBUG -           Ending scanForBoundaries()\n",
      "2018-01-03 14:49:14,874 - DEBUG -           Found patches: [[12, 12, 1, 1]]\n",
      "2018-01-03 14:49:14,874 - DEBUG -           Found patches: [[12, 12, 1, 1]]\n",
      "2018-01-03 14:49:14,874 - DEBUG -           length: 1| parentLength: 1\n",
      "2018-01-03 14:49:14,874 - DEBUG -           length: 1| parentLength: 1\n",
      "2018-01-03 14:49:14,874 - DEBUG -           Done: xStart: 12 | xEnd: 12 | yStart: 1 | yEnd: 1\n",
      "2018-01-03 14:49:14,874 - DEBUG -           Done: xStart: 12 | xEnd: 12 | yStart: 1 | yEnd: 1\n",
      "2018-01-03 14:49:14,874 - DEBUG -           Ending findPatches()\n",
      "2018-01-03 14:49:14,874 - DEBUG -           Ending findPatches()\n",
      "2018-01-03 14:49:14,874 - DEBUG -         Ending findPatches()\n",
      "2018-01-03 14:49:14,874 - DEBUG -         Ending findPatches()\n",
      "2018-01-03 14:49:14,890 - DEBUG -       Ending findPatches()\n",
      "2018-01-03 14:49:14,890 - DEBUG -       Ending findPatches()\n",
      "2018-01-03 14:49:14,890 - DEBUG -     Child: 1\n",
      "2018-01-03 14:49:14,890 - DEBUG -     Child: 1\n",
      "2018-01-03 14:49:14,890 - DEBUG -       Starting findPatches()\n",
      "2018-01-03 14:49:14,890 - DEBUG -       Starting findPatches()\n",
      "2018-01-03 14:49:14,890 - DEBUG -       Direction: 1\n",
      "2018-01-03 14:49:14,890 - DEBUG -       Direction: 1\n",
      "2018-01-03 14:49:14,890 - DEBUG -       Starting scanForBoundaries()\n",
      "2018-01-03 14:49:14,890 - DEBUG -       Starting scanForBoundaries()\n",
      "2018-01-03 14:49:14,890 - DEBUG -       Found start: 0\n",
      "2018-01-03 14:49:14,890 - DEBUG -       Found start: 0\n",
      "2018-01-03 14:49:14,905 - DEBUG -       Found stop: 2\n",
      "2018-01-03 14:49:14,905 - DEBUG -       Found stop: 2\n",
      "2018-01-03 14:49:14,905 - DEBUG -       Ending scanForBoundaries()\n",
      "2018-01-03 14:49:14,905 - DEBUG -       Ending scanForBoundaries()\n",
      "2018-01-03 14:49:14,905 - DEBUG -       Found patches: [[8, 10, 4, 5]]\n",
      "2018-01-03 14:49:14,905 - DEBUG -       Found patches: [[8, 10, 4, 5]]\n",
      "2018-01-03 14:49:14,905 - DEBUG -       length: 1| parentLength: 3\n",
      "2018-01-03 14:49:14,905 - DEBUG -       length: 1| parentLength: 3\n",
      "2018-01-03 14:49:14,905 - DEBUG -       Scanning children...\n",
      "2018-01-03 14:49:14,905 - DEBUG -       Scanning children...\n",
      "2018-01-03 14:49:14,905 - DEBUG -       Child: 0\n",
      "2018-01-03 14:49:14,905 - DEBUG -       Child: 0\n",
      "2018-01-03 14:49:14,905 - DEBUG -         Starting findPatches()\n",
      "2018-01-03 14:49:14,905 - DEBUG -         Starting findPatches()\n",
      "2018-01-03 14:49:14,921 - DEBUG -         Direction: 0\n",
      "2018-01-03 14:49:14,921 - DEBUG -         Direction: 0\n",
      "2018-01-03 14:49:14,921 - DEBUG -         Starting scanForBoundaries()\n",
      "2018-01-03 14:49:14,921 - DEBUG -         Starting scanForBoundaries()\n",
      "2018-01-03 14:49:14,921 - DEBUG -         Found start: 0\n",
      "2018-01-03 14:49:14,921 - DEBUG -         Found start: 0\n",
      "2018-01-03 14:49:14,921 - DEBUG -         Found stop at end.\n",
      "2018-01-03 14:49:14,921 - DEBUG -         Found stop at end.\n",
      "2018-01-03 14:49:14,921 - DEBUG -         Ending scanForBoundaries()\n",
      "2018-01-03 14:49:14,921 - DEBUG -         Ending scanForBoundaries()\n",
      "2018-01-03 14:49:14,921 - DEBUG -         Found patches: [[8, 10, 4, 5]]\n",
      "2018-01-03 14:49:14,921 - DEBUG -         Found patches: [[8, 10, 4, 5]]\n",
      "2018-01-03 14:49:14,937 - DEBUG -         length: 1| parentLength: 1\n",
      "2018-01-03 14:49:14,937 - DEBUG -         length: 1| parentLength: 1\n",
      "2018-01-03 14:49:14,937 - DEBUG -         Done: xStart: 8 | xEnd: 10 | yStart: 4 | yEnd: 5\n",
      "2018-01-03 14:49:14,937 - DEBUG -         Done: xStart: 8 | xEnd: 10 | yStart: 4 | yEnd: 5\n",
      "2018-01-03 14:49:14,984 - DEBUG -         Ending findPatches()\n",
      "2018-01-03 14:49:14,984 - DEBUG -         Ending findPatches()\n",
      "2018-01-03 14:49:14,984 - DEBUG -       Ending findPatches()\n",
      "2018-01-03 14:49:14,984 - DEBUG -       Ending findPatches()\n",
      "2018-01-03 14:49:14,999 - DEBUG -     Child: 2\n",
      "2018-01-03 14:49:14,999 - DEBUG -     Child: 2\n",
      "2018-01-03 14:49:14,999 - DEBUG -       Starting findPatches()\n",
      "2018-01-03 14:49:14,999 - DEBUG -       Starting findPatches()\n",
      "2018-01-03 14:49:14,999 - DEBUG -       Direction: 1\n",
      "2018-01-03 14:49:14,999 - DEBUG -       Direction: 1\n",
      "2018-01-03 14:49:14,999 - DEBUG -       Starting scanForBoundaries()\n",
      "2018-01-03 14:49:14,999 - DEBUG -       Starting scanForBoundaries()\n",
      "2018-01-03 14:49:14,999 - DEBUG -       Found start: 1\n",
      "2018-01-03 14:49:14,999 - DEBUG -       Found start: 1\n",
      "2018-01-03 14:49:14,999 - DEBUG -       Found stop: 1\n",
      "2018-01-03 14:49:14,999 - DEBUG -       Found stop: 1\n",
      "2018-01-03 14:49:15,015 - DEBUG -       Found start: 3\n",
      "2018-01-03 14:49:15,015 - DEBUG -       Found start: 3\n",
      "2018-01-03 14:49:15,015 - DEBUG -       Found stop: 3\n",
      "2018-01-03 14:49:15,015 - DEBUG -       Found stop: 3\n",
      "2018-01-03 14:49:15,015 - DEBUG -       Ending scanForBoundaries()\n",
      "2018-01-03 14:49:15,015 - DEBUG -       Ending scanForBoundaries()\n",
      "2018-01-03 14:49:15,015 - DEBUG -       Found patches: [[9, 9, 7, 8], [11, 11, 7, 8]]\n",
      "2018-01-03 14:49:15,015 - DEBUG -       Found patches: [[9, 9, 7, 8], [11, 11, 7, 8]]\n",
      "2018-01-03 14:49:15,015 - DEBUG -       length: 2| parentLength: 3\n"
     ]
    },
    {
     "name": "stderr",
     "output_type": "stream",
     "text": [
      "2018-01-03 14:49:15,015 - DEBUG -       length: 2| parentLength: 3\n",
      "2018-01-03 14:49:15,015 - DEBUG -       Scanning children...\n",
      "2018-01-03 14:49:15,015 - DEBUG -       Scanning children...\n",
      "2018-01-03 14:49:15,015 - DEBUG -       Child: 0\n",
      "2018-01-03 14:49:15,015 - DEBUG -       Child: 0\n",
      "2018-01-03 14:49:15,030 - DEBUG -         Starting findPatches()\n",
      "2018-01-03 14:49:15,030 - DEBUG -         Starting findPatches()\n",
      "2018-01-03 14:49:15,030 - DEBUG -         Direction: 0\n",
      "2018-01-03 14:49:15,030 - DEBUG -         Direction: 0\n",
      "2018-01-03 14:49:15,030 - DEBUG -         Starting scanForBoundaries()\n",
      "2018-01-03 14:49:15,030 - DEBUG -         Starting scanForBoundaries()\n",
      "2018-01-03 14:49:15,030 - DEBUG -         Found start: 0\n",
      "2018-01-03 14:49:15,030 - DEBUG -         Found start: 0\n",
      "2018-01-03 14:49:15,030 - DEBUG -         Found stop: 0\n",
      "2018-01-03 14:49:15,030 - DEBUG -         Found stop: 0\n",
      "2018-01-03 14:49:15,030 - DEBUG -         Ending scanForBoundaries()\n",
      "2018-01-03 14:49:15,030 - DEBUG -         Ending scanForBoundaries()\n",
      "2018-01-03 14:49:15,030 - DEBUG -         Found patches: [[9, 9, 7, 7]]\n",
      "2018-01-03 14:49:15,030 - DEBUG -         Found patches: [[9, 9, 7, 7]]\n",
      "2018-01-03 14:49:15,046 - DEBUG -         length: 1| parentLength: 2\n",
      "2018-01-03 14:49:15,046 - DEBUG -         length: 1| parentLength: 2\n",
      "2018-01-03 14:49:15,046 - DEBUG -         Scanning children...\n",
      "2018-01-03 14:49:15,046 - DEBUG -         Scanning children...\n",
      "2018-01-03 14:49:15,046 - DEBUG -         Child: 0\n",
      "2018-01-03 14:49:15,046 - DEBUG -         Child: 0\n",
      "2018-01-03 14:49:15,046 - DEBUG -           Starting findPatches()\n",
      "2018-01-03 14:49:15,046 - DEBUG -           Starting findPatches()\n",
      "2018-01-03 14:49:15,046 - DEBUG -           Direction: 1\n",
      "2018-01-03 14:49:15,046 - DEBUG -           Direction: 1\n",
      "2018-01-03 14:49:15,046 - DEBUG -           Starting scanForBoundaries()\n",
      "2018-01-03 14:49:15,046 - DEBUG -           Starting scanForBoundaries()\n",
      "2018-01-03 14:49:15,046 - DEBUG -           Length is one\n",
      "2018-01-03 14:49:15,046 - DEBUG -           Length is one\n",
      "2018-01-03 14:49:15,046 - DEBUG -           Ending scanForBoundaries()\n",
      "2018-01-03 14:49:15,046 - DEBUG -           Ending scanForBoundaries()\n",
      "2018-01-03 14:49:15,062 - DEBUG -           Found patches: [[9, 9, 7, 7]]\n",
      "2018-01-03 14:49:15,062 - DEBUG -           Found patches: [[9, 9, 7, 7]]\n",
      "2018-01-03 14:49:15,062 - DEBUG -           length: 1| parentLength: 1\n",
      "2018-01-03 14:49:15,062 - DEBUG -           length: 1| parentLength: 1\n",
      "2018-01-03 14:49:15,062 - DEBUG -           Done: xStart: 9 | xEnd: 9 | yStart: 7 | yEnd: 7\n",
      "2018-01-03 14:49:15,062 - DEBUG -           Done: xStart: 9 | xEnd: 9 | yStart: 7 | yEnd: 7\n",
      "2018-01-03 14:49:15,062 - DEBUG -           Ending findPatches()\n",
      "2018-01-03 14:49:15,062 - DEBUG -           Ending findPatches()\n",
      "2018-01-03 14:49:15,062 - DEBUG -         Ending findPatches()\n",
      "2018-01-03 14:49:15,062 - DEBUG -         Ending findPatches()\n",
      "2018-01-03 14:49:15,062 - DEBUG -       Child: 1\n",
      "2018-01-03 14:49:15,062 - DEBUG -       Child: 1\n",
      "2018-01-03 14:49:15,062 - DEBUG -         Starting findPatches()\n",
      "2018-01-03 14:49:15,062 - DEBUG -         Starting findPatches()\n",
      "2018-01-03 14:49:15,062 - DEBUG -         Direction: 0\n",
      "2018-01-03 14:49:15,062 - DEBUG -         Direction: 0\n",
      "2018-01-03 14:49:15,077 - DEBUG -         Starting scanForBoundaries()\n",
      "2018-01-03 14:49:15,077 - DEBUG -         Starting scanForBoundaries()\n",
      "2018-01-03 14:49:15,077 - DEBUG -         Found start: 1\n",
      "2018-01-03 14:49:15,077 - DEBUG -         Found start: 1\n",
      "2018-01-03 14:49:15,077 - DEBUG -         Found stop at end.\n",
      "2018-01-03 14:49:15,077 - DEBUG -         Found stop at end.\n",
      "2018-01-03 14:49:15,077 - DEBUG -         Ending scanForBoundaries()\n",
      "2018-01-03 14:49:15,077 - DEBUG -         Ending scanForBoundaries()\n",
      "2018-01-03 14:49:15,077 - DEBUG -         Found patches: [[11, 11, 8, 8]]\n",
      "2018-01-03 14:49:15,077 - DEBUG -         Found patches: [[11, 11, 8, 8]]\n",
      "2018-01-03 14:49:15,077 - DEBUG -         length: 1| parentLength: 2\n",
      "2018-01-03 14:49:15,077 - DEBUG -         length: 1| parentLength: 2\n",
      "2018-01-03 14:49:15,077 - DEBUG -         Scanning children...\n",
      "2018-01-03 14:49:15,077 - DEBUG -         Scanning children...\n",
      "2018-01-03 14:49:15,077 - DEBUG -         Child: 0\n",
      "2018-01-03 14:49:15,077 - DEBUG -         Child: 0\n",
      "2018-01-03 14:49:15,093 - DEBUG -           Starting findPatches()\n",
      "2018-01-03 14:49:15,093 - DEBUG -           Starting findPatches()\n",
      "2018-01-03 14:49:15,093 - DEBUG -           Direction: 1\n",
      "2018-01-03 14:49:15,093 - DEBUG -           Direction: 1\n",
      "2018-01-03 14:49:15,093 - DEBUG -           Starting scanForBoundaries()\n",
      "2018-01-03 14:49:15,093 - DEBUG -           Starting scanForBoundaries()\n",
      "2018-01-03 14:49:15,093 - DEBUG -           Length is one\n",
      "2018-01-03 14:49:15,093 - DEBUG -           Length is one\n",
      "2018-01-03 14:49:15,093 - DEBUG -           Ending scanForBoundaries()\n",
      "2018-01-03 14:49:15,093 - DEBUG -           Ending scanForBoundaries()\n",
      "2018-01-03 14:49:15,093 - DEBUG -           Found patches: [[11, 11, 8, 8]]\n",
      "2018-01-03 14:49:15,093 - DEBUG -           Found patches: [[11, 11, 8, 8]]\n",
      "2018-01-03 14:49:15,093 - DEBUG -           length: 1| parentLength: 1\n",
      "2018-01-03 14:49:15,093 - DEBUG -           length: 1| parentLength: 1\n",
      "2018-01-03 14:49:15,093 - DEBUG -           Done: xStart: 11 | xEnd: 11 | yStart: 8 | yEnd: 8\n",
      "2018-01-03 14:49:15,093 - DEBUG -           Done: xStart: 11 | xEnd: 11 | yStart: 8 | yEnd: 8\n",
      "2018-01-03 14:49:15,109 - DEBUG -           Ending findPatches()\n",
      "2018-01-03 14:49:15,109 - DEBUG -           Ending findPatches()\n",
      "2018-01-03 14:49:15,109 - DEBUG -         Ending findPatches()\n",
      "2018-01-03 14:49:15,109 - DEBUG -         Ending findPatches()\n",
      "2018-01-03 14:49:15,109 - DEBUG -       Ending findPatches()\n",
      "2018-01-03 14:49:15,109 - DEBUG -       Ending findPatches()\n",
      "2018-01-03 14:49:15,109 - DEBUG -     Ending findPatches()\n",
      "2018-01-03 14:49:15,109 - DEBUG -     Ending findPatches()\n",
      "2018-01-03 14:49:15,109 - DEBUG -   Child: 3\n",
      "2018-01-03 14:49:15,109 - DEBUG -   Child: 3\n",
      "2018-01-03 14:49:15,109 - DEBUG -     Starting findPatches()\n",
      "2018-01-03 14:49:15,109 - DEBUG -     Starting findPatches()\n",
      "2018-01-03 14:49:15,109 - DEBUG -     Direction: 0\n",
      "2018-01-03 14:49:15,109 - DEBUG -     Direction: 0\n",
      "2018-01-03 14:49:15,109 - DEBUG -     Starting scanForBoundaries()\n",
      "2018-01-03 14:49:15,109 - DEBUG -     Starting scanForBoundaries()\n",
      "2018-01-03 14:49:15,124 - DEBUG -     Found start: 0\n",
      "2018-01-03 14:49:15,124 - DEBUG -     Found start: 0\n",
      "2018-01-03 14:49:15,124 - DEBUG -     Found stop: 0\n",
      "2018-01-03 14:49:15,124 - DEBUG -     Found stop: 0\n",
      "2018-01-03 14:49:15,124 - DEBUG -     Found start: 5\n",
      "2018-01-03 14:49:15,124 - DEBUG -     Found start: 5\n",
      "2018-01-03 14:49:15,124 - DEBUG -     Found stop: 5\n",
      "2018-01-03 14:49:15,124 - DEBUG -     Found stop: 5\n",
      "2018-01-03 14:49:15,124 - DEBUG -     Ending scanForBoundaries()\n",
      "2018-01-03 14:49:15,124 - DEBUG -     Ending scanForBoundaries()\n",
      "2018-01-03 14:49:15,124 - DEBUG -     Found patches: [[14, 15, 0, 0], [14, 15, 5, 5]]\n",
      "2018-01-03 14:49:15,124 - DEBUG -     Found patches: [[14, 15, 0, 0], [14, 15, 5, 5]]\n",
      "2018-01-03 14:49:15,124 - DEBUG -     length: 2| parentLength: 4\n",
      "2018-01-03 14:49:15,124 - DEBUG -     length: 2| parentLength: 4\n",
      "2018-01-03 14:49:15,124 - DEBUG -     Scanning children...\n",
      "2018-01-03 14:49:15,124 - DEBUG -     Scanning children...\n",
      "2018-01-03 14:49:15,140 - DEBUG -     Child: 0\n",
      "2018-01-03 14:49:15,140 - DEBUG -     Child: 0\n",
      "2018-01-03 14:49:15,140 - DEBUG -       Starting findPatches()\n",
      "2018-01-03 14:49:15,140 - DEBUG -       Starting findPatches()\n",
      "2018-01-03 14:49:15,140 - DEBUG -       Direction: 1\n",
      "2018-01-03 14:49:15,140 - DEBUG -       Direction: 1\n",
      "2018-01-03 14:49:15,140 - DEBUG -       Starting scanForBoundaries()\n",
      "2018-01-03 14:49:15,140 - DEBUG -       Starting scanForBoundaries()\n",
      "2018-01-03 14:49:15,140 - DEBUG -       Found start: 0\n",
      "2018-01-03 14:49:15,140 - DEBUG -       Found start: 0\n",
      "2018-01-03 14:49:15,140 - DEBUG -       Found stop: 0\n",
      "2018-01-03 14:49:15,140 - DEBUG -       Found stop: 0\n",
      "2018-01-03 14:49:15,140 - DEBUG -       Ending scanForBoundaries()\n",
      "2018-01-03 14:49:15,140 - DEBUG -       Ending scanForBoundaries()\n",
      "2018-01-03 14:49:15,140 - DEBUG -       Found patches: [[14, 14, 0, 0]]\n"
     ]
    },
    {
     "name": "stderr",
     "output_type": "stream",
     "text": [
      "2018-01-03 14:49:15,140 - DEBUG -       Found patches: [[14, 14, 0, 0]]\n",
      "2018-01-03 14:49:15,155 - DEBUG -       length: 1| parentLength: 2\n",
      "2018-01-03 14:49:15,155 - DEBUG -       length: 1| parentLength: 2\n",
      "2018-01-03 14:49:15,155 - DEBUG -       Scanning children...\n",
      "2018-01-03 14:49:15,155 - DEBUG -       Scanning children...\n",
      "2018-01-03 14:49:15,155 - DEBUG -       Child: 0\n",
      "2018-01-03 14:49:15,155 - DEBUG -       Child: 0\n",
      "2018-01-03 14:49:15,155 - DEBUG -         Starting findPatches()\n",
      "2018-01-03 14:49:15,155 - DEBUG -         Starting findPatches()\n",
      "2018-01-03 14:49:15,155 - DEBUG -         Direction: 0\n",
      "2018-01-03 14:49:15,155 - DEBUG -         Direction: 0\n",
      "2018-01-03 14:49:15,155 - DEBUG -         Starting scanForBoundaries()\n",
      "2018-01-03 14:49:15,155 - DEBUG -         Starting scanForBoundaries()\n",
      "2018-01-03 14:49:15,155 - DEBUG -         Length is one\n",
      "2018-01-03 14:49:15,155 - DEBUG -         Length is one\n",
      "2018-01-03 14:49:15,155 - DEBUG -         Ending scanForBoundaries()\n",
      "2018-01-03 14:49:15,155 - DEBUG -         Ending scanForBoundaries()\n",
      "2018-01-03 14:49:15,155 - DEBUG -         Found patches: [[14, 14, 0, 0]]\n",
      "2018-01-03 14:49:15,155 - DEBUG -         Found patches: [[14, 14, 0, 0]]\n",
      "2018-01-03 14:49:15,155 - DEBUG -         length: 1| parentLength: 1\n",
      "2018-01-03 14:49:15,155 - DEBUG -         length: 1| parentLength: 1\n",
      "2018-01-03 14:49:15,171 - DEBUG -         Done: xStart: 14 | xEnd: 14 | yStart: 0 | yEnd: 0\n",
      "2018-01-03 14:49:15,171 - DEBUG -         Done: xStart: 14 | xEnd: 14 | yStart: 0 | yEnd: 0\n",
      "2018-01-03 14:49:15,171 - DEBUG -         Ending findPatches()\n",
      "2018-01-03 14:49:15,171 - DEBUG -         Ending findPatches()\n",
      "2018-01-03 14:49:15,171 - DEBUG -       Ending findPatches()\n",
      "2018-01-03 14:49:15,171 - DEBUG -       Ending findPatches()\n",
      "2018-01-03 14:49:15,171 - DEBUG -     Child: 1\n",
      "2018-01-03 14:49:15,171 - DEBUG -     Child: 1\n",
      "2018-01-03 14:49:15,171 - DEBUG -       Starting findPatches()\n",
      "2018-01-03 14:49:15,171 - DEBUG -       Starting findPatches()\n",
      "2018-01-03 14:49:15,171 - DEBUG -       Direction: 1\n",
      "2018-01-03 14:49:15,171 - DEBUG -       Direction: 1\n",
      "2018-01-03 14:49:15,171 - DEBUG -       Starting scanForBoundaries()\n",
      "2018-01-03 14:49:15,171 - DEBUG -       Starting scanForBoundaries()\n",
      "2018-01-03 14:49:15,171 - DEBUG -       Found start: 1\n",
      "2018-01-03 14:49:15,171 - DEBUG -       Found start: 1\n",
      "2018-01-03 14:49:15,187 - DEBUG -       Found stop at end.\n",
      "2018-01-03 14:49:15,187 - DEBUG -       Found stop at end.\n",
      "2018-01-03 14:49:15,187 - DEBUG -       Ending scanForBoundaries()\n",
      "2018-01-03 14:49:15,187 - DEBUG -       Ending scanForBoundaries()\n",
      "2018-01-03 14:49:15,187 - DEBUG -       Found patches: [[15, 15, 5, 5]]\n",
      "2018-01-03 14:49:15,187 - DEBUG -       Found patches: [[15, 15, 5, 5]]\n",
      "2018-01-03 14:49:15,187 - DEBUG -       length: 1| parentLength: 2\n",
      "2018-01-03 14:49:15,187 - DEBUG -       length: 1| parentLength: 2\n",
      "2018-01-03 14:49:15,249 - DEBUG -       Scanning children...\n",
      "2018-01-03 14:49:15,249 - DEBUG -       Scanning children...\n",
      "2018-01-03 14:49:15,249 - DEBUG -       Child: 0\n",
      "2018-01-03 14:49:15,249 - DEBUG -       Child: 0\n",
      "2018-01-03 14:49:15,249 - DEBUG -         Starting findPatches()\n",
      "2018-01-03 14:49:15,249 - DEBUG -         Starting findPatches()\n",
      "2018-01-03 14:49:15,249 - DEBUG -         Direction: 0\n",
      "2018-01-03 14:49:15,249 - DEBUG -         Direction: 0\n",
      "2018-01-03 14:49:15,249 - DEBUG -         Starting scanForBoundaries()\n",
      "2018-01-03 14:49:15,249 - DEBUG -         Starting scanForBoundaries()\n",
      "2018-01-03 14:49:15,265 - DEBUG -         Length is one\n",
      "2018-01-03 14:49:15,265 - DEBUG -         Length is one\n",
      "2018-01-03 14:49:15,265 - DEBUG -         Ending scanForBoundaries()\n",
      "2018-01-03 14:49:15,265 - DEBUG -         Ending scanForBoundaries()\n",
      "2018-01-03 14:49:15,265 - DEBUG -         Found patches: [[15, 15, 5, 5]]\n",
      "2018-01-03 14:49:15,265 - DEBUG -         Found patches: [[15, 15, 5, 5]]\n",
      "2018-01-03 14:49:15,265 - DEBUG -         length: 1| parentLength: 1\n",
      "2018-01-03 14:49:15,265 - DEBUG -         length: 1| parentLength: 1\n",
      "2018-01-03 14:49:15,265 - DEBUG -         Done: xStart: 15 | xEnd: 15 | yStart: 5 | yEnd: 5\n",
      "2018-01-03 14:49:15,265 - DEBUG -         Done: xStart: 15 | xEnd: 15 | yStart: 5 | yEnd: 5\n",
      "2018-01-03 14:49:15,265 - DEBUG -         Ending findPatches()\n",
      "2018-01-03 14:49:15,265 - DEBUG -         Ending findPatches()\n",
      "2018-01-03 14:49:15,265 - DEBUG -       Ending findPatches()\n",
      "2018-01-03 14:49:15,265 - DEBUG -       Ending findPatches()\n",
      "2018-01-03 14:49:15,281 - DEBUG -     Ending findPatches()\n",
      "2018-01-03 14:49:15,281 - DEBUG -     Ending findPatches()\n",
      "2018-01-03 14:49:15,281 - DEBUG -   Ending findPatches()\n",
      "2018-01-03 14:49:15,281 - DEBUG -   Ending findPatches()\n",
      "2018-01-03 14:49:15,281 - DEBUG - Ending findPatches()\n",
      "2018-01-03 14:49:15,281 - DEBUG - Ending findPatches()\n"
     ]
    }
   ],
   "source": [
    "patches = patchfinder.patch.findPatches(testBooleanArray)"
   ]
  },
  {
   "cell_type": "markdown",
   "metadata": {},
   "source": [
    "To visualise what the algorithm does, the second logger can be used. This writes all messages to a variable, which can be parsed using a regular expression. For each step of the recursive process, the information is plotted together with the original boolean array."
   ]
  },
  {
   "cell_type": "code",
   "execution_count": 47,
   "metadata": {},
   "outputs": [
    {
     "data": {
      "image/png": "[encoded data removed]",
      "text/plain": [
       "<matplotlib.figure.Figure at 0x17a7ce75a90>"
      ]
     },
     "metadata": {},
     "output_type": "display_data"
    },
    {
     "data": {
      "image/png": "[encoded data removed]",
      "text/plain": [
       "<matplotlib.figure.Figure at 0x17a7cf3ac18>"
      ]
     },
     "metadata": {},
     "output_type": "display_data"
    },
    {
     "data": {
      "image/png": "[encoded data removed]",
      "text/plain": [
       "<matplotlib.figure.Figure at 0x17a7cf96358>"
      ]
     },
     "metadata": {},
     "output_type": "display_data"
    },
    {
     "data": {
      "image/png": "[encoded data removed]",
      "text/plain": [
       "<matplotlib.figure.Figure at 0x17a7bb7f7b8>"
      ]
     },
     "metadata": {},
     "output_type": "display_data"
    },
    {
     "data": {
      "image/png": "[encoded data removed]",
      "text/plain": [
       "<matplotlib.figure.Figure at 0x17a7bad25c0>"
      ]
     },
     "metadata": {},
     "output_type": "display_data"
    },
    {
     "data": {
      "image/png": "[encoded data removed]",
      "text/plain": [
       "<matplotlib.figure.Figure at 0x17a7ce30a90>"
      ]
     },
     "metadata": {},
     "output_type": "display_data"
    },
    {
     "data": {
      "image/png": "[encoded data removed]",
      "text/plain": [
       "<matplotlib.figure.Figure at 0x17a7ce92908>"
      ]
     },
     "metadata": {},
     "output_type": "display_data"
    },
    {
     "data": {
      "image/png": "[encoded data removed]",
      "text/plain": [
       "<matplotlib.figure.Figure at 0x17a7bd7a630>"
      ]
     },
     "metadata": {},
     "output_type": "display_data"
    },
    {
     "data": {
      "image/png": "[encoded data removed]",
      "text/plain": [
       "<matplotlib.figure.Figure at 0x17a7bbd84e0>"
      ]
     },
     "metadata": {},
     "output_type": "display_data"
    },
    {
     "data": {
      "image/png": "[encoded data removed]",
      "text/plain": [
       "<matplotlib.figure.Figure at 0x17a7ce1f6d8>"
      ]
     },
     "metadata": {},
     "output_type": "display_data"
    },
    {
     "data": {
      "image/png": "[encoded data removed]",
      "text/plain": [
       "<matplotlib.figure.Figure at 0x17a7bc184e0>"
      ]
     },
     "metadata": {},
     "output_type": "display_data"
    },
    {
     "data": {
      "image/png": "[encoded data removed]",
      "text/plain": [
       "<matplotlib.figure.Figure at 0x17a7bc925f8>"
      ]
     },
     "metadata": {},
     "output_type": "display_data"
    },
    {
     "data": {
      "image/png": "[encoded data removed]",
      "text/plain": [
       "<matplotlib.figure.Figure at 0x17a7bc18e48>"
      ]
     },
     "metadata": {},
     "output_type": "display_data"
    },
    {
     "data": {
      "image/png": "[encoded data removed]",
      "text/plain": [
       "<matplotlib.figure.Figure at 0x17a7efa3748>"
      ]
     },
     "metadata": {},
     "output_type": "display_data"
    },
    {
     "data": {
      "image/png": "[encoded data removed]",
      "text/plain": [
       "<matplotlib.figure.Figure at 0x17a79a2e240>"
      ]
     },
     "metadata": {},
     "output_type": "display_data"
    },
    {
     "data": {
      "image/png": "[encoded data removed]",
      "text/plain": [
       "<matplotlib.figure.Figure at 0x17a7cef75c0>"
      ]
     },
     "metadata": {},
     "output_type": "display_data"
    },
    {
     "data": {
      "image/png": "[encoded data removed]",
      "text/plain": [
       "<matplotlib.figure.Figure at 0x17a7bc9d2b0>"
      ]
     },
     "metadata": {},
     "output_type": "display_data"
    },
    {
     "data": {
      "image/png": "[encoded data removed]",
      "text/plain": [
       "<matplotlib.figure.Figure at 0x17a7f019390>"
      ]
     },
     "metadata": {},
     "output_type": "display_data"
    },
    {
     "data": {
      "image/png": "[encoded data removed]",
      "text/plain": [
       "<matplotlib.figure.Figure at 0x17a7bb1f5c0>"
      ]
     },
     "metadata": {},
     "output_type": "display_data"
    },
    {
     "data": {
      "image/png": "[encoded data removed]",
      "text/plain": [
       "<matplotlib.figure.Figure at 0x17a7cf85278>"
      ]
     },
     "metadata": {},
     "output_type": "display_data"
    },
    {
     "data": {
      "image/png": "[encoded data removed]",
      "text/plain": [
       "<matplotlib.figure.Figure at 0x17a7bdb5da0>"
      ]
     },
     "metadata": {},
     "output_type": "display_data"
    },
    {
     "data": {
      "image/png": "[encoded data removed]",
      "text/plain": [
       "<matplotlib.figure.Figure at 0x17a7bd1b358>"
      ]
     },
     "metadata": {},
     "output_type": "display_data"
    },
    {
     "data": {
      "image/png": "[encoded data removed]",
      "text/plain": [
       "<matplotlib.figure.Figure at 0x17a7bdc8d30>"
      ]
     },
     "metadata": {},
     "output_type": "display_data"
    },
    {
     "data": {
      "image/png": "[encoded data removed]",
      "text/plain": [
       "<matplotlib.figure.Figure at 0x17a7ce31908>"
      ]
     },
     "metadata": {},
     "output_type": "display_data"
    },
    {
     "data": {
      "image/png": "[encoded data removed]",
      "text/plain": [
       "<matplotlib.figure.Figure at 0x17a7bd61978>"
      ]
     },
     "metadata": {},
     "output_type": "display_data"
    },
    {
     "data": {
      "image/png": "[encoded data removed]",
      "text/plain": [
       "<matplotlib.figure.Figure at 0x17a6aed2588>"
      ]
     },
     "metadata": {},
     "output_type": "display_data"
    },
    {
     "data": {
      "image/png": "[encoded data removed]",
      "text/plain": [
       "<matplotlib.figure.Figure at 0x17a7cdaeeb8>"
      ]
     },
     "metadata": {},
     "output_type": "display_data"
    },
    {
     "data": {
      "image/png": "[encoded data removed]",
      "text/plain": [
       "<matplotlib.figure.Figure at 0x17a7bbb7940>"
      ]
     },
     "metadata": {},
     "output_type": "display_data"
    },
    {
     "data": {
      "image/png": "[encoded data removed]",
      "text/plain": [
       "<matplotlib.figure.Figure at 0x17a7bb020b8>"
      ]
     },
     "metadata": {},
     "output_type": "display_data"
    },
    {
     "data": {
      "image/png": "[encoded data removed]",
      "text/plain": [
       "<matplotlib.figure.Figure at 0x17a7bda9a90>"
      ]
     },
     "metadata": {},
     "output_type": "display_data"
    },
    {
     "data": {
      "image/png": "[encoded data removed]",
      "text/plain": [
       "<matplotlib.figure.Figure at 0x17a7ceac208>"
      ]
     },
     "metadata": {},
     "output_type": "display_data"
    },
    {
     "data": {
      "image/png": "[encoded data removed]",
      "text/plain": [
       "<matplotlib.figure.Figure at 0x17a7bb3e518>"
      ]
     },
     "metadata": {},
     "output_type": "display_data"
    },
    {
     "data": {
      "image/png": "[encoded data removed]",
      "text/plain": [
       "<matplotlib.figure.Figure at 0x17a7ce8e198>"
      ]
     },
     "metadata": {},
     "output_type": "display_data"
    },
    {
     "data": {
      "image/png": "[encoded data removed]",
      "text/plain": [
       "<matplotlib.figure.Figure at 0x17a7ce8e898>"
      ]
     },
     "metadata": {},
     "output_type": "display_data"
    },
    {
     "data": {
      "image/png": "[encoded data removed]",
      "text/plain": [
       "<matplotlib.figure.Figure at 0x17a7ce8eba8>"
      ]
     },
     "metadata": {},
     "output_type": "display_data"
    },
    {
     "data": {
      "image/png": "[encoded data removed]",
      "text/plain": [
       "<matplotlib.figure.Figure at 0x17a7baee160>"
      ]
     },
     "metadata": {},
     "output_type": "display_data"
    },
    {
     "data": {
      "image/png": "[encoded data removed]",
      "text/plain": [
       "<matplotlib.figure.Figure at 0x17a7cf34c18>"
      ]
     },
     "metadata": {},
     "output_type": "display_data"
    },
    {
     "data": {
      "image/png": "[encoded data removed]",
      "text/plain": [
       "<matplotlib.figure.Figure at 0x17a7cef7780>"
      ]
     },
     "metadata": {},
     "output_type": "display_data"
    },
    {
     "data": {
      "image/png": "[encoded data removed]",
      "text/plain": [
       "<matplotlib.figure.Figure at 0x17a7bba6630>"
      ]
     },
     "metadata": {},
     "output_type": "display_data"
    },
    {
     "data": {
      "image/png": "[encoded data removed]",
      "text/plain": [
       "<matplotlib.figure.Figure at 0x17a7cf6a438>"
      ]
     },
     "metadata": {},
     "output_type": "display_data"
    },
    {
     "data": {
      "image/png": "[encoded data removed]",
      "text/plain": [
       "<matplotlib.figure.Figure at 0x17a7cee3518>"
      ]
     },
     "metadata": {},
     "output_type": "display_data"
    },
    {
     "data": {
      "image/png": "[encoded data removed]",
      "text/plain": [
       "<matplotlib.figure.Figure at 0x17a7bc584e0>"
      ]
     },
     "metadata": {},
     "output_type": "display_data"
    },
    {
     "data": {
      "image/png": "[encoded data removed]",
      "text/plain": [
       "<matplotlib.figure.Figure at 0x17a7cdb5a90>"
      ]
     },
     "metadata": {},
     "output_type": "display_data"
    },
    {
     "data": {
      "image/png": "[encoded data removed]",
      "text/plain": [
       "<matplotlib.figure.Figure at 0x17a7bd31208>"
      ]
     },
     "metadata": {},
     "output_type": "display_data"
    },
    {
     "data": {
      "image/png": "[encoded data removed]",
      "text/plain": [
       "<matplotlib.figure.Figure at 0x17a7bd319e8>"
      ]
     },
     "metadata": {},
     "output_type": "display_data"
    },
    {
     "data": {
      "image/png": "[encoded data removed]",
      "text/plain": [
       "<matplotlib.figure.Figure at 0x17a7bd31320>"
      ]
     },
     "metadata": {},
     "output_type": "display_data"
    },
    {
     "data": {
      "image/png": "[encoded data removed]",
      "text/plain": [
       "<matplotlib.figure.Figure at 0x17a7cdaaf98>"
      ]
     },
     "metadata": {},
     "output_type": "display_data"
    },
    {
     "data": {
      "image/png": "[encoded data removed]",
      "text/plain": [
       "<matplotlib.figure.Figure at 0x17a79a2edd8>"
      ]
     },
     "metadata": {},
     "output_type": "display_data"
    },
    {
     "data": {
      "image/png": "[encoded data removed]",
      "text/plain": [
       "<matplotlib.figure.Figure at 0x17a7cf49cc0>"
      ]
     },
     "metadata": {},
     "output_type": "display_data"
    },
    {
     "data": {
      "image/png": "[encoded data removed]",
      "text/plain": [
       "<matplotlib.figure.Figure at 0x17a7ce37748>"
      ]
     },
     "metadata": {},
     "output_type": "display_data"
    },
    {
     "data": {
      "image/png": "[encoded data removed]",
      "text/plain": [
       "<matplotlib.figure.Figure at 0x17a7ce370b8>"
      ]
     },
     "metadata": {},
     "output_type": "display_data"
    }
   ],
   "source": [
    "matches = re.findall(\"\\[\\d*, \\d*, \\d*, \\d*\\]\", log_capture_string.getvalue())\n",
    "for match in matches:\n",
    "    array = ast.literal_eval(match)\n",
    "    patch = patchfinder.patch.Patch(array[0], array[1], array[2], array[3])\n",
    "    congestionfinder.congestion.plotCongestionsWithPatches(testBooleanArray, [patch])"
   ]
  },
  {
   "cell_type": "markdown",
   "metadata": {},
   "source": [
    "The function has returned the following _Patch objects_."
   ]
  },
  {
   "cell_type": "code",
   "execution_count": 48,
   "metadata": {},
   "outputs": [
    {
     "name": "stdout",
     "output_type": "stream",
     "text": [
      "xStart: 1 | xEnd: 1 | yStart: 1 | yEnd: 1\n",
      "xStart: 0 | xEnd: 0 | yStart: 3 | yEnd: 3\n",
      "xStart: 3 | xEnd: 4 | yStart: 2 | yEnd: 3\n",
      "xStart: 3 | xEnd: 4 | yStart: 5 | yEnd: 6\n",
      "xStart: 2 | xEnd: 2 | yStart: 8 | yEnd: 8\n",
      "xStart: 6 | xEnd: 6 | yStart: 5 | yEnd: 5\n",
      "xStart: 6 | xEnd: 6 | yStart: 7 | yEnd: 7\n",
      "xStart: 9 | xEnd: 9 | yStart: 0 | yEnd: 0\n",
      "xStart: 12 | xEnd: 12 | yStart: 1 | yEnd: 1\n",
      "xStart: 8 | xEnd: 10 | yStart: 4 | yEnd: 5\n",
      "xStart: 9 | xEnd: 9 | yStart: 7 | yEnd: 7\n",
      "xStart: 11 | xEnd: 11 | yStart: 8 | yEnd: 8\n",
      "xStart: 14 | xEnd: 14 | yStart: 0 | yEnd: 0\n",
      "xStart: 15 | xEnd: 15 | yStart: 5 | yEnd: 5\n"
     ]
    }
   ],
   "source": [
    "for patch in patches:\n",
    "    print(patch)"
   ]
  },
  {
   "cell_type": "markdown",
   "metadata": {},
   "source": [
    "To visualise the end result, the _Patch objects_ can be plotted together with the original array and its boolean representation."
   ]
  },
  {
   "cell_type": "code",
   "execution_count": 49,
   "metadata": {},
   "outputs": [
    {
     "data": {
      "image/png": "[encoded data removed]",
      "text/plain": [
       "<matplotlib.figure.Figure at 0x17a7cef7eb8>"
      ]
     },
     "metadata": {},
     "output_type": "display_data"
    },
    {
     "data": {
      "image/png": "[encoded data removed]",
      "text/plain": [
       "<matplotlib.figure.Figure at 0x17a7ce86f60>"
      ]
     },
     "metadata": {},
     "output_type": "display_data"
    }
   ],
   "source": [
    "congestionfinder.congestion.plotCongestionsWithPatches(testDataArray, patches)\n",
    "congestionfinder.congestion.plotCongestionsWithPatches(testBooleanArray, patches)"
   ]
  },
  {
   "cell_type": "markdown",
   "metadata": {},
   "source": [
    "Some _Patch objects_ may be deamed too small to be of interest. The _patch class_ contains a function which can filter these out based on a threshold value."
   ]
  },
  {
   "cell_type": "code",
   "execution_count": 50,
   "metadata": {},
   "outputs": [
    {
     "name": "stderr",
     "output_type": "stream",
     "text": [
      "2018-01-03 14:49:21,078 - DEBUG - Starting filterLargePatches()\n",
      "2018-01-03 14:49:21,078 - DEBUG - Starting filterLargePatches()\n",
      "2018-01-03 14:49:21,078 - DEBUG - Ending filterLargePatches()\n",
      "2018-01-03 14:49:21,078 - DEBUG - Ending filterLargePatches()\n"
     ]
    }
   ],
   "source": [
    "patchesFiltered = patchfinder.patch.filterLargePatches(patches, 1)"
   ]
  },
  {
   "cell_type": "markdown",
   "metadata": {},
   "source": [
    "The result is a shorter list of _Patch objects_."
   ]
  },
  {
   "cell_type": "code",
   "execution_count": 52,
   "metadata": {},
   "outputs": [
    {
     "name": "stdout",
     "output_type": "stream",
     "text": [
      "xStart: 3 | xEnd: 4 | yStart: 2 | yEnd: 3\n",
      "xStart: 3 | xEnd: 4 | yStart: 5 | yEnd: 6\n",
      "xStart: 8 | xEnd: 10 | yStart: 4 | yEnd: 5\n"
     ]
    }
   ],
   "source": [
    "for patch in patchesFiltered:\n",
    "    print(patch)"
   ]
  },
  {
   "cell_type": "markdown",
   "metadata": {},
   "source": [
    "These can also be visualised."
   ]
  },
  {
   "cell_type": "code",
   "execution_count": 53,
   "metadata": {},
   "outputs": [
    {
     "data": {
      "image/png": "[encoded data removed]",
      "text/plain": [
       "<matplotlib.figure.Figure at 0x17a7efb17b8>"
      ]
     },
     "metadata": {},
     "output_type": "display_data"
    },
    {
     "data": {
      "image/png": "[encoded data removed]",
      "text/plain": [
       "<matplotlib.figure.Figure at 0x17a7efddf60>"
      ]
     },
     "metadata": {},
     "output_type": "display_data"
    }
   ],
   "source": [
    "congestionfinder.congestion.plotCongestionsWithPatches(testDataArray, patchesFiltered)\n",
    "congestionfinder.congestion.plotCongestionsWithPatches(testBooleanArray, patchesFiltered)"
   ]
  },
  {
   "cell_type": "markdown",
   "metadata": {},
   "source": [
    "### Speed and Flows (part 2)"
   ]
  },
  {
   "cell_type": "markdown",
   "metadata": {},
   "source": [
    "The _speedflow class_ has additional functions to deal with _Patch objects_. In particular, it can use the _masks_ from the missing detectors and the low-flow times to reconstruct the patches as they would have been before the filtering."
   ]
  },
  {
   "cell_type": "code",
   "execution_count": 34,
   "metadata": {},
   "outputs": [
    {
     "name": "stderr",
     "output_type": "stream",
     "text": [
      "2018-01-03 13:40:07,538 - DEBUG - Starting unmaskPatches()\n",
      "2018-01-03 13:40:07,538 - DEBUG - Ending unmaskPatches()\n"
     ]
    }
   ],
   "source": [
    "patches = []\n",
    "patches.append(patchfinder.patch.Patch(2, 3, 4, 5))\n",
    "patches.append(patchfinder.patch.Patch(0, 2, 1, 3))\n",
    "patches.append(patchfinder.patch.Patch(3, 3, 0, 1))\n",
    "maskSpace = [True, True, False, True, True]\n",
    "maskTime = [True, True, True, True, False, True, True]\n",
    "speedFlowPatches = congestionfinder.speedflow.unmaskPatches(patches, maskSpace, maskTime)"
   ]
  },
  {
   "cell_type": "markdown",
   "metadata": {},
   "source": [
    "As can be seen in the list below, the starts and ends shift depending on whether an additional space or time index was added."
   ]
  },
  {
   "cell_type": "code",
   "execution_count": 35,
   "metadata": {},
   "outputs": [
    {
     "name": "stdout",
     "output_type": "stream",
     "text": [
      "xStart: 3 | xEnd: 4 | yStart: 5 | yEnd: 6\n",
      "xStart: 0 | xEnd: 3 | yStart: 1 | yEnd: 3\n",
      "xStart: 4 | xEnd: 4 | yStart: 0 | yEnd: 1\n"
     ]
    }
   ],
   "source": [
    "for patch in speedFlowPatches:\n",
    "    print(patch)"
   ]
  },
  {
   "cell_type": "markdown",
   "metadata": {},
   "source": [
    "The _speedflow class_ can also add margins to the _Patch objects_. This is important to undo some of the effect of the coarse-graining which occured when the _congestion_ array was smoothed. To ensure that the function does not create unrealistic margins, the original boundaries of the _speed_ and _flow_ arrays need to be used."
   ]
  },
  {
   "cell_type": "code",
   "execution_count": 36,
   "metadata": {},
   "outputs": [
    {
     "name": "stderr",
     "output_type": "stream",
     "text": [
      "2018-01-03 13:40:39,915 - DEBUG - Starting addMargins()\n",
      "2018-01-03 13:40:39,930 - DEBUG - Ending addMargins()\n"
     ]
    }
   ],
   "source": [
    "patches = []\n",
    "patches.append(patchfinder.patch.Patch(2, 3, 4, 5))\n",
    "patches.append(patchfinder.patch.Patch(0, 2, 1, 3))\n",
    "patches.append(patchfinder.patch.Patch(3, 3, 0, 1))\n",
    "marginSpace = 2\n",
    "marginTime = 1\n",
    "minSpaceIndex = 0\n",
    "maxSpaceIndex = 15\n",
    "minTimeIndex = 0\n",
    "maxTimeIndex = 8\n",
    "patchesWithMargins = congestionfinder.speedflow.addMargins(patches, marginSpace, marginTime, minSpaceIndex, maxSpaceIndex, minTimeIndex, maxTimeIndex)"
   ]
  },
  {
   "cell_type": "markdown",
   "metadata": {},
   "source": [
    "As can be seen in the list below, the starts shift downward and the ends shift upward, unless the boundary of the array is hit."
   ]
  },
  {
   "cell_type": "code",
   "execution_count": 37,
   "metadata": {},
   "outputs": [
    {
     "name": "stdout",
     "output_type": "stream",
     "text": [
      "xStart: 0 | xEnd: 5 | yStart: 3 | yEnd: 6\n",
      "xStart: 0 | xEnd: 4 | yStart: 0 | yEnd: 4\n",
      "xStart: 1 | xEnd: 5 | yStart: 0 | yEnd: 2\n"
     ]
    }
   ],
   "source": [
    "for patch in patchesWithMargins:\n",
    "    print(patch)"
   ]
  },
  {
   "cell_type": "markdown",
   "metadata": {},
   "source": [
    "End of Notebook"
   ]
  }
 ],
 "metadata": {
  "kernelspec": {
   "display_name": "Python 3",
   "language": "python",
   "name": "python3"
  },
  "language_info": {
   "codemirror_mode": {
    "name": "ipython",
    "version": 3
   },
   "file_extension": ".py",
   "mimetype": "text/x-python",
   "name": "python",
   "nbconvert_exporter": "python",
   "pygments_lexer": "ipython3",
   "version": "3.6.3"
  }
 },
 "nbformat": 4,
 "nbformat_minor": 2
}
