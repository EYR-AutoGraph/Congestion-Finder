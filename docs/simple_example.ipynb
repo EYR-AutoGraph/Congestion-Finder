{
 "cells": [
  {
   "cell_type": "markdown",
   "metadata": {},
   "source": [
    "# Title"
   ]
  },
  {
   "cell_type": "markdown",
   "metadata": {},
   "source": [
    "This Notebook..."
   ]
  },
  {
   "cell_type": "markdown",
   "metadata": {},
   "source": [
    "## Initialization"
   ]
  },
  {
   "cell_type": "markdown",
   "metadata": {},
   "source": [
    "### Imports"
   ]
  },
  {
   "cell_type": "code",
   "execution_count": 1,
   "metadata": {},
   "outputs": [],
   "source": [
    "import logging\n",
    "logging.basicConfig(level=logging.DEBUG, format='%(asctime)s %(message)s')\n",
    "\n",
    "import numpy\n",
    "import matplotlib.pyplot\n",
    "\n",
    "import sys\n",
    "sys.path.append(\"../\")\n",
    "import congestionfinder\n",
    "import congestionfinder.bpsdetector\n",
    "import congestionfinder.road\n",
    "import congestionfinder.detection\n",
    "import congestionfinder.speedflow\n",
    "import congestionfinder.congestion\n",
    "import patchfinder.patches"
   ]
  },
  {
   "cell_type": "markdown",
   "metadata": {},
   "source": [
    "## Classes"
   ]
  },
  {
   "cell_type": "code",
   "execution_count": 2,
   "metadata": {},
   "outputs": [
    {
     "name": "stdout",
     "output_type": "stream",
     "text": [
      "bpsCode: 00D00C03405B18200005 | roadNumber: 12 | hectometer: 208 | additionalMeters: 91\n"
     ]
    }
   ],
   "source": [
    "bpsDetector = congestionfinder.bpsdetector.BPSDetector(\"00D00C03405B18200005\")\n",
    "print(bpsDetector)"
   ]
  },
  {
   "cell_type": "code",
   "execution_count": 3,
   "metadata": {},
   "outputs": [
    {
     "name": "stdout",
     "output_type": "stream",
     "text": [
      "roadNumber: 12 | len(bpsDetectors): 1 | len(spaceToSpaceIndex): 0\n",
      "{20891: 0}\n"
     ]
    }
   ],
   "source": [
    "road = congestionfinder.road.Road(12)\n",
    "road.addBPSDetector(bpsDetector)\n",
    "print(road)\n",
    "road.indexDetectorSpaces()\n",
    "print(road.getSpaceToSpaceIndex())"
   ]
  },
  {
   "cell_type": "code",
   "execution_count": 4,
   "metadata": {},
   "outputs": [
    {
     "name": "stdout",
     "output_type": "stream",
     "text": [
      "code: 00D00C03405B18200005 | space: 1234 | time: 1440 | speed: 120 | flow: 17\n"
     ]
    }
   ],
   "source": [
    "detection = congestionfinder.detection.Detection(\"00D00C03405B18200005\", 1234, 1440, 120, 17)\n",
    "print(detection)"
   ]
  },
  {
   "cell_type": "markdown",
   "metadata": {},
   "source": [
    "## Roads"
   ]
  },
  {
   "cell_type": "code",
   "execution_count": 5,
   "metadata": {},
   "outputs": [
    {
     "name": "stderr",
     "output_type": "stream",
     "text": [
      "2017-12-11 10:44:19,964 Starting parseBPSCodesToRoads()\n",
      "2017-12-11 10:44:19,964 Ending parseBPSCodesToRoads()\n"
     ]
    }
   ],
   "source": [
    "roads = congestionfinder.road.parseBPSCodesToRoads([\"10D00204D037D007000B\", \"10D002051800D0070013\", \"10D002057000D007000F\"])\n",
    "for value in roads.values():\n",
    "    value.indexDetectorSpaces"
   ]
  },
  {
   "cell_type": "code",
   "execution_count": 6,
   "metadata": {},
   "outputs": [
    {
     "name": "stdout",
     "output_type": "stream",
     "text": [
      "roadNumber: 2 | len(bpsDetectors): 3 | len(spaceToSpaceIndex): 3\n"
     ]
    }
   ],
   "source": [
    "for value in sorted(roads.values(), key = lambda x:len(x.getBPSDetectors())):\n",
    "    print(value)"
   ]
  },
  {
   "cell_type": "markdown",
   "metadata": {},
   "source": [
    "## Speed and Flows"
   ]
  },
  {
   "cell_type": "code",
   "execution_count": 7,
   "metadata": {
    "collapsed": true
   },
   "outputs": [],
   "source": [
    "detections = []\n",
    "detections.append(congestionfinder.detection.Detection(\"10D00204D037D007000B\", 30855, 1, 80, 17))\n",
    "detections.append(congestionfinder.detection.Detection(\"10D00204D037D007000B\", 30855, 2, 70, 16))\n",
    "detections.append(congestionfinder.detection.Detection(\"10D00204D037D007000B\", 30855, 3, 75, 17))\n",
    "detections.append(congestionfinder.detection.Detection(\"10D002051800D0070013\", 32600, 1, 40, 10))\n",
    "detections.append(congestionfinder.detection.Detection(\"10D002051800D0070013\", 32600, 2, 55, 18))\n",
    "detections.append(congestionfinder.detection.Detection(\"10D002051800D0070013\", 32600, 3, 35, 12))\n",
    "detections.append(congestionfinder.detection.Detection(\"10D002057000D007000F\", 34800, 1, 70, 19))\n",
    "detections.append(congestionfinder.detection.Detection(\"10D002057000D007000F\", 34800, 2, 85, 14))\n",
    "detections.append(congestionfinder.detection.Detection(\"10D002057000D007000F\", 34800, 3, 100, 19))"
   ]
  },
  {
   "cell_type": "code",
   "execution_count": 8,
   "metadata": {},
   "outputs": [
    {
     "name": "stderr",
     "output_type": "stream",
     "text": [
      "2017-12-11 10:44:20,026 Starting parseDetectionsToSpeedFlows()\n",
      "2017-12-11 10:44:20,026 Ending parseDetectionsToSpeedFlows()\n"
     ]
    }
   ],
   "source": [
    "speeds, flows, minSpaceIndex, maxSpaceIndex, minTimeIndex, maxTimeIndex = congestionfinder.speedflow.parseDetectionsToSpeedsAndFlows(detections, roads[2])"
   ]
  },
  {
   "cell_type": "code",
   "execution_count": 9,
   "metadata": {},
   "outputs": [
    {
     "name": "stdout",
     "output_type": "stream",
     "text": [
      "(3, 3)\n",
      "(3, 3)\n",
      "0\n",
      "2\n",
      "1\n",
      "3\n"
     ]
    },
    {
     "data": {
      "image/png": "[encoded data removed]",
      "text/plain": [
       "<matplotlib.figure.Figure at 0x22b72660358>"
      ]
     },
     "metadata": {},
     "output_type": "display_data"
    },
    {
     "data": {
      "image/png": "[encoded data removed]",
      "text/plain": [
       "<matplotlib.figure.Figure at 0x22b726dfeb8>"
      ]
     },
     "metadata": {},
     "output_type": "display_data"
    }
   ],
   "source": [
    "print(speeds.shape)\n",
    "print(flows.shape)\n",
    "print(minSpaceIndex)\n",
    "print(maxSpaceIndex)\n",
    "print(minTimeIndex)\n",
    "print(maxTimeIndex)\n",
    "matplotlib.pyplot.imshow(speeds, aspect = \"auto\")\n",
    "matplotlib.pyplot.colorbar()\n",
    "matplotlib.pyplot.show()\n",
    "matplotlib.pyplot.imshow(flows, aspect = \"auto\")\n",
    "matplotlib.pyplot.colorbar()\n",
    "matplotlib.pyplot.show()"
   ]
  },
  {
   "cell_type": "code",
   "execution_count": 10,
   "metadata": {},
   "outputs": [
    {
     "name": "stderr",
     "output_type": "stream",
     "text": [
      "2017-12-11 10:44:20,558 Starting removeLowFlowTimes()\n",
      "2017-12-11 10:44:20,558 Ending removeLowFlowTimes()\n"
     ]
    }
   ],
   "source": [
    "speedsHighFlow, flowsHighFlow, maskHighFlow = congestionfinder.speedflow.removeLowFlowTimes(speeds, flows) ## Do something with Mask"
   ]
  },
  {
   "cell_type": "code",
   "execution_count": 11,
   "metadata": {},
   "outputs": [
    {
     "name": "stdout",
     "output_type": "stream",
     "text": [
      "(3, 3)\n",
      "(3, 3)\n",
      "1.0\n"
     ]
    },
    {
     "data": {
      "image/png": "[encoded data removed]",
      "text/plain": [
       "<matplotlib.figure.Figure at 0x22b72b9a8d0>"
      ]
     },
     "metadata": {},
     "output_type": "display_data"
    },
    {
     "data": {
      "image/png": "[encoded data removed]",
      "text/plain": [
       "<matplotlib.figure.Figure at 0x22b7273e080>"
      ]
     },
     "metadata": {},
     "output_type": "display_data"
    }
   ],
   "source": [
    "print(speedsHighFlow.shape)\n",
    "print(flowsHighFlow.shape)\n",
    "print(sum(maskHighFlow) / (sum(maskHighFlow) + sum(~maskHighFlow)))\n",
    "matplotlib.pyplot.imshow(speedsHighFlow, aspect = \"auto\")\n",
    "matplotlib.pyplot.colorbar()\n",
    "matplotlib.pyplot.show()\n",
    "matplotlib.pyplot.imshow(flowsHighFlow, aspect = \"auto\")\n",
    "matplotlib.pyplot.colorbar()\n",
    "matplotlib.pyplot.show()"
   ]
  },
  {
   "cell_type": "code",
   "execution_count": 12,
   "metadata": {},
   "outputs": [
    {
     "name": "stderr",
     "output_type": "stream",
     "text": [
      "2017-12-11 10:44:21,042 Starting removeMissingDetectors()\n",
      "2017-12-11 10:44:21,042 Ending removeMissingDetectors()\n"
     ]
    }
   ],
   "source": [
    "speedsWorkingDetectors, flowsWorkingDetectors, maskWorkingDetectors = congestionfinder.speedflow.removeMissingDetectors(speeds, flows) ## Do something with Mask"
   ]
  },
  {
   "cell_type": "code",
   "execution_count": 13,
   "metadata": {},
   "outputs": [
    {
     "name": "stdout",
     "output_type": "stream",
     "text": [
      "(3, 3)\n",
      "(3, 3)\n",
      "1.0\n"
     ]
    },
    {
     "data": {
      "image/png": "[encoded data removed]",
      "text/plain": [
       "<matplotlib.figure.Figure at 0x22b72dba2b0>"
      ]
     },
     "metadata": {},
     "output_type": "display_data"
    },
    {
     "data": {
      "image/png": "[encoded data removed]",
      "text/plain": [
       "<matplotlib.figure.Figure at 0x22b72afb7f0>"
      ]
     },
     "metadata": {},
     "output_type": "display_data"
    }
   ],
   "source": [
    "print(speedsWorkingDetectors.shape)\n",
    "print(flowsWorkingDetectors.shape)\n",
    "print(sum(maskWorkingDetectors) / (sum(maskWorkingDetectors) + sum(~maskWorkingDetectors)))\n",
    "matplotlib.pyplot.imshow(speedsWorkingDetectors, aspect = \"auto\")\n",
    "matplotlib.pyplot.colorbar()\n",
    "matplotlib.pyplot.show()\n",
    "matplotlib.pyplot.imshow(flowsWorkingDetectors, aspect = \"auto\")\n",
    "matplotlib.pyplot.colorbar()\n",
    "matplotlib.pyplot.show()"
   ]
  },
  {
   "cell_type": "markdown",
   "metadata": {},
   "source": [
    "## Congestion"
   ]
  },
  {
   "cell_type": "code",
   "execution_count": 14,
   "metadata": {},
   "outputs": [
    {
     "name": "stderr",
     "output_type": "stream",
     "text": [
      "2017-12-11 10:44:21,573 Starting parseSpeedFlowsToCongestions()\n",
      "2017-12-11 10:44:21,573 Ending parseSpeedFlowsToCongestions()\n"
     ]
    }
   ],
   "source": [
    "congestions = congestionfinder.congestion.parseSpeedFlowsToCongestions(speedsWorkingDetectors, flowsWorkingDetectors)"
   ]
  },
  {
   "cell_type": "code",
   "execution_count": 15,
   "metadata": {},
   "outputs": [
    {
     "name": "stdout",
     "output_type": "stream",
     "text": [
      "(3, 3)\n"
     ]
    },
    {
     "data": {
      "image/png": "[encoded data removed]",
      "text/plain": [
       "<matplotlib.figure.Figure at 0x22b6fe05588>"
      ]
     },
     "metadata": {},
     "output_type": "display_data"
    }
   ],
   "source": [
    "print(congestions.shape)\n",
    "matplotlib.pyplot.imshow(congestions, aspect = \"auto\")\n",
    "matplotlib.pyplot.colorbar()\n",
    "matplotlib.pyplot.show()"
   ]
  },
  {
   "cell_type": "code",
   "execution_count": 16,
   "metadata": {},
   "outputs": [
    {
     "name": "stderr",
     "output_type": "stream",
     "text": [
      "2017-12-11 10:44:21,808 Starting interpolateMissingValues()\n",
      "2017-12-11 10:44:21,808 Ending interpolateMissingValues()\n"
     ]
    }
   ],
   "source": [
    "congestionsWithoutMissingValues = congestionfinder.congestion.interpolateMissingValues(congestions)"
   ]
  },
  {
   "cell_type": "code",
   "execution_count": 17,
   "metadata": {},
   "outputs": [
    {
     "name": "stdout",
     "output_type": "stream",
     "text": [
      "(3, 3)\n"
     ]
    },
    {
     "data": {
      "image/png": "[encoded data removed]",
      "text/plain": [
       "<matplotlib.figure.Figure at 0x22b72ce7c18>"
      ]
     },
     "metadata": {},
     "output_type": "display_data"
    }
   ],
   "source": [
    "print(congestionsWithoutMissingValues.shape)\n",
    "matplotlib.pyplot.imshow(congestionsWithoutMissingValues, aspect = \"auto\")\n",
    "matplotlib.pyplot.colorbar()\n",
    "matplotlib.pyplot.show()"
   ]
  },
  {
   "cell_type": "code",
   "execution_count": 18,
   "metadata": {},
   "outputs": [
    {
     "name": "stderr",
     "output_type": "stream",
     "text": [
      "2017-12-11 10:44:22,058 Starting applySmoothingFilter()\n",
      "2017-12-11 10:44:22,058 Ending applySmoothingFilter()\n"
     ]
    }
   ],
   "source": [
    "congestionsSmoothed = congestionfinder.congestion.applySmoothingFilter(congestionsWithoutMissingValues)"
   ]
  },
  {
   "cell_type": "code",
   "execution_count": 19,
   "metadata": {},
   "outputs": [
    {
     "name": "stdout",
     "output_type": "stream",
     "text": [
      "(3, 3)\n"
     ]
    },
    {
     "data": {
      "image/png": "[encoded data removed]",
      "text/plain": [
       "<matplotlib.figure.Figure at 0x22b72e36160>"
      ]
     },
     "metadata": {},
     "output_type": "display_data"
    }
   ],
   "source": [
    "print(congestionsSmoothed.shape)\n",
    "matplotlib.pyplot.imshow(congestionsSmoothed, aspect = \"auto\")\n",
    "matplotlib.pyplot.colorbar()\n",
    "matplotlib.pyplot.show()"
   ]
  },
  {
   "cell_type": "markdown",
   "metadata": {},
   "source": [
    "## Congestion Filter"
   ]
  },
  {
   "cell_type": "code",
   "execution_count": 39,
   "metadata": {},
   "outputs": [
    {
     "name": "stdout",
     "output_type": "stream",
     "text": [
      "[[False False False  True False False  True False False]\n",
      " [False False False False False False False False False]\n",
      " [ True False False False False False False False False]\n",
      " [False False False False False False  True False False]\n",
      " [False False False False False False False False  True]\n",
      " [False False False False False False False  True False]\n",
      " [False False False False False False False False False]\n",
      " [False False False False False False False False False]\n",
      " [False False False False False False False False False]\n",
      " [False False False False False False False False False]\n",
      " [False False False False False False False False False]\n",
      " [False False False False False False False False False]\n",
      " [False False False False False False False False False]\n",
      " [False False  True False False False False False False]\n",
      " [False False  True False False False False False False]\n",
      " [False False False False False False False False False]]\n"
     ]
    }
   ],
   "source": [
    "testDataArray = numpy.random.rand(16,9)\n",
    "testBooleanArray = testDataArray >= 0.9\n",
    "print(testBooleanArray)"
   ]
  },
  {
   "cell_type": "code",
   "execution_count": 40,
   "metadata": {},
   "outputs": [
    {
     "name": "stderr",
     "output_type": "stream",
     "text": [
      "2017-12-11 10:46:08,103 Starting patchFinder()\n",
      "2017-12-11 10:46:08,103 Direction: 0\n",
      "2017-12-11 10:46:08,103 Starting scanForBoundaries()\n",
      "2017-12-11 10:46:08,103 Found start: 0\n",
      "2017-12-11 10:46:08,103 Found stop: 0\n",
      "2017-12-11 10:46:08,103 Found start: 2\n",
      "2017-12-11 10:46:08,103 Found stop: 3\n",
      "2017-12-11 10:46:08,103 Found start: 6\n",
      "2017-12-11 10:46:08,119 Found stop at end.\n",
      "2017-12-11 10:46:08,119 Ending scanForBoundaries()\n",
      "2017-12-11 10:46:08,119 length: 3| parentLength: 0\n",
      "2017-12-11 10:46:08,119 Scanning children...\n",
      "2017-12-11 10:46:08,119 Child: 0\n",
      "2017-12-11 10:46:08,119   Starting patchFinder()\n",
      "2017-12-11 10:46:08,119   Direction: 1\n",
      "2017-12-11 10:46:08,119   Starting scanForBoundaries()\n",
      "2017-12-11 10:46:08,119   Found start: 2\n",
      "2017-12-11 10:46:08,119   Found stop: 2\n",
      "2017-12-11 10:46:08,119   Ending scanForBoundaries()\n",
      "2017-12-11 10:46:08,119   length: 1| parentLength: 3\n",
      "2017-12-11 10:46:08,135   Scanning children...\n",
      "2017-12-11 10:46:08,135   Child: 0\n",
      "2017-12-11 10:46:08,135     Starting patchFinder()\n",
      "2017-12-11 10:46:08,135     Direction: 0\n",
      "2017-12-11 10:46:08,135     Starting scanForBoundaries()\n",
      "2017-12-11 10:46:08,135     Length is one\n",
      "2017-12-11 10:46:08,135     Ending scanForBoundaries()\n",
      "2017-12-11 10:46:08,135     length: 1| parentLength: 1\n",
      "2017-12-11 10:46:08,135     Done: [2, 2, 0, 0]\n",
      "2017-12-11 10:46:08,135     Ending patchFinder()\n",
      "2017-12-11 10:46:08,150   Ending patchFinder()\n",
      "2017-12-11 10:46:08,150 Child: 1\n",
      "2017-12-11 10:46:08,150   Starting patchFinder()\n",
      "2017-12-11 10:46:08,150   Direction: 1\n",
      "2017-12-11 10:46:08,150   Starting scanForBoundaries()\n",
      "2017-12-11 10:46:08,150   Found start: 0\n",
      "2017-12-11 10:46:08,150   Found stop: 0\n",
      "2017-12-11 10:46:08,166   Found start: 13\n",
      "2017-12-11 10:46:08,166   Found stop: 14\n",
      "2017-12-11 10:46:08,166   Ending scanForBoundaries()\n",
      "2017-12-11 10:46:08,166   length: 2| parentLength: 3\n",
      "2017-12-11 10:46:08,166   Scanning children...\n",
      "2017-12-11 10:46:08,166   Child: 0\n",
      "2017-12-11 10:46:08,166     Starting patchFinder()\n",
      "2017-12-11 10:46:08,166     Direction: 0\n",
      "2017-12-11 10:46:08,181     Starting scanForBoundaries()\n",
      "2017-12-11 10:46:08,181     Found start: 1\n",
      "2017-12-11 10:46:08,181     Found stop at end.\n",
      "2017-12-11 10:46:08,181     Ending scanForBoundaries()\n",
      "2017-12-11 10:46:08,181     length: 1| parentLength: 2\n",
      "2017-12-11 10:46:08,181     Scanning children...\n",
      "2017-12-11 10:46:08,181     Child: 0\n",
      "2017-12-11 10:46:08,181       Starting patchFinder()\n",
      "2017-12-11 10:46:08,181       Direction: 1\n",
      "2017-12-11 10:46:08,181       Starting scanForBoundaries()\n",
      "2017-12-11 10:46:08,197       Length is one\n",
      "2017-12-11 10:46:08,197       Ending scanForBoundaries()\n",
      "2017-12-11 10:46:08,197       length: 1| parentLength: 1\n",
      "2017-12-11 10:46:08,197       Done: [0, 0, 3, 3]\n",
      "2017-12-11 10:46:08,197       Ending patchFinder()\n",
      "2017-12-11 10:46:08,197     Ending patchFinder()\n",
      "2017-12-11 10:46:08,197   Child: 1\n",
      "2017-12-11 10:46:08,213     Starting patchFinder()\n",
      "2017-12-11 10:46:08,213     Direction: 0\n",
      "2017-12-11 10:46:08,213     Starting scanForBoundaries()\n",
      "2017-12-11 10:46:08,213     Found start: 0\n",
      "2017-12-11 10:46:08,213     Found stop: 0\n",
      "2017-12-11 10:46:08,213     Ending scanForBoundaries()\n",
      "2017-12-11 10:46:08,213     length: 1| parentLength: 2\n",
      "2017-12-11 10:46:08,213     Scanning children...\n",
      "2017-12-11 10:46:08,213     Child: 0\n",
      "2017-12-11 10:46:08,228       Starting patchFinder()\n",
      "2017-12-11 10:46:08,228       Direction: 1\n",
      "2017-12-11 10:46:08,228       Starting scanForBoundaries()\n",
      "2017-12-11 10:46:08,228       Found start: 0\n",
      "2017-12-11 10:46:08,228       Found stop at end.\n",
      "2017-12-11 10:46:08,228       Ending scanForBoundaries()\n",
      "2017-12-11 10:46:08,228       length: 1| parentLength: 1\n",
      "2017-12-11 10:46:08,228       Done: [13, 14, 2, 2]\n",
      "2017-12-11 10:46:08,228       Ending patchFinder()\n",
      "2017-12-11 10:46:08,228     Ending patchFinder()\n",
      "2017-12-11 10:46:08,228   Ending patchFinder()\n",
      "2017-12-11 10:46:08,228 Child: 2\n",
      "2017-12-11 10:46:08,244   Starting patchFinder()\n",
      "2017-12-11 10:46:08,244   Direction: 1\n",
      "2017-12-11 10:46:08,244   Starting scanForBoundaries()\n",
      "2017-12-11 10:46:08,244   Found start: 0\n",
      "2017-12-11 10:46:08,244   Found stop: 0\n",
      "2017-12-11 10:46:08,244   Found start: 3\n",
      "2017-12-11 10:46:08,244   Found stop: 5\n",
      "2017-12-11 10:46:08,244   Ending scanForBoundaries()\n",
      "2017-12-11 10:46:08,244   length: 2| parentLength: 3\n",
      "2017-12-11 10:46:08,244   Scanning children...\n",
      "2017-12-11 10:46:08,244   Child: 0\n",
      "2017-12-11 10:46:08,260     Starting patchFinder()\n",
      "2017-12-11 10:46:08,260     Direction: 0\n",
      "2017-12-11 10:46:08,260     Starting scanForBoundaries()\n",
      "2017-12-11 10:46:08,260     Found start: 0\n",
      "2017-12-11 10:46:08,260     Found stop: 0\n",
      "2017-12-11 10:46:08,260     Ending scanForBoundaries()\n",
      "2017-12-11 10:46:08,260     length: 1| parentLength: 2\n",
      "2017-12-11 10:46:08,260     Scanning children...\n",
      "2017-12-11 10:46:08,260     Child: 0\n",
      "2017-12-11 10:46:08,260       Starting patchFinder()\n",
      "2017-12-11 10:46:08,275       Direction: 1\n",
      "2017-12-11 10:46:08,275       Starting scanForBoundaries()\n",
      "2017-12-11 10:46:08,275       Length is one\n",
      "2017-12-11 10:46:08,275       Ending scanForBoundaries()\n",
      "2017-12-11 10:46:08,275       length: 1| parentLength: 1\n",
      "2017-12-11 10:46:08,275       Done: [0, 0, 6, 6]\n",
      "2017-12-11 10:46:08,275       Ending patchFinder()\n",
      "2017-12-11 10:46:08,275     Ending patchFinder()\n",
      "2017-12-11 10:46:08,275   Child: 1\n",
      "2017-12-11 10:46:08,291     Starting patchFinder()\n",
      "2017-12-11 10:46:08,291     Direction: 0\n",
      "2017-12-11 10:46:08,291     Starting scanForBoundaries()\n",
      "2017-12-11 10:46:08,291     Found start: 0\n",
      "2017-12-11 10:46:08,291     Found stop at end.\n",
      "2017-12-11 10:46:08,291     Ending scanForBoundaries()\n",
      "2017-12-11 10:46:08,291     length: 1| parentLength: 2\n",
      "2017-12-11 10:46:08,291     Scanning children...\n",
      "2017-12-11 10:46:08,291     Child: 0\n",
      "2017-12-11 10:46:08,306       Starting patchFinder()\n",
      "2017-12-11 10:46:08,306       Direction: 1\n",
      "2017-12-11 10:46:08,306       Starting scanForBoundaries()\n",
      "2017-12-11 10:46:08,306       Found start: 0\n",
      "2017-12-11 10:46:08,306       Found stop at end.\n",
      "2017-12-11 10:46:08,306       Ending scanForBoundaries()\n",
      "2017-12-11 10:46:08,306       length: 1| parentLength: 1\n",
      "2017-12-11 10:46:08,306       Done: [3, 5, 6, 8]\n",
      "2017-12-11 10:46:08,322       Ending patchFinder()\n",
      "2017-12-11 10:46:08,322     Ending patchFinder()\n",
      "2017-12-11 10:46:08,322   Ending patchFinder()\n",
      "2017-12-11 10:46:08,322 Ending patchFinder()\n"
     ]
    }
   ],
   "source": [
    "patches = patchfinder.patches.Patches(testBooleanArray)"
   ]
  },
  {
   "cell_type": "code",
   "execution_count": 41,
   "metadata": {
    "collapsed": true
   },
   "outputs": [],
   "source": [
    "testBoundariesList = patches.getPatches()"
   ]
  },
  {
   "cell_type": "code",
   "execution_count": 42,
   "metadata": {},
   "outputs": [
    {
     "data": {
      "image/png": "[encoded data removed]",
      "text/plain": [
       "<matplotlib.figure.Figure at 0x22b72af51d0>"
      ]
     },
     "metadata": {},
     "output_type": "display_data"
    },
    {
     "data": {
      "image/png": "[encoded data removed]",
      "text/plain": [
       "<matplotlib.figure.Figure at 0x22b72cff7f0>"
      ]
     },
     "metadata": {},
     "output_type": "display_data"
    }
   ],
   "source": [
    "congestionfinder.congestion.plotCongestionsWithBoundaries(testDataArray, testBoundariesList)\n",
    "congestionfinder.congestion.plotCongestionsWithBoundaries(testBooleanArray, testBoundariesList)"
   ]
  },
  {
   "cell_type": "code",
   "execution_count": 43,
   "metadata": {},
   "outputs": [
    {
     "name": "stdout",
     "output_type": "stream",
     "text": [
      "[[2, 2, 0, 0], [0, 0, 3, 3], [13, 14, 2, 2], [0, 0, 6, 6], [3, 5, 6, 8]]\n"
     ]
    }
   ],
   "source": [
    "print(testBoundariesList)"
   ]
  },
  {
   "cell_type": "code",
   "execution_count": 44,
   "metadata": {},
   "outputs": [
    {
     "name": "stderr",
     "output_type": "stream",
     "text": [
      "2017-12-11 10:46:12,662 Starting filterLargeCongestions()\n",
      "2017-12-11 10:46:12,662 Ending filterLargeCongestions()\n"
     ]
    }
   ],
   "source": [
    "testBoundariesListFiltered = congestionfinder.congestion.filterLargeCongestions(testBoundariesList, 1)"
   ]
  },
  {
   "cell_type": "code",
   "execution_count": 49,
   "metadata": {},
   "outputs": [
    {
     "name": "stdout",
     "output_type": "stream",
     "text": [
      "[[0, 2, 1, 3]]\n"
     ]
    }
   ],
   "source": [
    "print(testBoundariesListFiltered)"
   ]
  },
  {
   "cell_type": "code",
   "execution_count": 50,
   "metadata": {},
   "outputs": [],
   "source": [
    "testBoundariesListWithMargins = congestionfinder.congestion.addMargins(testBoundariesListFiltered, minSpaceIndex, maxSpaceIndex, minTimeIndex, maxTimeIndex)"
   ]
  },
  {
   "cell_type": "code",
   "execution_count": 51,
   "metadata": {},
   "outputs": [
    {
     "name": "stdout",
     "output_type": "stream",
     "text": [
      "[[0, 2, 1, 3]]\n"
     ]
    }
   ],
   "source": [
    "print(congestionBoundariesListWithMargins)"
   ]
  },
  {
   "cell_type": "code",
   "execution_count": 48,
   "metadata": {},
   "outputs": [
    {
     "data": {
      "image/png": "[encoded data removed]",
      "text/plain": [
       "<matplotlib.figure.Figure at 0x22b72fc0f60>"
      ]
     },
     "metadata": {},
     "output_type": "display_data"
    },
    {
     "data": {
      "image/png": "[encoded data removed]",
      "text/plain": [
       "<matplotlib.figure.Figure at 0x22b72fc0b00>"
      ]
     },
     "metadata": {},
     "output_type": "display_data"
    }
   ],
   "source": [
    "congestionfinder.congestion.plotCongestionsWithBoundaries(testDataArray, testBoundariesListWithMargins)\n",
    "congestionfinder.congestion.plotCongestionsWithBoundaries(testBooleanArray, testBoundariesList)"
   ]
  },
  {
   "cell_type": "markdown",
   "metadata": {},
   "source": [
    "End of Notebook"
   ]
  }
 ],
 "metadata": {
  "kernelspec": {
   "display_name": "Python 3",
   "language": "python",
   "name": "python3"
  },
  "language_info": {
   "codemirror_mode": {
    "name": "ipython",
    "version": 3
   },
   "file_extension": ".py",
   "mimetype": "text/x-python",
   "name": "python",
   "nbconvert_exporter": "python",
   "pygments_lexer": "ipython3",
   "version": "3.6.1"
  }
 },
 "nbformat": 4,
 "nbformat_minor": 2
}
