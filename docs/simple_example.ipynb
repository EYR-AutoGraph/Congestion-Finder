{
 "cells": [
  {
   "cell_type": "markdown",
   "metadata": {},
   "source": [
    "# Title"
   ]
  },
  {
   "cell_type": "markdown",
   "metadata": {},
   "source": [
    "This Notebook..."
   ]
  },
  {
   "cell_type": "markdown",
   "metadata": {},
   "source": [
    "## Initialization"
   ]
  },
  {
   "cell_type": "markdown",
   "metadata": {},
   "source": [
    "### Imports"
   ]
  },
  {
   "cell_type": "code",
   "execution_count": null,
   "metadata": {
    "collapsed": true
   },
   "outputs": [],
   "source": [
    "import numpy\n",
    "import matplotlib.pyplot\n",
    "import re\n",
    "import ast\n",
    "\n",
    "import sys\n",
    "sys.path.append(\"../\")\n",
    "import congestionfinder\n",
    "import congestionfinder.bpsdetector\n",
    "import congestionfinder.road\n",
    "import congestionfinder.detection\n",
    "import congestionfinder.speedflow\n",
    "import congestionfinder.congestion\n",
    "import patchfinder.patch"
   ]
  },
  {
   "cell_type": "code",
   "execution_count": null,
   "metadata": {},
   "outputs": [],
   "source": [
    "import logging\n",
    "import io\n",
    "logger = logging.getLogger()\n",
    "logger.setLevel(logging.DEBUG)\n",
    "formatter = logging.Formatter('%(asctime)s - %(levelname)s - %(message)s')\n",
    "consoleHandler = logging.StreamHandler()\n",
    "consoleHandler.setFormatter(formatter)\n",
    "logger.addHandler(consoleHandler)\n",
    "\n",
    "class PlotFilter(logging.Filter):\n",
    "    def filter(self, record):\n",
    "        return \"Found patches:\" in record.getMessage()\n",
    "\n",
    "log_capture_string = io.StringIO()\n",
    "variableHandler = logging.StreamHandler(log_capture_string)\n",
    "variableHandler.addFilter(PlotFilter())\n",
    "logger.addHandler(variableHandler)"
   ]
  },
  {
   "cell_type": "markdown",
   "metadata": {},
   "source": [
    "## Classes"
   ]
  },
  {
   "cell_type": "code",
   "execution_count": null,
   "metadata": {},
   "outputs": [],
   "source": [
    "bpsDetector = congestionfinder.bpsdetector.BPSDetector(\"00D00C03405B18200005\")\n",
    "print(bpsDetector)"
   ]
  },
  {
   "cell_type": "code",
   "execution_count": null,
   "metadata": {},
   "outputs": [],
   "source": [
    "road = congestionfinder.road.Road(12)\n",
    "road.addBPSDetector(bpsDetector)\n",
    "print(road)\n",
    "road.indexDetectorSpaces()\n",
    "print(road.getSpaceToSpaceIndex())"
   ]
  },
  {
   "cell_type": "code",
   "execution_count": null,
   "metadata": {},
   "outputs": [],
   "source": [
    "detection = congestionfinder.detection.Detection(\"00D00C03405B18200005\", 1234, 1440, 120, 17)\n",
    "print(detection)"
   ]
  },
  {
   "cell_type": "markdown",
   "metadata": {},
   "source": [
    "## Roads"
   ]
  },
  {
   "cell_type": "code",
   "execution_count": null,
   "metadata": {},
   "outputs": [],
   "source": [
    "roads = congestionfinder.road.parseBPSCodesToRoads([\"10D00204D037D007000B\", \"10D002051800D0070013\", \"10D002057000D007000F\"])\n",
    "for value in roads.values():\n",
    "    value.indexDetectorSpaces()"
   ]
  },
  {
   "cell_type": "code",
   "execution_count": null,
   "metadata": {},
   "outputs": [],
   "source": [
    "for value in sorted(roads.values(), key = lambda x:len(x.getBPSDetectors())):\n",
    "    print(value)"
   ]
  },
  {
   "cell_type": "markdown",
   "metadata": {},
   "source": [
    "## Speed and Flows"
   ]
  },
  {
   "cell_type": "code",
   "execution_count": null,
   "metadata": {
    "collapsed": true
   },
   "outputs": [],
   "source": [
    "detections = []\n",
    "detections.append(congestionfinder.detection.Detection(\"10D00204D037D007000B\", 30855, 1, 80, 17))\n",
    "detections.append(congestionfinder.detection.Detection(\"10D00204D037D007000B\", 30855, 2, 70, 16))\n",
    "detections.append(congestionfinder.detection.Detection(\"10D00204D037D007000B\", 30855, 3, 75, 17))\n",
    "detections.append(congestionfinder.detection.Detection(\"10D002051800D0070013\", 32600, 1, 40, 10))\n",
    "detections.append(congestionfinder.detection.Detection(\"10D002051800D0070013\", 32600, 2, 55, 18))\n",
    "detections.append(congestionfinder.detection.Detection(\"10D002051800D0070013\", 32600, 3, 35, 12))\n",
    "detections.append(congestionfinder.detection.Detection(\"10D002057000D007000F\", 34800, 1, 70, 19))\n",
    "detections.append(congestionfinder.detection.Detection(\"10D002057000D007000F\", 34800, 2, 85, 14))\n",
    "detections.append(congestionfinder.detection.Detection(\"10D002057000D007000F\", 34800, 3, 100, 19))"
   ]
  },
  {
   "cell_type": "code",
   "execution_count": null,
   "metadata": {},
   "outputs": [],
   "source": [
    "speeds, flows, minSpaceIndex, maxSpaceIndex, minTimeIndex, maxTimeIndex = congestionfinder.speedflow.parseDetectionsToSpeedsAndFlows(detections, roads[2])"
   ]
  },
  {
   "cell_type": "code",
   "execution_count": null,
   "metadata": {},
   "outputs": [],
   "source": [
    "print(speeds.shape)\n",
    "print(flows.shape)\n",
    "print(minSpaceIndex)\n",
    "print(maxSpaceIndex)\n",
    "print(minTimeIndex)\n",
    "print(maxTimeIndex)\n",
    "matplotlib.pyplot.imshow(speeds, aspect = \"auto\")\n",
    "matplotlib.pyplot.colorbar()\n",
    "matplotlib.pyplot.show()\n",
    "matplotlib.pyplot.imshow(flows, aspect = \"auto\")\n",
    "matplotlib.pyplot.colorbar()\n",
    "matplotlib.pyplot.show()"
   ]
  },
  {
   "cell_type": "code",
   "execution_count": null,
   "metadata": {},
   "outputs": [],
   "source": [
    "speedsHighFlow, flowsHighFlow, maskHighFlow = congestionfinder.speedflow.removeLowFlowTimes(speeds, flows) ## Do something with Mask"
   ]
  },
  {
   "cell_type": "code",
   "execution_count": null,
   "metadata": {},
   "outputs": [],
   "source": [
    "print(speedsHighFlow.shape)\n",
    "print(flowsHighFlow.shape)\n",
    "print(sum(maskHighFlow) / (sum(maskHighFlow) + sum(~maskHighFlow)))\n",
    "matplotlib.pyplot.imshow(speedsHighFlow, aspect = \"auto\")\n",
    "matplotlib.pyplot.colorbar()\n",
    "matplotlib.pyplot.show()\n",
    "matplotlib.pyplot.imshow(flowsHighFlow, aspect = \"auto\")\n",
    "matplotlib.pyplot.colorbar()\n",
    "matplotlib.pyplot.show()"
   ]
  },
  {
   "cell_type": "code",
   "execution_count": null,
   "metadata": {},
   "outputs": [],
   "source": [
    "speedsWorkingDetectors, flowsWorkingDetectors, maskWorkingDetectors = congestionfinder.speedflow.removeMissingDetectors(speeds, flows) ## Do something with Mask"
   ]
  },
  {
   "cell_type": "code",
   "execution_count": null,
   "metadata": {},
   "outputs": [],
   "source": [
    "print(speedsWorkingDetectors.shape)\n",
    "print(flowsWorkingDetectors.shape)\n",
    "print(sum(maskWorkingDetectors) / (sum(maskWorkingDetectors) + sum(~maskWorkingDetectors)))\n",
    "matplotlib.pyplot.imshow(speedsWorkingDetectors, aspect = \"auto\")\n",
    "matplotlib.pyplot.colorbar()\n",
    "matplotlib.pyplot.show()\n",
    "matplotlib.pyplot.imshow(flowsWorkingDetectors, aspect = \"auto\")\n",
    "matplotlib.pyplot.colorbar()\n",
    "matplotlib.pyplot.show()"
   ]
  },
  {
   "cell_type": "markdown",
   "metadata": {},
   "source": [
    "## Congestion"
   ]
  },
  {
   "cell_type": "code",
   "execution_count": null,
   "metadata": {},
   "outputs": [],
   "source": [
    "speedThreshold = 65\n",
    "flowThreshold = 40\n",
    "congestions = congestionfinder.congestion.parseSpeedFlowsToCongestions(speedsWorkingDetectors, flowsWorkingDetectors, speedThreshold, flowThreshold)"
   ]
  },
  {
   "cell_type": "code",
   "execution_count": null,
   "metadata": {},
   "outputs": [],
   "source": [
    "print(congestions.shape)\n",
    "matplotlib.pyplot.imshow(congestions, aspect = \"auto\")\n",
    "matplotlib.pyplot.colorbar()\n",
    "matplotlib.pyplot.show()"
   ]
  },
  {
   "cell_type": "code",
   "execution_count": null,
   "metadata": {},
   "outputs": [],
   "source": [
    "congestions[1, 1] = numpy.nan\n",
    "congestionsWithoutMissingValues = congestionfinder.congestion.interpolateMissingValues(congestions)"
   ]
  },
  {
   "cell_type": "code",
   "execution_count": null,
   "metadata": {},
   "outputs": [],
   "source": [
    "print(congestionsWithoutMissingValues.shape)\n",
    "matplotlib.pyplot.imshow(congestionsWithoutMissingValues, aspect = \"auto\")\n",
    "matplotlib.pyplot.colorbar()\n",
    "matplotlib.pyplot.show()"
   ]
  },
  {
   "cell_type": "code",
   "execution_count": null,
   "metadata": {},
   "outputs": [],
   "source": [
    "spaceSmoothing = 1\n",
    "timeSmoothing = 2\n",
    "congestionsSmoothed = congestionfinder.congestion.applySmoothingFilter(congestionsWithoutMissingValues, spaceSmoothing, timeSmoothing)"
   ]
  },
  {
   "cell_type": "code",
   "execution_count": null,
   "metadata": {},
   "outputs": [],
   "source": [
    "print(congestionsSmoothed.shape)\n",
    "matplotlib.pyplot.imshow(congestionsSmoothed, aspect = \"auto\")\n",
    "matplotlib.pyplot.colorbar()\n",
    "matplotlib.pyplot.show()"
   ]
  },
  {
   "cell_type": "markdown",
   "metadata": {},
   "source": [
    "## Congestion Filter"
   ]
  },
  {
   "cell_type": "code",
   "execution_count": null,
   "metadata": {},
   "outputs": [],
   "source": [
    "testDataArray = numpy.random.rand(16,9)\n",
    "testBooleanArray = testDataArray >= 0.9\n",
    "print(testBooleanArray)"
   ]
  },
  {
   "cell_type": "code",
   "execution_count": null,
   "metadata": {},
   "outputs": [],
   "source": [
    "patches = patchfinder.patch.findPatches(testBooleanArray)"
   ]
  },
  {
   "cell_type": "code",
   "execution_count": null,
   "metadata": {},
   "outputs": [],
   "source": [
    "matches = re.findall(\"\\[\\d*, \\d*, \\d*, \\d*\\]\", log_capture_string.getvalue())\n",
    "for match in matches:\n",
    "    array = ast.literal_eval(match)\n",
    "    patch = patchfinder.patch.Patch(array[0], array[1], array[2], array[3])\n",
    "    congestionfinder.congestion.plotCongestionsWithPatches(testBooleanArray, [patch])"
   ]
  },
  {
   "cell_type": "code",
   "execution_count": null,
   "metadata": {},
   "outputs": [],
   "source": [
    "for patch in patches:\n",
    "    print(patch)"
   ]
  },
  {
   "cell_type": "code",
   "execution_count": null,
   "metadata": {},
   "outputs": [],
   "source": [
    "congestionfinder.congestion.plotCongestionsWithPatches(testDataArray, patches)\n",
    "congestionfinder.congestion.plotCongestionsWithPatches(testBooleanArray, patches)"
   ]
  },
  {
   "cell_type": "code",
   "execution_count": null,
   "metadata": {},
   "outputs": [],
   "source": [
    "patchesFiltered = congestionfinder.congestion.filterLargeCongestions(patches, 1)"
   ]
  },
  {
   "cell_type": "code",
   "execution_count": null,
   "metadata": {},
   "outputs": [],
   "source": [
    "for patch in patchesFiltered:\n",
    "    print(patch)"
   ]
  },
  {
   "cell_type": "code",
   "execution_count": null,
   "metadata": {
    "collapsed": true
   },
   "outputs": [],
   "source": [
    "marginSpace = 1\n",
    "marginTime = 1\n",
    "patchesWithMargins = congestionfinder.congestion.addMargins(patchesFiltered, marginSpace, marginTime, minSpaceIndex, maxSpaceIndex, minTimeIndex, maxTimeIndex)"
   ]
  },
  {
   "cell_type": "code",
   "execution_count": null,
   "metadata": {},
   "outputs": [],
   "source": [
    "for patch in patchesWithMargins:\n",
    "    print(patch)"
   ]
  },
  {
   "cell_type": "code",
   "execution_count": null,
   "metadata": {},
   "outputs": [],
   "source": [
    "congestionfinder.congestion.plotCongestionsWithPatches(testDataArray, patchesWithMargins)\n",
    "congestionfinder.congestion.plotCongestionsWithPatches(testBooleanArray, patches)"
   ]
  },
  {
   "cell_type": "markdown",
   "metadata": {},
   "source": [
    "End of Notebook"
   ]
  }
 ],
 "metadata": {
  "kernelspec": {
   "display_name": "Python 3",
   "language": "python",
   "name": "python3"
  },
  "language_info": {
   "codemirror_mode": {
    "name": "ipython",
    "version": 3
   },
   "file_extension": ".py",
   "mimetype": "text/x-python",
   "name": "python",
   "nbconvert_exporter": "python",
   "pygments_lexer": "ipython3",
   "version": "3.6.1"
  }
 },
 "nbformat": 4,
 "nbformat_minor": 2
}
