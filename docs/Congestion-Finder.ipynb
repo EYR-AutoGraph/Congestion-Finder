{
 "cells": [
  {
   "cell_type": "markdown",
   "metadata": {},
   "source": [
    "# Title"
   ]
  },
  {
   "cell_type": "markdown",
   "metadata": {},
   "source": [
    "This Notebook..."
   ]
  },
  {
   "cell_type": "markdown",
   "metadata": {},
   "source": [
    "## Initialization"
   ]
  },
  {
   "cell_type": "markdown",
   "metadata": {},
   "source": [
    "### Properties"
   ]
  },
  {
   "cell_type": "code",
   "execution_count": null,
   "metadata": {
    "collapsed": true
   },
   "outputs": [],
   "source": [
    "debugMode = True;\n",
    "\n",
    "date = \"20171120\"\n",
    "roadNumber = 2\n",
    "roadsFileName = \"../tests/data/BPS_20171120.txt\"\n",
    "detectionsFileName = \"../tests/data/A2_20171120.txt\"\n",
    "outputDirectory = \"../tests/data\""
   ]
  },
  {
   "cell_type": "markdown",
   "metadata": {},
   "source": [
    "### Imports"
   ]
  },
  {
   "cell_type": "code",
   "execution_count": null,
   "metadata": {
    "collapsed": true
   },
   "outputs": [],
   "source": [
    "import datetime\n",
    "import time as timeModule\n",
    "import numpy\n",
    "import scipy\n",
    "import scipy.ndimage\n",
    "import scipy.ndimage.filters\n",
    "import matplotlib.pyplot\n",
    "import matplotlib.patches"
   ]
  },
  {
   "cell_type": "code",
   "execution_count": null,
   "metadata": {
    "collapsed": true
   },
   "outputs": [],
   "source": [
    "import sys\n",
    "sys.path.append(\"../scripts\")\n",
    "import bpsdetector\n",
    "import detection\n",
    "import road\n",
    "import readfunctions\n",
    "import parsefunctions\n",
    "import utils"
   ]
  },
  {
   "cell_type": "markdown",
   "metadata": {},
   "source": [
    "## Classes"
   ]
  },
  {
   "cell_type": "code",
   "execution_count": null,
   "metadata": {},
   "outputs": [],
   "source": [
    "bpsDetector = bpsdetector.BPSDetector(\"00D00C03405B18200005\")\n",
    "print(bpsDetector)"
   ]
  },
  {
   "cell_type": "code",
   "execution_count": null,
   "metadata": {},
   "outputs": [],
   "source": [
    "road = road.Road(12)\n",
    "road.addBPSDetector(bpsDetector)\n",
    "print(road)\n",
    "road.indexDetectorSpaces()\n",
    "print(road.getSpaceToSpaceIndex())"
   ]
  },
  {
   "cell_type": "code",
   "execution_count": null,
   "metadata": {},
   "outputs": [],
   "source": [
    "detection = detection.Detection(\"00D00C03405B18200005\", 1234, 1440, 120, 17)\n",
    "print(detection)"
   ]
  },
  {
   "cell_type": "markdown",
   "metadata": {},
   "source": [
    "## Roads"
   ]
  },
  {
   "cell_type": "code",
   "execution_count": null,
   "metadata": {},
   "outputs": [],
   "source": [
    "bpsCodes = readfunctions.readCSVToBPSCodes(roadsFileName)"
   ]
  },
  {
   "cell_type": "code",
   "execution_count": null,
   "metadata": {},
   "outputs": [],
   "source": [
    "for bpsCode in bpsCodes:\n",
    "    print(bpsCode)"
   ]
  },
  {
   "cell_type": "code",
   "execution_count": null,
   "metadata": {},
   "outputs": [],
   "source": [
    "roads = parsefunctions.parseBPSCodesToRoads(bpsCodes)"
   ]
  },
  {
   "cell_type": "code",
   "execution_count": null,
   "metadata": {},
   "outputs": [],
   "source": [
    "for value in sorted(roads.values(), key = lambda x:len(x.getBPSDetectors())):\n",
    "    print(value)"
   ]
  },
  {
   "cell_type": "markdown",
   "metadata": {},
   "source": [
    "## Speed and Flows"
   ]
  },
  {
   "cell_type": "code",
   "execution_count": null,
   "metadata": {
    "collapsed": true
   },
   "outputs": [],
   "source": [
    "detections = readCSVToDetections(detectionsFileName)"
   ]
  },
  {
   "cell_type": "code",
   "execution_count": null,
   "metadata": {
    "collapsed": true
   },
   "outputs": [],
   "source": [
    "iterator = iter(detections)\n",
    "for i in range(min(len(detections), 300)):\n",
    "    detection = next(iterator)\n",
    "    print(detection)"
   ]
  },
  {
   "cell_type": "code",
   "execution_count": null,
   "metadata": {
    "collapsed": true
   },
   "outputs": [],
   "source": [
    "speeds, flows, minSpaceIndex, maxSpaceIndex, minTimeIndex, maxTimeIndex = parseDetectionsToSpeedsAndFlows(detections, roads[roadNumber])"
   ]
  },
  {
   "cell_type": "code",
   "execution_count": null,
   "metadata": {
    "collapsed": true
   },
   "outputs": [],
   "source": [
    "print(speeds.shape)\n",
    "print(flows.shape)\n",
    "print(minSpaceIndex)\n",
    "print(maxSpaceIndex)\n",
    "print(minTimeIndex)\n",
    "print(maxTimeIndex)\n",
    "matplotlib.pyplot.imshow(speeds, aspect = \"auto\")\n",
    "matplotlib.pyplot.colorbar()\n",
    "matplotlib.pyplot.show()\n",
    "matplotlib.pyplot.imshow(flows, aspect = \"auto\")\n",
    "matplotlib.pyplot.colorbar()\n",
    "matplotlib.pyplot.show()"
   ]
  },
  {
   "cell_type": "code",
   "execution_count": null,
   "metadata": {
    "collapsed": true
   },
   "outputs": [],
   "source": [
    "speedsHighFlow, flowsHighFlow, maskHighFlow = removeLowFlowTimes(speeds, flows) ## Do something with Mask"
   ]
  },
  {
   "cell_type": "code",
   "execution_count": null,
   "metadata": {
    "collapsed": true
   },
   "outputs": [],
   "source": [
    "print(speedsHighFlow.shape)\n",
    "print(flowsHighFlow.shape)\n",
    "print(sum(maskHighFlow) / (sum(maskHighFlow) + sum(~maskHighFlow)))\n",
    "matplotlib.pyplot.imshow(speedsHighFlow, aspect = \"auto\")\n",
    "matplotlib.pyplot.colorbar()\n",
    "matplotlib.pyplot.show()\n",
    "matplotlib.pyplot.imshow(flowsHighFlow, aspect = \"auto\")\n",
    "matplotlib.pyplot.colorbar()\n",
    "matplotlib.pyplot.show()"
   ]
  },
  {
   "cell_type": "code",
   "execution_count": null,
   "metadata": {
    "collapsed": true
   },
   "outputs": [],
   "source": [
    "speedsWorkingDetectors, flowsWorkingDetectors, maskWorkingDetectors = removeMissingDetectors(speeds, flows) ## Do something with Mask"
   ]
  },
  {
   "cell_type": "code",
   "execution_count": null,
   "metadata": {
    "collapsed": true
   },
   "outputs": [],
   "source": [
    "print(speedsWorkingDetectors.shape)\n",
    "print(flowsWorkingDetectors.shape)\n",
    "print(sum(maskWorkingDetectors) / (sum(maskWorkingDetectors) + sum(~maskWorkingDetectors)))\n",
    "matplotlib.pyplot.imshow(speedsWorkingDetectors, aspect = \"auto\")\n",
    "matplotlib.pyplot.colorbar()\n",
    "matplotlib.pyplot.show()\n",
    "matplotlib.pyplot.imshow(flowsWorkingDetectors, aspect = \"auto\")\n",
    "matplotlib.pyplot.colorbar()\n",
    "matplotlib.pyplot.show()"
   ]
  },
  {
   "cell_type": "markdown",
   "metadata": {},
   "source": [
    "## Congestion"
   ]
  },
  {
   "cell_type": "code",
   "execution_count": null,
   "metadata": {
    "collapsed": true
   },
   "outputs": [],
   "source": [
    "congestions = parseSpeedFlowsToCongestions(speedsWorkingDetectors, flowsWorkingDetectors)"
   ]
  },
  {
   "cell_type": "code",
   "execution_count": null,
   "metadata": {
    "collapsed": true
   },
   "outputs": [],
   "source": [
    "print(congestions.shape)\n",
    "matplotlib.pyplot.imshow(congestions, aspect = \"auto\")\n",
    "matplotlib.pyplot.colorbar()\n",
    "matplotlib.pyplot.show()"
   ]
  },
  {
   "cell_type": "code",
   "execution_count": null,
   "metadata": {
    "collapsed": true
   },
   "outputs": [],
   "source": [
    "congestionsWithoutMissingValues = interpolateMissingValues(congestions)"
   ]
  },
  {
   "cell_type": "code",
   "execution_count": null,
   "metadata": {
    "collapsed": true
   },
   "outputs": [],
   "source": [
    "print(congestionsWithoutMissingValues.shape)\n",
    "matplotlib.pyplot.imshow(congestionsWithoutMissingValues, aspect = \"auto\")\n",
    "matplotlib.pyplot.colorbar()\n",
    "matplotlib.pyplot.show()"
   ]
  },
  {
   "cell_type": "code",
   "execution_count": null,
   "metadata": {
    "collapsed": true
   },
   "outputs": [],
   "source": [
    "congestionsSmoothed = applySmoothingFilter(congestionsWithoutMissingValues)"
   ]
  },
  {
   "cell_type": "code",
   "execution_count": null,
   "metadata": {
    "collapsed": true
   },
   "outputs": [],
   "source": [
    "print(congestionsSmoothed.shape)\n",
    "matplotlib.pyplot.imshow(congestionsSmoothed, aspect = \"auto\")\n",
    "matplotlib.pyplot.colorbar()\n",
    "matplotlib.pyplot.show()"
   ]
  },
  {
   "cell_type": "markdown",
   "metadata": {},
   "source": [
    "## Congestion Filter"
   ]
  },
  {
   "cell_type": "code",
   "execution_count": null,
   "metadata": {
    "collapsed": true
   },
   "outputs": [],
   "source": [
    "testDataArray = numpy.random.rand(16,9)\n",
    "print(testDataArray >= 0.9)"
   ]
  },
  {
   "cell_type": "code",
   "execution_count": null,
   "metadata": {
    "collapsed": true
   },
   "outputs": [],
   "source": [
    "scanForBoundaries(testDataArray, threshold = 0.1, depth = 0)"
   ]
  },
  {
   "cell_type": "code",
   "execution_count": null,
   "metadata": {
    "collapsed": true
   },
   "outputs": [],
   "source": [
    "testBoundariesList = recursiveScanForBoundaries(testDataArray, threshold = 0.1)"
   ]
  },
  {
   "cell_type": "code",
   "execution_count": null,
   "metadata": {
    "collapsed": true
   },
   "outputs": [],
   "source": [
    "testBoundariesList"
   ]
  },
  {
   "cell_type": "code",
   "execution_count": null,
   "metadata": {
    "collapsed": true
   },
   "outputs": [],
   "source": [
    "showDataWithBoundaries(testDataArray, testBoundariesList)\n",
    "showDataWithBoundaries(testDataArray < 0.1, testBoundariesList)"
   ]
  },
  {
   "cell_type": "code",
   "execution_count": null,
   "metadata": {
    "collapsed": true
   },
   "outputs": [],
   "source": [
    "debugMode = False;"
   ]
  },
  {
   "cell_type": "code",
   "execution_count": null,
   "metadata": {
    "collapsed": true
   },
   "outputs": [],
   "source": [
    "congestionBoundariesList = recursiveScanForBoundaries(congestionsSmoothed)"
   ]
  },
  {
   "cell_type": "code",
   "execution_count": null,
   "metadata": {
    "collapsed": true
   },
   "outputs": [],
   "source": [
    "print(congestionBoundariesList)"
   ]
  },
  {
   "cell_type": "code",
   "execution_count": null,
   "metadata": {
    "collapsed": true
   },
   "outputs": [],
   "source": [
    "congestionBoundariesListFiltered = filterLargeCongestions(congestionBoundariesList)"
   ]
  },
  {
   "cell_type": "code",
   "execution_count": null,
   "metadata": {
    "collapsed": true
   },
   "outputs": [],
   "source": [
    "print(congestionBoundariesListFiltered)"
   ]
  },
  {
   "cell_type": "code",
   "execution_count": null,
   "metadata": {
    "collapsed": true
   },
   "outputs": [],
   "source": [
    "congestionBoundariesListWithMargins = addMargins(congestionBoundariesListFiltered)"
   ]
  },
  {
   "cell_type": "code",
   "execution_count": null,
   "metadata": {
    "collapsed": true
   },
   "outputs": [],
   "source": [
    "print(congestionBoundariesListWithMargins)"
   ]
  },
  {
   "cell_type": "code",
   "execution_count": null,
   "metadata": {
    "collapsed": true
   },
   "outputs": [],
   "source": [
    "showDataWithBoundaries(congestionsSmoothed, congestionBoundariesListWithMargins)\n",
    "showDataWithBoundaries(congestionsSmoothed < 1, congestionBoundariesList)"
   ]
  },
  {
   "cell_type": "code",
   "execution_count": null,
   "metadata": {
    "collapsed": true
   },
   "outputs": [],
   "source": [
    "showDataWithBoundaries(speeds, congestionBoundariesListWithMargins)"
   ]
  },
  {
   "cell_type": "code",
   "execution_count": null,
   "metadata": {
    "collapsed": true
   },
   "outputs": [],
   "source": [
    "writeSpeedsAndFlowsToCSV(speeds, flows, congestionBoundariesListWithMargins, outputDirectory)"
   ]
  },
  {
   "cell_type": "markdown",
   "metadata": {},
   "source": [
    "End of Notebook"
   ]
  }
 ],
 "metadata": {
  "kernelspec": {
   "display_name": "Python 3",
   "language": "python",
   "name": "python3"
  },
  "language_info": {
   "codemirror_mode": {
    "name": "ipython",
    "version": 3
   },
   "file_extension": ".py",
   "mimetype": "text/x-python",
   "name": "python",
   "nbconvert_exporter": "python",
   "pygments_lexer": "ipython3",
   "version": "3.6.1"
  }
 },
 "nbformat": 4,
 "nbformat_minor": 2
}
