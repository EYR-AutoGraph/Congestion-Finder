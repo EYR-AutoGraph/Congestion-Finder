{
 "cells": [
  {
   "cell_type": "markdown",
   "metadata": {},
   "source": [
    "# Title"
   ]
  },
  {
   "cell_type": "markdown",
   "metadata": {},
   "source": [
    "This Notebook..."
   ]
  },
  {
   "cell_type": "markdown",
   "metadata": {},
   "source": [
    "## Initialization"
   ]
  },
  {
   "cell_type": "markdown",
   "metadata": {},
   "source": [
    "### Properties"
   ]
  },
  {
   "cell_type": "code",
   "execution_count": null,
   "metadata": {
    "collapsed": true
   },
   "outputs": [],
   "source": [
    "date = \"20171120\"\n",
    "roadNumber = 2\n",
    "roadsFileName = \"Test_Data\\BPS_20171120.txt\"\n",
    "detectionsFileName = \"Test_Data\\A2_20171120.txt\"\n",
    "outputDirectory = \"Test_Data\""
   ]
  },
  {
   "cell_type": "markdown",
   "metadata": {},
   "source": [
    "### Imports"
   ]
  },
  {
   "cell_type": "code",
   "execution_count": null,
   "metadata": {
    "collapsed": true
   },
   "outputs": [],
   "source": [
    "import sys\n",
    "import datetime\n",
    "import csv\n",
    "import time as timeModule\n",
    "import numpy\n",
    "import scipy\n",
    "import scipy.ndimage\n",
    "import scipy.ndimage.filters\n",
    "import matplotlib.pyplot\n",
    "import matplotlib.patches"
   ]
  },
  {
   "cell_type": "markdown",
   "metadata": {},
   "source": [
    "### Helper Functions"
   ]
  },
  {
   "cell_type": "code",
   "execution_count": null,
   "metadata": {
    "collapsed": true
   },
   "outputs": [],
   "source": [
    "debugMode = True;"
   ]
  },
  {
   "cell_type": "code",
   "execution_count": null,
   "metadata": {
    "collapsed": true
   },
   "outputs": [],
   "source": [
    "def dprint(objectToPrint, depth = 0):\n",
    "    indent = \"  \" * depth\n",
    "    if (debugMode):\n",
    "        print(indent + str(datetime.datetime.now().strftime(\"%Y-%m-%d %H:%M:%S\")) + \" | \" + str(objectToPrint))"
   ]
  },
  {
   "cell_type": "code",
   "execution_count": null,
   "metadata": {
    "collapsed": true
   },
   "outputs": [],
   "source": [
    "def progressBar(message, value, endvalue, bar_length = 20):\n",
    "    if debugMode:\n",
    "        percent = float(value) / endvalue\n",
    "        arrow = '-' * int(round(percent * bar_length)-1) + '>'\n",
    "        spaces = ' ' * (bar_length - len(arrow))\n",
    "        sys.stdout.write(\"\\r\" \n",
    "                         + str(datetime.datetime.now().strftime(\"%Y-%m-%d %H:%M:%S\")) \n",
    "                         + \" | \" \n",
    "                         + message \n",
    "                         + \": [{0}] {1}%\".format(arrow + spaces, int(round(percent * 100))))\n",
    "        if value == endvalue:\n",
    "            sys.stdout.write(\"\\n\")\n",
    "        sys.stdout.flush()"
   ]
  },
  {
   "cell_type": "code",
   "execution_count": null,
   "metadata": {
    "collapsed": true
   },
   "outputs": [],
   "source": [
    "def extractAttribute(bpsCode, startBit, endBit):\n",
    "    return int(bpsCode, 16) >> (80 - endBit) & int(\"1\" * (endBit - startBit), 2)"
   ]
  },
  {
   "cell_type": "code",
   "execution_count": null,
   "metadata": {
    "scrolled": true
   },
   "outputs": [],
   "source": [
    "print(extractAttribute(\"00D00C03405B18200005\", 14, 24))\n",
    "print(extractAttribute(\"00D00C03405B18200005\", 24, 38))"
   ]
  },
  {
   "cell_type": "markdown",
   "metadata": {},
   "source": [
    "## Classes"
   ]
  },
  {
   "cell_type": "code",
   "execution_count": null,
   "metadata": {
    "collapsed": true
   },
   "outputs": [],
   "source": [
    "class BPSDetector:\n",
    "    bpsCode = None\n",
    "    roadNumber = None\n",
    "    hectometer = None\n",
    "    additionalMeters = None\n",
    "    def __init__(self, bpsCode):\n",
    "        self.bpsCode = bpsCode\n",
    "        self.roadNumber = extractAttribute(bpsCode, 14, 24)\n",
    "        self.hectometer = extractAttribute(bpsCode, 24, 38)\n",
    "        self.additionalMeters = extractAttribute(bpsCode, 38, 48)\n",
    "    def getBPSCoder(self):\n",
    "        return self.bpsCode\n",
    "    def getRoadNumber(self):\n",
    "        return self.roadNumber\n",
    "    def getHectometer(self):\n",
    "        return self.hectometer\n",
    "    def getAdditionalMeters(self):\n",
    "        return self.additionalMeters\n",
    "    def getMeter(self):\n",
    "        return 100 * self.hectometer + self.additionalMeters\n",
    "    def __str__(self):\n",
    "        return \"bpsCode: {} | roadNumber: {} | hectometer: {} | additionalMeters: {}\".format(self.bpsCode, self.roadNumber, self.hectometer, self.additionalMeters)"
   ]
  },
  {
   "cell_type": "code",
   "execution_count": null,
   "metadata": {},
   "outputs": [],
   "source": [
    "bpsDetector = BPSDetector(\"00D00C03405B18200005\")\n",
    "print(bpsDetector)"
   ]
  },
  {
   "cell_type": "code",
   "execution_count": null,
   "metadata": {
    "collapsed": true
   },
   "outputs": [],
   "source": [
    "class Road:\n",
    "    roadNumber = None\n",
    "    bpsDetectors = None\n",
    "    spaceToSpaceIndex = None\n",
    "    def __init__(self, roadNumber):\n",
    "        self.roadNumber = roadNumber\n",
    "        self.bpsDetectors = set()\n",
    "        self.spaceToSpaceIndex = dict()\n",
    "    def addBPSDetector(self, bpsDetector):\n",
    "        self.bpsDetectors.add(bpsDetector)\n",
    "    def indexDetectorSpaces(self):\n",
    "        spaceSet = set()\n",
    "        for bpsDetector in self.bpsDetectors:\n",
    "            spaceSet.add(bpsDetector.getMeter())\n",
    "        sortedSpaceSet = sorted(spaceSet)\n",
    "        for spaceIndex in range(len(sortedSpaceSet)):\n",
    "            self.spaceToSpaceIndex[sortedSpaceSet[spaceIndex]] = spaceIndex\n",
    "    def getBPSDetectors(self):\n",
    "        return self.bpsDetectors\n",
    "    def getSpaceToSpaceIndex(self):\n",
    "        return self.spaceToSpaceIndex\n",
    "    def __str__(self):\n",
    "        return \"roadNumber: {} | len(bpsDetectors): {} | len(spaceToSpaceIndex): {}\".format(self.roadNumber, len(self.bpsDetectors), len(self.spaceToSpaceIndex))"
   ]
  },
  {
   "cell_type": "code",
   "execution_count": null,
   "metadata": {},
   "outputs": [],
   "source": [
    "road = Road(12)\n",
    "road.addBPSDetector(bpsDetector)\n",
    "print(road)\n",
    "road.indexDetectorSpaces()\n",
    "print(road.getSpaceToSpaceIndex())"
   ]
  },
  {
   "cell_type": "code",
   "execution_count": null,
   "metadata": {
    "collapsed": true
   },
   "outputs": [],
   "source": [
    "class Detection:\n",
    "    code = None\n",
    "    space = None\n",
    "    time = None\n",
    "    speed = None\n",
    "    flow = None\n",
    "    def __init__(self, code, space, time, speed, flow):\n",
    "        self.code = code\n",
    "        self.space = space\n",
    "        self.time = time\n",
    "        self.speed = speed\n",
    "        self.flow = flow\n",
    "    def getCode(self):\n",
    "        return self.code\n",
    "    def getSpace(self):\n",
    "        return self.space\n",
    "    def getTime(self):\n",
    "        return self.time\n",
    "    def getSpeed(self):\n",
    "        return self.speed\n",
    "    def getFlow(self):\n",
    "        return self.flow\n",
    "    def __str__(self):\n",
    "        return \"code: {} | space: {} | time: {} | speed: {} | flow: {}\".format(self.code, self.space, self.time, self.speed, self.flow)"
   ]
  },
  {
   "cell_type": "code",
   "execution_count": null,
   "metadata": {},
   "outputs": [],
   "source": [
    "detection = Detection(\"00D00C03405B18200005\", 1234, 1440, 120, 17)\n",
    "print(detection)"
   ]
  },
  {
   "cell_type": "markdown",
   "metadata": {},
   "source": [
    "## Roads"
   ]
  },
  {
   "cell_type": "code",
   "execution_count": null,
   "metadata": {
    "collapsed": true
   },
   "outputs": [],
   "source": [
    "def readCSVToBPSCodes(fileName):\n",
    "    dprint(\"Starting readCSVToBPSCodes()\")\n",
    "    result = []\n",
    "    with open(fileName, \"r\") as csvfile:\n",
    "        reader = csv.reader(csvfile)\n",
    "        for row in reader:\n",
    "            if row[3] == \"R\":\n",
    "                result.append(row[0])\n",
    "    dprint(\"Ending readCSVToBPSCodes()\")\n",
    "    return result"
   ]
  },
  {
   "cell_type": "code",
   "execution_count": null,
   "metadata": {},
   "outputs": [],
   "source": [
    "bpsCodes = readCSVToBPSCodes(roadsFileName)"
   ]
  },
  {
   "cell_type": "code",
   "execution_count": null,
   "metadata": {},
   "outputs": [],
   "source": [
    "for bpsCode in bpsCodes:\n",
    "    print(bpsCode)"
   ]
  },
  {
   "cell_type": "code",
   "execution_count": null,
   "metadata": {
    "collapsed": true
   },
   "outputs": [],
   "source": [
    "def parseBPSCodesToRoads(bpsCodes):\n",
    "    dprint(\"Starting parseBPSCodesToRoads()\")\n",
    "    result = dict()\n",
    "    for bpsCode in bpsCodes:\n",
    "        bpsDetector = BPSDetector(bpsCode)\n",
    "        roadNumber = bpsDetector.getRoadNumber()\n",
    "        if roadNumber not in result:\n",
    "            road = Road(roadNumber)\n",
    "            result[roadNumber] = road\n",
    "        result[roadNumber].addBPSDetector(bpsDetector)\n",
    "    for key, value in result.items():\n",
    "        value.indexDetectorSpaces()\n",
    "    dprint(\"Ending parseBPSCodesToRoads()\")\n",
    "    return result"
   ]
  },
  {
   "cell_type": "code",
   "execution_count": null,
   "metadata": {},
   "outputs": [],
   "source": [
    "roads = parseBPSCodesToRoads(bpsCodes)"
   ]
  },
  {
   "cell_type": "code",
   "execution_count": null,
   "metadata": {},
   "outputs": [],
   "source": [
    "for value in sorted(roads.values(), key = lambda x:len(x.getBPSDetectors())):\n",
    "    print(value)"
   ]
  },
  {
   "cell_type": "markdown",
   "metadata": {},
   "source": [
    "## Speed and Flows"
   ]
  },
  {
   "cell_type": "code",
   "execution_count": null,
   "metadata": {
    "collapsed": true
   },
   "outputs": [],
   "source": [
    "def readCSVToDetections(fileName):\n",
    "    dprint(\"Starting readCSVToDetections()\")\n",
    "    result = set()\n",
    "    with open(fileName, \"r\") as csvfile:\n",
    "        reader = csv.reader(csvfile, delimiter = \" \")\n",
    "        next(reader, None)\n",
    "        next(reader, None)\n",
    "        next(reader, None)\n",
    "        for row in reader:\n",
    "            if len(row) > 1 and row[2] == \"R-\":\n",
    "                code = row[0]\n",
    "                space = int(row[1][:-1])\n",
    "                timeObject = timeModule.strptime(row[6], \"%H:%M\")\n",
    "                time = 60 * timeObject.tm_hour + timeObject.tm_min\n",
    "                speed = int(row[9])\n",
    "                flow = float(row[8]) / float(row[4])\n",
    "                detection = Detection(code, space, time, speed, flow)\n",
    "                result.add(detection)\n",
    "    dprint(\"Ending readCSVToDetections()\")\n",
    "    return result"
   ]
  },
  {
   "cell_type": "code",
   "execution_count": null,
   "metadata": {},
   "outputs": [],
   "source": [
    "detections = readCSVToDetections(detectionsFileName)"
   ]
  },
  {
   "cell_type": "code",
   "execution_count": null,
   "metadata": {},
   "outputs": [],
   "source": [
    "iterator = iter(detections)\n",
    "for i in range(min(len(detections), 300)):\n",
    "    detection = next(iterator)\n",
    "    print(detection)"
   ]
  },
  {
   "cell_type": "code",
   "execution_count": null,
   "metadata": {
    "collapsed": true
   },
   "outputs": [],
   "source": [
    "def parseDetectionsToSpeedFlows(detections, road):\n",
    "    dprint(\"Starting parseDetectionsToSpeedFlows()\")\n",
    "    spaceToSpaceIndex = road.getSpaceToSpaceIndex()\n",
    "    maxSpaceIndex = max(spaceToSpaceIndex.values()) + 1\n",
    "    maxTimeIndex = 1440 # Trivial now, but perhaps important later.\n",
    "    speeds = numpy.full((maxSpaceIndex, maxTimeIndex), numpy.nan, dtype = numpy.int32)\n",
    "    flows = numpy.full((maxSpaceIndex, maxTimeIndex), numpy.nan, dtype = numpy.int32)\n",
    "    minFoundSpaceIndex = maxSpaceIndex\n",
    "    maxFoundSpaceIndex = 0\n",
    "    minFoundTimeIndex = maxTimeIndex\n",
    "    maxFoundTimeIndex = 0\n",
    "    for detection in detections:\n",
    "        space = detection.getSpace()\n",
    "        time = detection.getTime()\n",
    "        speed = detection.getSpeed()\n",
    "        flow = detection.getFlow()\n",
    "        spaceIndex = spaceToSpaceIndex[space]\n",
    "        timeIndex = time # Trivial now, but perhaps important later.\n",
    "        if spaceIndex < minFoundSpaceIndex:\n",
    "            minFoundSpaceIndex = spaceIndex\n",
    "        if spaceIndex > maxFoundSpaceIndex:\n",
    "            maxFoundSpaceIndex = spaceIndex\n",
    "        if timeIndex < minFoundTimeIndex:\n",
    "            minFoundTimeIndex = timeIndex\n",
    "        if timeIndex > maxFoundTimeIndex:\n",
    "            maxFoundTimeIndex = timeIndex\n",
    "        speeds[spaceIndex, timeIndex] = speed\n",
    "        flows[spaceIndex, timeIndex] = flow\n",
    "    speeds = speeds[minFoundSpaceIndex:maxFoundSpaceIndex + 1, minFoundTimeIndex:maxFoundTimeIndex + 1]\n",
    "    flows = flows[minFoundSpaceIndex:maxFoundSpaceIndex + 1, minFoundTimeIndex:maxFoundTimeIndex + 1]\n",
    "    dprint(\"Ending parseDetectionsToSpeedFlows()\")\n",
    "    return speeds, flows, minFoundSpaceIndex, maxFoundSpaceIndex, minFoundTimeIndex, maxFoundTimeIndex"
   ]
  },
  {
   "cell_type": "code",
   "execution_count": null,
   "metadata": {},
   "outputs": [],
   "source": [
    "speeds, flows, minSpaceIndex, maxSpaceIndex, minTimeIndex, maxTimeIndex = parseDetectionsToSpeedFlows(detections, roads[roadNumber])"
   ]
  },
  {
   "cell_type": "code",
   "execution_count": null,
   "metadata": {},
   "outputs": [],
   "source": [
    "print(speeds.shape)\n",
    "print(flows.shape)\n",
    "print(minSpaceIndex)\n",
    "print(maxSpaceIndex)\n",
    "print(minTimeIndex)\n",
    "print(maxTimeIndex)\n",
    "matplotlib.pyplot.imshow(speeds, aspect = \"auto\")\n",
    "matplotlib.pyplot.colorbar()\n",
    "matplotlib.pyplot.show()\n",
    "matplotlib.pyplot.imshow(flows, aspect = \"auto\")\n",
    "matplotlib.pyplot.colorbar()\n",
    "matplotlib.pyplot.show()"
   ]
  },
  {
   "cell_type": "code",
   "execution_count": null,
   "metadata": {
    "collapsed": true
   },
   "outputs": [],
   "source": [
    "def removeLowFlowTimes(speeds, flows):\n",
    "    dprint(\"Starting removeLowFlowTimes()\")\n",
    "    mask = numpy.nanmean(flows, axis = 0) > 10\n",
    "    speeds = speeds[:,mask]\n",
    "    flows = flows[:,mask]\n",
    "    dprint(\"Ending removeLowFlowTimes()\")\n",
    "    return speeds, flows, mask"
   ]
  },
  {
   "cell_type": "code",
   "execution_count": null,
   "metadata": {},
   "outputs": [],
   "source": [
    "speedsHighFlow, flowsHighFlow, maskHighFlow = removeLowFlowTimes(speeds, flows) ## Do something with Mask"
   ]
  },
  {
   "cell_type": "code",
   "execution_count": null,
   "metadata": {},
   "outputs": [],
   "source": [
    "print(speedsHighFlow.shape)\n",
    "print(flowsHighFlow.shape)\n",
    "print(sum(maskHighFlow) / (sum(maskHighFlow) + sum(~maskHighFlow)))\n",
    "matplotlib.pyplot.imshow(speedsHighFlow, aspect = \"auto\")\n",
    "matplotlib.pyplot.colorbar()\n",
    "matplotlib.pyplot.show()\n",
    "matplotlib.pyplot.imshow(flowsHighFlow, aspect = \"auto\")\n",
    "matplotlib.pyplot.colorbar()\n",
    "matplotlib.pyplot.show()"
   ]
  },
  {
   "cell_type": "code",
   "execution_count": null,
   "metadata": {
    "collapsed": true
   },
   "outputs": [],
   "source": [
    "def removeMissingDetectors(speeds, flows):\n",
    "    dprint(\"Starting removeMissingDetectors()\")\n",
    "    mask = ~numpy.isnan(speeds).all(axis = 1)\n",
    "    speeds = speeds[mask]\n",
    "    flows = flows[mask]\n",
    "    dprint(\"Ending removeMissingDetectors()\")\n",
    "    return speeds, flows, mask"
   ]
  },
  {
   "cell_type": "code",
   "execution_count": null,
   "metadata": {},
   "outputs": [],
   "source": [
    "speedsWorkingDetectors, flowsWorkingDetectors, maskWorkingDetectors = removeMissingDetectors(speeds, flows) ## Do something with Mask"
   ]
  },
  {
   "cell_type": "code",
   "execution_count": null,
   "metadata": {},
   "outputs": [],
   "source": [
    "print(speedsWorkingDetectors.shape)\n",
    "print(flowsWorkingDetectors.shape)\n",
    "print(sum(maskWorkingDetectors) / (sum(maskWorkingDetectors) + sum(~maskWorkingDetectors)))\n",
    "matplotlib.pyplot.imshow(speedsWorkingDetectors, aspect = \"auto\")\n",
    "matplotlib.pyplot.colorbar()\n",
    "matplotlib.pyplot.show()\n",
    "matplotlib.pyplot.imshow(flowsWorkingDetectors, aspect = \"auto\")\n",
    "matplotlib.pyplot.colorbar()\n",
    "matplotlib.pyplot.show()"
   ]
  },
  {
   "cell_type": "markdown",
   "metadata": {},
   "source": [
    "## Congestion"
   ]
  },
  {
   "cell_type": "code",
   "execution_count": null,
   "metadata": {
    "collapsed": true
   },
   "outputs": [],
   "source": [
    "def parseSpeedFlowsToCongestions(speeds, flows):\n",
    "    dprint(\"Starting parseSpeedFlowsToCongestions()\")\n",
    "    congestions = speeds / 65# + flows / 40\n",
    "    dprint(\"Ending parseSpeedFlowsToCongestions()\")\n",
    "    return congestions"
   ]
  },
  {
   "cell_type": "code",
   "execution_count": null,
   "metadata": {},
   "outputs": [],
   "source": [
    "congestions = parseSpeedFlowsToCongestions(speedsWorkingDetectors, flowsWorkingDetectors)"
   ]
  },
  {
   "cell_type": "code",
   "execution_count": null,
   "metadata": {},
   "outputs": [],
   "source": [
    "print(congestions.shape)\n",
    "matplotlib.pyplot.imshow(congestions, aspect = \"auto\")\n",
    "matplotlib.pyplot.colorbar()\n",
    "matplotlib.pyplot.show()"
   ]
  },
  {
   "cell_type": "code",
   "execution_count": null,
   "metadata": {
    "collapsed": true
   },
   "outputs": [],
   "source": [
    "def interpolateMissingValues(congestions):\n",
    "    dprint(\"Starting interpolateMissingValues()\")\n",
    "    x = numpy.arange(0, congestions.shape[1])\n",
    "    y = numpy.arange(0, congestions.shape[0])\n",
    "    congestionsMask = numpy.ma.masked_invalid(congestions)\n",
    "    xx, yy = numpy.meshgrid(x, y)\n",
    "    x1 = xx[~congestionsMask.mask]\n",
    "    y1 = yy[~congestionsMask.mask]\n",
    "    newarr = congestions[~congestionsMask.mask]\n",
    "    congestions = scipy.interpolate.griddata((x1, y1), newarr.ravel(), (xx, yy), method = \"cubic\")\n",
    "    dprint(\"Ending interpolateMissingValues()\")\n",
    "    return congestions"
   ]
  },
  {
   "cell_type": "code",
   "execution_count": null,
   "metadata": {},
   "outputs": [],
   "source": [
    "congestionsWithoutMissingValues = interpolateMissingValues(congestions)"
   ]
  },
  {
   "cell_type": "code",
   "execution_count": null,
   "metadata": {},
   "outputs": [],
   "source": [
    "print(congestionsWithoutMissingValues.shape)\n",
    "matplotlib.pyplot.imshow(congestionsWithoutMissingValues, aspect = \"auto\")\n",
    "matplotlib.pyplot.colorbar()\n",
    "matplotlib.pyplot.show()"
   ]
  },
  {
   "cell_type": "code",
   "execution_count": null,
   "metadata": {
    "collapsed": true
   },
   "outputs": [],
   "source": [
    "def applySmoothingFilter(congestions):\n",
    "    dprint(\"Starting applySmoothingFilter()\")\n",
    "    #congestions = scipy.ndimage.filters.gaussian_filter(congestions, 5)\n",
    "    congestions = scipy.ndimage.filters.uniform_filter(congestions, [10, 20])\n",
    "    dprint(\"Ending applySmoothingFilter()\")\n",
    "    return congestions"
   ]
  },
  {
   "cell_type": "code",
   "execution_count": null,
   "metadata": {},
   "outputs": [],
   "source": [
    "congestionsSmoothed = applySmoothingFilter(congestionsWithoutMissingValues)"
   ]
  },
  {
   "cell_type": "code",
   "execution_count": null,
   "metadata": {},
   "outputs": [],
   "source": [
    "print(congestionsSmoothed.shape)\n",
    "matplotlib.pyplot.imshow(congestionsSmoothed, aspect = \"auto\")\n",
    "matplotlib.pyplot.colorbar()\n",
    "matplotlib.pyplot.show()"
   ]
  },
  {
   "cell_type": "markdown",
   "metadata": {},
   "source": [
    "## Congestion Filter"
   ]
  },
  {
   "cell_type": "code",
   "execution_count": null,
   "metadata": {},
   "outputs": [],
   "source": [
    "testDataArray = numpy.random.rand(16,9)\n",
    "print(testDataArray >= 0.9)"
   ]
  },
  {
   "cell_type": "code",
   "execution_count": null,
   "metadata": {
    "collapsed": true
   },
   "outputs": [],
   "source": [
    "def addBoundaries(ax, boundaries):\n",
    "    rect = matplotlib.patches.Rectangle((\n",
    "        boundaries[2] - 0.5,\n",
    "        boundaries[0] - 0.5),\n",
    "        boundaries[3] - boundaries[2] + 1,\n",
    "        boundaries[1] - boundaries[0] + 1,\n",
    "        linewidth = 1,\n",
    "        edgecolor = \"r\",\n",
    "        hatch = \"//\",\n",
    "        facecolor = \"none\")\n",
    "    ax.add_patch(rect)"
   ]
  },
  {
   "cell_type": "code",
   "execution_count": null,
   "metadata": {
    "collapsed": true
   },
   "outputs": [],
   "source": [
    "def showDataWithBoundaries(dataArray, boundariesList):\n",
    "    fig, ax = matplotlib.pyplot.subplots(1)\n",
    "    ax.imshow(dataArray, aspect = \"auto\")\n",
    "    for i in range(len(boundariesList)):\n",
    "        addBoundaries(ax, boundariesList[i])\n",
    "    matplotlib.pyplot.show()"
   ]
  },
  {
   "cell_type": "code",
   "execution_count": null,
   "metadata": {
    "collapsed": true
   },
   "outputs": [],
   "source": [
    "def scanForBoundaries(dataArray, boundaries = None, threshold = 1, depth = 0):\n",
    "    dprint(\"Starting scanForBoundaries()\", depth)\n",
    "    if boundaries is None:\n",
    "        boundaries = [0, dataArray.shape[0] - 1, 0, dataArray.shape[1] - 1]\n",
    "    boundariesList = []\n",
    "    subArray = dataArray[boundaries[0]:boundaries[1] + 1, boundaries[2]:boundaries[3] + 1]\n",
    "    arrayBoolean = numpy.any(subArray < threshold, depth % 2)\n",
    "    if depth % 2:\n",
    "        length = boundaries[1] + 1 - boundaries[0]\n",
    "    else:\n",
    "        length = boundaries[3] + 1 - boundaries[2]\n",
    "    started = False\n",
    "    if length > 1:\n",
    "        childBoundaries = boundaries[:]\n",
    "        for i in range(length):\n",
    "            if arrayBoolean[i] and not started:\n",
    "                dprint(\"Found start: \" + str(i), depth)\n",
    "                if depth % 2:\n",
    "                    childBoundaries[0] = boundaries[0] + i\n",
    "                else:\n",
    "                    childBoundaries[2] = boundaries[2] + i\n",
    "                started = True\n",
    "            elif not arrayBoolean[i] and started:\n",
    "                dprint(\"Found stop: \" + str(i - 1), depth)\n",
    "                if depth % 2:\n",
    "                    childBoundaries[1] = boundaries[0] + i - 1\n",
    "                else:\n",
    "                    childBoundaries[3] = boundaries[2] + i - 1\n",
    "                started = False\n",
    "                boundariesList.append(childBoundaries[:])\n",
    "        if started:\n",
    "            dprint(\"Found stop at end.\", depth)\n",
    "            if depth % 2:\n",
    "                childBoundaries[1] = boundaries[1]\n",
    "            else:\n",
    "                childBoundaries[3] = boundaries[3]\n",
    "            boundariesList.append(childBoundaries)\n",
    "    else:\n",
    "        dprint(\"Length is one\", depth)\n",
    "        boundariesList.append(boundaries)\n",
    "    dprint(\"Ending scanForBoundaries()\", depth)\n",
    "    return boundariesList"
   ]
  },
  {
   "cell_type": "code",
   "execution_count": null,
   "metadata": {},
   "outputs": [],
   "source": [
    "scanForBoundaries(testDataArray, threshold = 0.1, depth = 0)"
   ]
  },
  {
   "cell_type": "code",
   "execution_count": null,
   "metadata": {
    "collapsed": true
   },
   "outputs": [],
   "source": [
    "def recursiveScanForBoundaries(dataArray, boundaries = None, depth = 0, parentLength = 0, threshold = 1): # Remove copies?\n",
    "    dprint(\"Starting recursiveScanForBoundaries()\", depth)\n",
    "    dprint(\"Direction: \" + str(depth % 2), depth)\n",
    "    result = []\n",
    "    boundariesList = scanForBoundaries(dataArray, boundaries, threshold, depth)\n",
    "    if debugMode:\n",
    "        showDataWithBoundaries(dataArray, boundariesList)\n",
    "    length = len(boundariesList)\n",
    "    dprint(\"length: \" + str(length) + \"| parentLength: \" + str(parentLength), depth)\n",
    "    if length == 0:\n",
    "        dprint(\"Error: nothing found...\", depth) # Throw Exception?\n",
    "    elif length == 1 and parentLength == 1:\n",
    "        dprint(\"Done: \" + str(boundariesList[0]), depth)\n",
    "        return boundariesList\n",
    "    else:\n",
    "        dprint(\"Scanning children...\", depth)\n",
    "        parentLength = length;\n",
    "        childDepth = depth + 1;\n",
    "        for i in range(length):\n",
    "            dprint(\"Child: \" + str(i), depth)\n",
    "            childBoundaries = boundariesList[i][:]\n",
    "            result += recursiveScanForBoundaries(dataArray, childBoundaries, childDepth, parentLength, threshold)\n",
    "    dprint(\"Ending recursiveScanForBoundaries()\", depth)\n",
    "    return result"
   ]
  },
  {
   "cell_type": "code",
   "execution_count": null,
   "metadata": {},
   "outputs": [],
   "source": [
    "testBoundariesList = recursiveScanForBoundaries(testDataArray, threshold = 0.1)"
   ]
  },
  {
   "cell_type": "code",
   "execution_count": null,
   "metadata": {},
   "outputs": [],
   "source": [
    "testBoundariesList"
   ]
  },
  {
   "cell_type": "code",
   "execution_count": null,
   "metadata": {},
   "outputs": [],
   "source": [
    "showDataWithBoundaries(testDataArray, testBoundariesList)\n",
    "showDataWithBoundaries(testDataArray < 0.1, testBoundariesList)"
   ]
  },
  {
   "cell_type": "code",
   "execution_count": null,
   "metadata": {
    "collapsed": true
   },
   "outputs": [],
   "source": [
    "debugMode = False;"
   ]
  },
  {
   "cell_type": "code",
   "execution_count": null,
   "metadata": {
    "collapsed": true
   },
   "outputs": [],
   "source": [
    "congestionBoundariesList = recursiveScanForBoundaries(congestionsSmoothed)"
   ]
  },
  {
   "cell_type": "code",
   "execution_count": null,
   "metadata": {},
   "outputs": [],
   "source": [
    "print(congestionBoundariesList)"
   ]
  },
  {
   "cell_type": "code",
   "execution_count": null,
   "metadata": {
    "collapsed": true
   },
   "outputs": [],
   "source": [
    "def filterLargeCongestions(congestionBoundariesList):\n",
    "    result = []\n",
    "    for congestionBoundaries in congestionBoundariesList:\n",
    "        size = (congestionBoundaries[1] - congestionBoundaries[0]) * (congestionBoundaries[3] - congestionBoundaries[2])\n",
    "        if size > 1000:\n",
    "            result.append(congestionBoundaries)\n",
    "    return result"
   ]
  },
  {
   "cell_type": "code",
   "execution_count": null,
   "metadata": {
    "collapsed": true
   },
   "outputs": [],
   "source": [
    "congestionBoundariesListFiltered = filterLargeCongestions(congestionBoundariesList)"
   ]
  },
  {
   "cell_type": "code",
   "execution_count": null,
   "metadata": {},
   "outputs": [],
   "source": [
    "print(congestionBoundariesListFiltered)"
   ]
  },
  {
   "cell_type": "code",
   "execution_count": null,
   "metadata": {
    "collapsed": true
   },
   "outputs": [],
   "source": [
    "def addMargins(congestionBoundariesList): # TODO: implement\n",
    "    result = []\n",
    "    marginSpace = 10\n",
    "    marginTime = 20\n",
    "    for congestionBoundaries in congestionBoundariesList:\n",
    "        congestionBoundaries[0] = max(minSpaceIndex, congestionBoundaries[0] - marginSpace)\n",
    "        congestionBoundaries[1] = min(maxSpaceIndex, congestionBoundaries[1] + marginSpace)\n",
    "        congestionBoundaries[2] = max(minTimeIndex, congestionBoundaries[2] - marginTime)\n",
    "        congestionBoundaries[3] = min(maxTimeIndex, congestionBoundaries[3] + marginTime)\n",
    "        result.append(congestionBoundaries)\n",
    "    return result"
   ]
  },
  {
   "cell_type": "code",
   "execution_count": null,
   "metadata": {
    "collapsed": true
   },
   "outputs": [],
   "source": [
    "congestionBoundariesListWithMargins = addMargins(congestionBoundariesListFiltered)"
   ]
  },
  {
   "cell_type": "code",
   "execution_count": null,
   "metadata": {},
   "outputs": [],
   "source": [
    "print(congestionBoundariesListWithMargins)"
   ]
  },
  {
   "cell_type": "code",
   "execution_count": null,
   "metadata": {},
   "outputs": [],
   "source": [
    "showDataWithBoundaries(congestionsSmoothed, congestionBoundariesListWithMargins)\n",
    "showDataWithBoundaries(congestionsSmoothed < 1, congestionBoundariesList)"
   ]
  },
  {
   "cell_type": "code",
   "execution_count": null,
   "metadata": {},
   "outputs": [],
   "source": [
    "showDataWithBoundaries(speeds, congestionBoundariesListWithMargins)"
   ]
  },
  {
   "cell_type": "code",
   "execution_count": null,
   "metadata": {},
   "outputs": [],
   "source": [
    "def writeSpeedsAndFlowsToCSV(speeds, flows, congestionBoundariesList, outputDirectory):\n",
    "    for congestionBoundaries in congestionBoundariesList:\n",
    "        minSpaceIndex = congestionBoundaries[0] # Index to Space\n",
    "        maxSpaceIndex = congestionBoundaries[1]\n",
    "        minTimeIndex = congestionBoundaries[2] # Index to Time\n",
    "        maxTimeIndex = congestionBoundaries[3]\n",
    "        speedsFileName = outputDirectory + \"\\\\\" + str(date) + \"_\" + str(roadNumber) + \"_s_\" + str(minSpaceIndex) + \"-\" + str(maxSpaceIndex) + \"_\" + str(minTimeIndex) + \"-\" + str(maxTimeIndex) + \".csv.gz\"\n",
    "        flowsFileName = outputDirectory + \"\\\\\" + str(date) + \"_\" + str(roadNumber) + \"_f_\" + str(minSpaceIndex) + \"-\" + str(maxSpaceIndex) + \"_\" + str(minTimeIndex) + \"-\" + str(maxTimeIndex) + \".csv.gz\"\n",
    "        boundedSpeeds = speeds[minSpaceIndex:maxSpaceIndex, minTimeIndex:maxTimeIndex]\n",
    "        boundedFlows = flows[minSpaceIndex:maxSpaceIndex, minTimeIndex:maxTimeIndex]\n",
    "        numpy.savetxt(speedsFileName, boundedSpeeds, fmt = \"%d\", delimiter = \",\")\n",
    "        numpy.savetxt(flowsFileName, boundedFlows, fmt = \"%d\", delimiter = \",\")"
   ]
  },
  {
   "cell_type": "code",
   "execution_count": null,
   "metadata": {},
   "outputs": [],
   "source": [
    "writeSpeedsAndFlowsToCSV(speeds, flows, congestionBoundariesListWithMargins, outputDirectory)"
   ]
  },
  {
   "cell_type": "markdown",
   "metadata": {},
   "source": [
    "End of Notebook"
   ]
  }
 ],
 "metadata": {
  "kernelspec": {
   "display_name": "Python 3",
   "language": "python",
   "name": "python3"
  },
  "language_info": {
   "codemirror_mode": {
    "name": "ipython",
    "version": 3
   },
   "file_extension": ".py",
   "mimetype": "text/x-python",
   "name": "python",
   "nbconvert_exporter": "python",
   "pygments_lexer": "ipython3",
   "version": "3.6.1"
  }
 },
 "nbformat": 4,
 "nbformat_minor": 2
}
